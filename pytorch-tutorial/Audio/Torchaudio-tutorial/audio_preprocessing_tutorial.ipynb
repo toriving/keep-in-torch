{
  "nbformat": 4,
  "nbformat_minor": 0,
  "metadata": {
    "kernelspec": {
      "display_name": "Python 3",
      "language": "python",
      "name": "python3"
    },
    "language_info": {
      "codemirror_mode": {
        "name": "ipython",
        "version": 3
      },
      "file_extension": ".py",
      "mimetype": "text/x-python",
      "name": "python",
      "nbconvert_exporter": "python",
      "pygments_lexer": "ipython3",
      "version": "3.6.8"
    },
    "colab": {
      "name": "audio_preprocessing_tutorial.ipynb",
      "provenance": []
    },
    "accelerator": "GPU",
    "widgets": {
      "application/vnd.jupyter.widget-state+json": {
        "a7db6fefdf6a4671bf7c05dfdc3a0fcd": {
          "model_module": "@jupyter-widgets/controls",
          "model_name": "HBoxModel",
          "state": {
            "_view_name": "HBoxView",
            "_dom_classes": [],
            "_model_name": "HBoxModel",
            "_view_module": "@jupyter-widgets/controls",
            "_model_module_version": "1.5.0",
            "_view_count": null,
            "_view_module_version": "1.5.0",
            "box_style": "",
            "layout": "IPY_MODEL_07178de77f594f95a705a1497b8dd42b",
            "_model_module": "@jupyter-widgets/controls",
            "children": [
              "IPY_MODEL_280b0552e0d14892bca684a7f6ffeda4",
              "IPY_MODEL_10266a9ba75d4d17b081a921468eeb87"
            ]
          }
        },
        "07178de77f594f95a705a1497b8dd42b": {
          "model_module": "@jupyter-widgets/base",
          "model_name": "LayoutModel",
          "state": {
            "_view_name": "LayoutView",
            "grid_template_rows": null,
            "right": null,
            "justify_content": null,
            "_view_module": "@jupyter-widgets/base",
            "overflow": null,
            "_model_module_version": "1.2.0",
            "_view_count": null,
            "flex_flow": null,
            "width": null,
            "min_width": null,
            "border": null,
            "align_items": null,
            "bottom": null,
            "_model_module": "@jupyter-widgets/base",
            "top": null,
            "grid_column": null,
            "overflow_y": null,
            "overflow_x": null,
            "grid_auto_flow": null,
            "grid_area": null,
            "grid_template_columns": null,
            "flex": null,
            "_model_name": "LayoutModel",
            "justify_items": null,
            "grid_row": null,
            "max_height": null,
            "align_content": null,
            "visibility": null,
            "align_self": null,
            "height": null,
            "min_height": null,
            "padding": null,
            "grid_auto_rows": null,
            "grid_gap": null,
            "max_width": null,
            "order": null,
            "_view_module_version": "1.2.0",
            "grid_template_areas": null,
            "object_position": null,
            "object_fit": null,
            "grid_auto_columns": null,
            "margin": null,
            "display": null,
            "left": null
          }
        },
        "280b0552e0d14892bca684a7f6ffeda4": {
          "model_module": "@jupyter-widgets/controls",
          "model_name": "FloatProgressModel",
          "state": {
            "_view_name": "ProgressView",
            "style": "IPY_MODEL_b2e53fd522ff49c9927e0abef566fcec",
            "_dom_classes": [],
            "description": "100%",
            "_model_name": "FloatProgressModel",
            "bar_style": "success",
            "max": 4703754,
            "_view_module": "@jupyter-widgets/controls",
            "_model_module_version": "1.5.0",
            "value": 4703754,
            "_view_count": null,
            "_view_module_version": "1.5.0",
            "orientation": "horizontal",
            "min": 0,
            "description_tooltip": null,
            "_model_module": "@jupyter-widgets/controls",
            "layout": "IPY_MODEL_acf684e68cff4c798a72bede99e5e480"
          }
        },
        "10266a9ba75d4d17b081a921468eeb87": {
          "model_module": "@jupyter-widgets/controls",
          "model_name": "HTMLModel",
          "state": {
            "_view_name": "HTMLView",
            "style": "IPY_MODEL_38fcd71adade44ab9aa0172b45c61a4b",
            "_dom_classes": [],
            "description": "",
            "_model_name": "HTMLModel",
            "placeholder": "​",
            "_view_module": "@jupyter-widgets/controls",
            "_model_module_version": "1.5.0",
            "value": " 4.49M/4.49M [00:02&lt;00:00, 1.99MB/s]",
            "_view_count": null,
            "_view_module_version": "1.5.0",
            "description_tooltip": null,
            "_model_module": "@jupyter-widgets/controls",
            "layout": "IPY_MODEL_d38bb25b6f134c2c885dd305b91a9847"
          }
        },
        "b2e53fd522ff49c9927e0abef566fcec": {
          "model_module": "@jupyter-widgets/controls",
          "model_name": "ProgressStyleModel",
          "state": {
            "_view_name": "StyleView",
            "_model_name": "ProgressStyleModel",
            "description_width": "initial",
            "_view_module": "@jupyter-widgets/base",
            "_model_module_version": "1.5.0",
            "_view_count": null,
            "_view_module_version": "1.2.0",
            "bar_color": null,
            "_model_module": "@jupyter-widgets/controls"
          }
        },
        "acf684e68cff4c798a72bede99e5e480": {
          "model_module": "@jupyter-widgets/base",
          "model_name": "LayoutModel",
          "state": {
            "_view_name": "LayoutView",
            "grid_template_rows": null,
            "right": null,
            "justify_content": null,
            "_view_module": "@jupyter-widgets/base",
            "overflow": null,
            "_model_module_version": "1.2.0",
            "_view_count": null,
            "flex_flow": null,
            "width": null,
            "min_width": null,
            "border": null,
            "align_items": null,
            "bottom": null,
            "_model_module": "@jupyter-widgets/base",
            "top": null,
            "grid_column": null,
            "overflow_y": null,
            "overflow_x": null,
            "grid_auto_flow": null,
            "grid_area": null,
            "grid_template_columns": null,
            "flex": null,
            "_model_name": "LayoutModel",
            "justify_items": null,
            "grid_row": null,
            "max_height": null,
            "align_content": null,
            "visibility": null,
            "align_self": null,
            "height": null,
            "min_height": null,
            "padding": null,
            "grid_auto_rows": null,
            "grid_gap": null,
            "max_width": null,
            "order": null,
            "_view_module_version": "1.2.0",
            "grid_template_areas": null,
            "object_position": null,
            "object_fit": null,
            "grid_auto_columns": null,
            "margin": null,
            "display": null,
            "left": null
          }
        },
        "38fcd71adade44ab9aa0172b45c61a4b": {
          "model_module": "@jupyter-widgets/controls",
          "model_name": "DescriptionStyleModel",
          "state": {
            "_view_name": "StyleView",
            "_model_name": "DescriptionStyleModel",
            "description_width": "",
            "_view_module": "@jupyter-widgets/base",
            "_model_module_version": "1.5.0",
            "_view_count": null,
            "_view_module_version": "1.2.0",
            "_model_module": "@jupyter-widgets/controls"
          }
        },
        "d38bb25b6f134c2c885dd305b91a9847": {
          "model_module": "@jupyter-widgets/base",
          "model_name": "LayoutModel",
          "state": {
            "_view_name": "LayoutView",
            "grid_template_rows": null,
            "right": null,
            "justify_content": null,
            "_view_module": "@jupyter-widgets/base",
            "overflow": null,
            "_model_module_version": "1.2.0",
            "_view_count": null,
            "flex_flow": null,
            "width": null,
            "min_width": null,
            "border": null,
            "align_items": null,
            "bottom": null,
            "_model_module": "@jupyter-widgets/base",
            "top": null,
            "grid_column": null,
            "overflow_y": null,
            "overflow_x": null,
            "grid_auto_flow": null,
            "grid_area": null,
            "grid_template_columns": null,
            "flex": null,
            "_model_name": "LayoutModel",
            "justify_items": null,
            "grid_row": null,
            "max_height": null,
            "align_content": null,
            "visibility": null,
            "align_self": null,
            "height": null,
            "min_height": null,
            "padding": null,
            "grid_auto_rows": null,
            "grid_gap": null,
            "max_width": null,
            "order": null,
            "_view_module_version": "1.2.0",
            "grid_template_areas": null,
            "object_position": null,
            "object_fit": null,
            "grid_auto_columns": null,
            "margin": null,
            "display": null,
            "left": null
          }
        }
      }
    }
  },
  "cells": [
    {
      "cell_type": "code",
      "metadata": {
        "id": "U8d0VbnUIiLd"
      },
      "source": [
        "%matplotlib inline"
      ],
      "execution_count": 1,
      "outputs": []
    },
    {
      "cell_type": "markdown",
      "metadata": {
        "id": "zMNxjuvtIiLg"
      },
      "source": [
        "\n",
        "torchaudio Tutorial\n",
        "===================\n",
        "\n",
        "PyTorch is an open source deep learning platform that provides a\n",
        "seamless path from research prototyping to production deployment with\n",
        "GPU support.\n",
        "\n",
        "Significant effort in solving machine learning problems goes into data\n",
        "preparation. ``torchaudio`` leverages PyTorch’s GPU support, and provides\n",
        "many tools to make data loading easy and more readable. In this\n",
        "tutorial, we will see how to load and preprocess data from a simple\n",
        "dataset.\n",
        "\n",
        "For this tutorial, please make sure the ``matplotlib`` package is\n",
        "installed for easier visualization.\n",
        "\n",
        "\n"
      ]
    },
    {
      "cell_type": "code",
      "metadata": {
        "id": "0RKzVy4hI1XX",
        "outputId": "35ac346d-f68b-4109-f88d-af991857cbd8",
        "colab": {
          "base_uri": "https://localhost:8080/",
          "height": 161
        }
      },
      "source": [
        "!pip install torchaudio"
      ],
      "execution_count": 4,
      "outputs": [
        {
          "output_type": "stream",
          "text": [
            "Collecting torchaudio\n",
            "\u001b[?25l  Downloading https://files.pythonhosted.org/packages/96/34/c651430dea231e382ddf2eb5773239bf4885d9528f640a4ef39b12894cb8/torchaudio-0.6.0-cp36-cp36m-manylinux1_x86_64.whl (6.7MB)\n",
            "\u001b[K     |████████████████████████████████| 6.7MB 2.8MB/s \n",
            "\u001b[?25hRequirement already satisfied: torch==1.6.0 in /usr/local/lib/python3.6/dist-packages (from torchaudio) (1.6.0+cu101)\n",
            "Requirement already satisfied: numpy in /usr/local/lib/python3.6/dist-packages (from torch==1.6.0->torchaudio) (1.18.5)\n",
            "Requirement already satisfied: future in /usr/local/lib/python3.6/dist-packages (from torch==1.6.0->torchaudio) (0.16.0)\n",
            "Installing collected packages: torchaudio\n",
            "Successfully installed torchaudio-0.6.0\n"
          ],
          "name": "stdout"
        }
      ]
    },
    {
      "cell_type": "code",
      "metadata": {
        "id": "PIHjwj57IiLg"
      },
      "source": [
        "import torch\n",
        "import torchaudio\n",
        "import matplotlib.pyplot as plt"
      ],
      "execution_count": 5,
      "outputs": []
    },
    {
      "cell_type": "markdown",
      "metadata": {
        "id": "yUQDBh3xIiLi"
      },
      "source": [
        "Opening a file\n",
        "-----------------\n",
        "\n",
        "``torchaudio`` also supports loading sound files in the wav and mp3 format. We\n",
        "call waveform the resulting raw audio signal.\n",
        "\n",
        "\n"
      ]
    },
    {
      "cell_type": "code",
      "metadata": {
        "id": "FnhB3xXLJFzY",
        "outputId": "486f21ee-327d-4236-86ed-097a6d649a4b",
        "colab": {
          "base_uri": "https://localhost:8080/",
          "height": 215
        }
      },
      "source": [
        "!wget https://file-examples-com.github.io/uploads/2017/11/file_example_WAV_10MG.wav"
      ],
      "execution_count": 7,
      "outputs": [
        {
          "output_type": "stream",
          "text": [
            "--2020-10-10 15:32:38--  https://file-examples-com.github.io/uploads/2017/11/file_example_WAV_10MG.wav\n",
            "Resolving file-examples-com.github.io (file-examples-com.github.io)... 185.199.108.153, 185.199.109.153, 185.199.110.153, ...\n",
            "Connecting to file-examples-com.github.io (file-examples-com.github.io)|185.199.108.153|:443... connected.\n",
            "HTTP request sent, awaiting response... 200 OK\n",
            "Length: 10406738 (9.9M) [audio/wav]\n",
            "Saving to: ‘file_example_WAV_10MG.wav’\n",
            "\n",
            "file_example_WAV_10 100%[===================>]   9.92M  20.1MB/s    in 0.5s    \n",
            "\n",
            "2020-10-10 15:32:38 (20.1 MB/s) - ‘file_example_WAV_10MG.wav’ saved [10406738/10406738]\n",
            "\n"
          ],
          "name": "stdout"
        }
      ]
    },
    {
      "cell_type": "code",
      "metadata": {
        "id": "1WZhVQDOIiLj",
        "outputId": "8451d2c0-926a-44cd-dac8-8ebc204de8f1",
        "colab": {
          "base_uri": "https://localhost:8080/",
          "height": 350
        }
      },
      "source": [
        "filename = \"file_example_WAV_10MG.wav\"\n",
        "waveform, sample_rate = torchaudio.load(filename)\n",
        "\n",
        "print(\"Shape of waveform: {}\".format(waveform.size()))\n",
        "print(\"Sample rate of waveform: {}\".format(sample_rate))\n",
        "\n",
        "plt.figure()\n",
        "plt.plot(waveform.t().numpy())"
      ],
      "execution_count": 8,
      "outputs": [
        {
          "output_type": "stream",
          "text": [
            "Shape of waveform: torch.Size([2, 2601617])\n",
            "Sample rate of waveform: 44100\n"
          ],
          "name": "stdout"
        },
        {
          "output_type": "execute_result",
          "data": {
            "text/plain": [
              "[<matplotlib.lines.Line2D at 0x7f097972a4a8>,\n",
              " <matplotlib.lines.Line2D at 0x7f097972a5c0>]"
            ]
          },
          "metadata": {
            "tags": []
          },
          "execution_count": 8
        },
        {
          "output_type": "display_data",
          "data": {
            "image/png": "[encoded data removed]",
            "text/plain": [
              "<Figure size 432x288 with 1 Axes>"
            ]
          },
          "metadata": {
            "tags": [],
            "needs_background": "light"
          }
        }
      ]
    },
    {
      "cell_type": "code",
      "metadata": {
        "id": "mDHTa9DzJVHj",
        "outputId": "a36dc4f7-a795-4353-9389-9c424ce0a356",
        "colab": {
          "base_uri": "https://localhost:8080/",
          "height": 53
        }
      },
      "source": [
        "print(waveform)"
      ],
      "execution_count": 9,
      "outputs": [
        {
          "output_type": "stream",
          "text": [
            "tensor([[-0.0062, -0.0071, -0.0058,  ...,  0.0197,  0.0207,  0.0190],\n",
            "        [ 0.0007,  0.0010,  0.0010,  ...,  0.0206,  0.0216,  0.0198]])\n"
          ],
          "name": "stdout"
        }
      ]
    },
    {
      "cell_type": "markdown",
      "metadata": {
        "id": "mPI5brYsIiLl"
      },
      "source": [
        "When you load a file in ``torchaudio``, you can optionally specify the backend to use either \n",
        "`SoX <https://pypi.org/project/sox/>`_ or `SoundFile <https://pypi.org/project/SoundFile/>`_ \n",
        "via ``torchaudio.set_audio_backend``. These backends are loaded lazily when needed.\n",
        "\n",
        "``torchaudio`` also makes JIT compilation optional for functions, and uses ``nn.Module`` where possible.\n",
        "\n"
      ]
    },
    {
      "cell_type": "markdown",
      "metadata": {
        "id": "oBEMCW7QIiLl"
      },
      "source": [
        "Transformations\n",
        "---------------\n",
        "\n",
        "``torchaudio`` supports a growing list of\n",
        "`transformations <https://pytorch.org/audio/transforms.html>`_.\n",
        "\n",
        "-  **Resample**: Resample waveform to a different sample rate.\n",
        "-  **Spectrogram**: Create a spectrogram from a waveform.\n",
        "-  **GriffinLim**: Compute waveform from a linear scale magnitude spectrogram using \n",
        "   the Griffin-Lim transformation.\n",
        "-  **ComputeDeltas**: Compute delta coefficients of a tensor, usually a spectrogram.\n",
        "-  **ComplexNorm**: Compute the norm of a complex tensor.\n",
        "-  **MelScale**: This turns a normal STFT into a Mel-frequency STFT,\n",
        "   using a conversion matrix.\n",
        "-  **AmplitudeToDB**: This turns a spectrogram from the\n",
        "   power/amplitude scale to the decibel scale.\n",
        "-  **MFCC**: Create the Mel-frequency cepstrum coefficients from a\n",
        "   waveform.\n",
        "-  **MelSpectrogram**: Create MEL Spectrograms from a waveform using the\n",
        "   STFT function in PyTorch.\n",
        "-  **MuLawEncoding**: Encode waveform based on mu-law companding.\n",
        "-  **MuLawDecoding**: Decode mu-law encoded waveform.\n",
        "-  **TimeStretch**: Stretch a spectrogram in time without modifying pitch for a given rate.\n",
        "-  **FrequencyMasking**: Apply masking to a spectrogram in the frequency domain.\n",
        "-  **TimeMasking**: Apply masking to a spectrogram in the time domain.\n",
        "\n",
        "Each transform supports batching: you can perform a transform on a single raw \n",
        "audio signal or spectrogram, or many of the same shape.\n",
        "\n",
        "Since all transforms are ``nn.Modules`` or ``jit.ScriptModules``, they can be\n",
        "used as part of a neural network at any point.\n",
        "\n",
        "\n"
      ]
    },
    {
      "cell_type": "markdown",
      "metadata": {
        "id": "CiBed5gbIiLl"
      },
      "source": [
        "To start, we can look at the log of the spectrogram on a log scale.\n",
        "\n",
        "\n"
      ]
    },
    {
      "cell_type": "code",
      "metadata": {
        "id": "qqQW6JfVIiLm",
        "outputId": "c24be6f6-bacf-40d7-97a8-8ce81b24da8e",
        "colab": {
          "base_uri": "https://localhost:8080/",
          "height": 93
        }
      },
      "source": [
        "specgram = torchaudio.transforms.Spectrogram()(waveform)\n",
        "\n",
        "print(\"Shape of spectrogram: {}\".format(specgram.size()))\n",
        "\n",
        "plt.figure()\n",
        "plt.imshow(specgram.log2()[0,:,:].numpy(), cmap='gray')"
      ],
      "execution_count": 10,
      "outputs": [
        {
          "output_type": "stream",
          "text": [
            "Shape of spectrogram: torch.Size([2, 201, 13009])\n"
          ],
          "name": "stdout"
        },
        {
          "output_type": "execute_result",
          "data": {
            "text/plain": [
              "<matplotlib.image.AxesImage at 0x7f0979247fd0>"
            ]
          },
          "metadata": {
            "tags": []
          },
          "execution_count": 10
        },
        {
          "output_type": "display_data",
          "data": {
            "image/png": "[encoded data removed]",
            "text/plain": [
              "<Figure size 432x288 with 1 Axes>"
            ]
          },
          "metadata": {
            "tags": [],
            "needs_background": "light"
          }
        }
      ]
    },
    {
      "cell_type": "markdown",
      "metadata": {
        "id": "2zinPWO-IiLo"
      },
      "source": [
        "Or we can look at the Mel Spectrogram on a log scale.\n",
        "\n",
        "\n"
      ]
    },
    {
      "cell_type": "code",
      "metadata": {
        "id": "EQ3BdZMGIiLo",
        "outputId": "86ab059d-3cac-4ad7-f052-60a49de877d2",
        "colab": {
          "base_uri": "https://localhost:8080/",
          "height": 73
        }
      },
      "source": [
        "specgram = torchaudio.transforms.MelSpectrogram()(waveform)\n",
        "\n",
        "print(\"Shape of spectrogram: {}\".format(specgram.size()))\n",
        "\n",
        "plt.figure()\n",
        "p = plt.imshow(specgram.log2()[0,:,:].detach().numpy(), cmap='gray')"
      ],
      "execution_count": 11,
      "outputs": [
        {
          "output_type": "stream",
          "text": [
            "Shape of spectrogram: torch.Size([2, 128, 13009])\n"
          ],
          "name": "stdout"
        },
        {
          "output_type": "display_data",
          "data": {
            "image/png": "[encoded data removed]",
            "text/plain": [
              "<Figure size 432x288 with 1 Axes>"
            ]
          },
          "metadata": {
            "tags": [],
            "needs_background": "light"
          }
        }
      ]
    },
    {
      "cell_type": "markdown",
      "metadata": {
        "id": "W006L40GIiLq"
      },
      "source": [
        "We can resample the waveform, one channel at a time.\n",
        "\n",
        "\n"
      ]
    },
    {
      "cell_type": "code",
      "metadata": {
        "id": "RzLm_KEXIiLq",
        "outputId": "1381bfba-dde0-4873-c495-e2746e8837ad",
        "colab": {
          "base_uri": "https://localhost:8080/",
          "height": 301
        }
      },
      "source": [
        "new_sample_rate = sample_rate/10\n",
        "\n",
        "# Since Resample applies to a single channel, we resample first channel here\n",
        "channel = 0\n",
        "transformed = torchaudio.transforms.Resample(sample_rate, new_sample_rate)(waveform[channel,:].view(1,-1))\n",
        "\n",
        "print(\"Shape of transformed waveform: {}\".format(transformed.size()))\n",
        "\n",
        "plt.figure()\n",
        "plt.plot(transformed[0,:].numpy())"
      ],
      "execution_count": 12,
      "outputs": [
        {
          "output_type": "stream",
          "text": [
            "Shape of transformed waveform: torch.Size([1, 260162])\n"
          ],
          "name": "stdout"
        },
        {
          "output_type": "execute_result",
          "data": {
            "text/plain": [
              "[<matplotlib.lines.Line2D at 0x7f097918c320>]"
            ]
          },
          "metadata": {
            "tags": []
          },
          "execution_count": 12
        },
        {
          "output_type": "display_data",
          "data": {
            "image/png": "[encoded data removed]",
            "text/plain": [
              "<Figure size 432x288 with 1 Axes>"
            ]
          },
          "metadata": {
            "tags": [],
            "needs_background": "light"
          }
        }
      ]
    },
    {
      "cell_type": "markdown",
      "metadata": {
        "id": "h4-iV0dwIiLs"
      },
      "source": [
        "As another example of transformations, we can encode the signal based on\n",
        "Mu-Law enconding. But to do so, we need the signal to be between -1 and\n",
        "1. Since the tensor is just a regular PyTorch tensor, we can apply\n",
        "standard operators on it.\n",
        "\n",
        "\n"
      ]
    },
    {
      "cell_type": "code",
      "metadata": {
        "id": "kfKcqLZcIiLt",
        "outputId": "638c8dc3-fd47-4132-9b03-b1d87dd2d6cd",
        "colab": {
          "base_uri": "https://localhost:8080/",
          "height": 71
        }
      },
      "source": [
        "# Let's check if the tensor is in the interval [-1,1]\n",
        "print(\"Min of waveform: {}\\nMax of waveform: {}\\nMean of waveform: {}\".format(waveform.min(), waveform.max(), waveform.mean()))"
      ],
      "execution_count": 13,
      "outputs": [
        {
          "output_type": "stream",
          "text": [
            "Min of waveform: -0.93975830078125\n",
            "Max of waveform: 0.978363037109375\n",
            "Mean of waveform: -1.1337975820424617e-06\n"
          ],
          "name": "stdout"
        }
      ]
    },
    {
      "cell_type": "markdown",
      "metadata": {
        "id": "Z-FLCDiMIiLv"
      },
      "source": [
        "Since the waveform is already between -1 and 1, we do not need to\n",
        "normalize it.\n",
        "\n",
        "\n"
      ]
    },
    {
      "cell_type": "code",
      "metadata": {
        "id": "kA0GNtruIiLv"
      },
      "source": [
        "def normalize(tensor):\n",
        "    # Subtract the mean, and scale to the interval [-1,1]\n",
        "    tensor_minusmean = tensor - tensor.mean()\n",
        "    return tensor_minusmean/tensor_minusmean.abs().max()\n",
        "\n",
        "# Let's normalize to the full interval [-1,1]\n",
        "# waveform = normalize(waveform)"
      ],
      "execution_count": 14,
      "outputs": []
    },
    {
      "cell_type": "markdown",
      "metadata": {
        "id": "vA5lQxoDIiLx"
      },
      "source": [
        "Let’s apply encode the waveform.\n",
        "\n",
        "\n"
      ]
    },
    {
      "cell_type": "code",
      "metadata": {
        "id": "pmsHhquMIiLx",
        "outputId": "470346b4-12fd-4146-8fb7-a8cc70c49f8b",
        "colab": {
          "base_uri": "https://localhost:8080/",
          "height": 314
        }
      },
      "source": [
        "transformed = torchaudio.transforms.MuLawEncoding()(waveform)\n",
        "\n",
        "print(\"Shape of transformed waveform: {}\".format(transformed.size()))\n",
        "\n",
        "plt.figure()\n",
        "plt.plot(transformed[0,:].numpy())"
      ],
      "execution_count": 15,
      "outputs": [
        {
          "output_type": "stream",
          "text": [
            "Shape of transformed waveform: torch.Size([2, 2601617])\n"
          ],
          "name": "stdout"
        },
        {
          "output_type": "execute_result",
          "data": {
            "text/plain": [
              "[<matplotlib.lines.Line2D at 0x7f09790a97b8>]"
            ]
          },
          "metadata": {
            "tags": []
          },
          "execution_count": 15
        },
        {
          "output_type": "display_data",
          "data": {
            "image/png": "[encoded data removed]",
            "text/plain": [
              "<Figure size 432x288 with 1 Axes>"
            ]
          },
          "metadata": {
            "tags": [],
            "needs_background": "light"
          }
        }
      ]
    },
    {
      "cell_type": "markdown",
      "metadata": {
        "id": "q260q6ECIiLz"
      },
      "source": [
        "And now decode.\n",
        "\n",
        "\n"
      ]
    },
    {
      "cell_type": "code",
      "metadata": {
        "id": "mC6iRnDkIiLz",
        "outputId": "ec2886de-8517-4871-aff3-33cb8f0b5da7",
        "colab": {
          "base_uri": "https://localhost:8080/",
          "height": 314
        }
      },
      "source": [
        "reconstructed = torchaudio.transforms.MuLawDecoding()(transformed)\n",
        "\n",
        "print(\"Shape of recovered waveform: {}\".format(reconstructed.size()))\n",
        "\n",
        "plt.figure()\n",
        "plt.plot(reconstructed[0,:].numpy())"
      ],
      "execution_count": 16,
      "outputs": [
        {
          "output_type": "stream",
          "text": [
            "Shape of recovered waveform: torch.Size([2, 2601617])\n"
          ],
          "name": "stdout"
        },
        {
          "output_type": "execute_result",
          "data": {
            "text/plain": [
              "[<matplotlib.lines.Line2D at 0x7f09792057b8>]"
            ]
          },
          "metadata": {
            "tags": []
          },
          "execution_count": 16
        },
        {
          "output_type": "display_data",
          "data": {
            "image/png": "[encoded data removed]",
            "text/plain": [
              "<Figure size 432x288 with 1 Axes>"
            ]
          },
          "metadata": {
            "tags": [],
            "needs_background": "light"
          }
        }
      ]
    },
    {
      "cell_type": "markdown",
      "metadata": {
        "id": "EKBZIqs7IiL2"
      },
      "source": [
        "We can finally compare the original waveform with its reconstructed\n",
        "version.\n",
        "\n",
        "\n"
      ]
    },
    {
      "cell_type": "code",
      "metadata": {
        "id": "mgHMuN2yIiL2",
        "outputId": "3168cca8-7531-41e7-a81e-6f6e2522e624",
        "colab": {
          "base_uri": "https://localhost:8080/",
          "height": 35
        }
      },
      "source": [
        "# Compute median relative difference\n",
        "err = ((waveform-reconstructed).abs() / waveform.abs()).median()\n",
        "\n",
        "print(\"Median relative difference between original and MuLaw reconstucted signals: {:.2%}\".format(err))"
      ],
      "execution_count": 17,
      "outputs": [
        {
          "output_type": "stream",
          "text": [
            "Median relative difference between original and MuLaw reconstucted signals: 1.22%\n"
          ],
          "name": "stdout"
        }
      ]
    },
    {
      "cell_type": "markdown",
      "metadata": {
        "id": "fuYLiULiIiL4"
      },
      "source": [
        "Functional\n",
        "---------------\n",
        "\n",
        "The transformations seen above rely on lower level stateless functions for their computations. \n",
        "These functions are available under ``torchaudio.functional``. The complete list is available \n",
        "`here <https://pytorch.org/audio/functional.html>`_ and includes:\n",
        "\n",
        "-  **istft**: Inverse short time Fourier Transform.\n",
        "-  **gain**: Applies amplification or attenuation to the whole waveform.\n",
        "-  **dither**: Increases the perceived dynamic range of audio stored at a\n",
        "   particular bit-depth.\n",
        "-  **compute_deltas**: Compute delta coefficients of a tensor.\n",
        "-  **equalizer_biquad**: Design biquad peaking equalizer filter and perform filtering.\n",
        "-  **lowpass_biquad**: Design biquad lowpass filter and perform filtering.\n",
        "-  **highpass_biquad**:Design biquad highpass filter and perform filtering.\n",
        "\n",
        "For example, let's try the `mu_law_encoding` functional:\n",
        "\n"
      ]
    },
    {
      "cell_type": "code",
      "metadata": {
        "id": "dz-eN8J1IiL5",
        "outputId": "f942dcb1-2645-49bd-8567-eb4b8004a247",
        "colab": {
          "base_uri": "https://localhost:8080/",
          "height": 314
        }
      },
      "source": [
        "mu_law_encoding_waveform = torchaudio.functional.mu_law_encoding(waveform, quantization_channels=256)\n",
        "\n",
        "print(\"Shape of transformed waveform: {}\".format(mu_law_encoding_waveform.size()))\n",
        "\n",
        "plt.figure()\n",
        "plt.plot(mu_law_encoding_waveform[0,:].numpy())"
      ],
      "execution_count": 18,
      "outputs": [
        {
          "output_type": "stream",
          "text": [
            "Shape of transformed waveform: torch.Size([2, 2601617])\n"
          ],
          "name": "stdout"
        },
        {
          "output_type": "execute_result",
          "data": {
            "text/plain": [
              "[<matplotlib.lines.Line2D at 0x7f0978fdb240>]"
            ]
          },
          "metadata": {
            "tags": []
          },
          "execution_count": 18
        },
        {
          "output_type": "display_data",
          "data": {
            "image/png": "[encoded data removed]",
            "text/plain": [
              "<Figure size 432x288 with 1 Axes>"
            ]
          },
          "metadata": {
            "tags": [],
            "needs_background": "light"
          }
        }
      ]
    },
    {
      "cell_type": "markdown",
      "metadata": {
        "id": "hOdsAD1qIiL7"
      },
      "source": [
        "You can see how the output fron ``torchaudio.functional.mu_law_encoding`` is the same as \n",
        "the output from ``torchaudio.transforms.MuLawEncoding``.\n",
        "\n",
        "Now let's experiment with a few of the other functionals and visualize their output. Taking our \n",
        "spectogram, we can compute it's deltas:\n",
        "\n"
      ]
    },
    {
      "cell_type": "code",
      "metadata": {
        "id": "G4vU3AJNIiL7",
        "outputId": "39b6e238-76a5-4e66-c989-5007a7828573",
        "colab": {
          "base_uri": "https://localhost:8080/",
          "height": 91
        }
      },
      "source": [
        "computed = torchaudio.functional.compute_deltas(specgram.contiguous(), win_length=3)\n",
        "print(\"Shape of computed deltas: {}\".format(computed.shape))\n",
        "\n",
        "plt.figure()\n",
        "plt.imshow(computed.log2()[0,:,:].detach().numpy(), cmap='gray')"
      ],
      "execution_count": 19,
      "outputs": [
        {
          "output_type": "stream",
          "text": [
            "Shape of computed deltas: torch.Size([2, 128, 13009])\n"
          ],
          "name": "stdout"
        },
        {
          "output_type": "execute_result",
          "data": {
            "text/plain": [
              "<matplotlib.image.AxesImage at 0x7f0978fb77b8>"
            ]
          },
          "metadata": {
            "tags": []
          },
          "execution_count": 19
        },
        {
          "output_type": "display_data",
          "data": {
            "image/png": "[encoded data removed]",
            "text/plain": [
              "<Figure size 432x288 with 1 Axes>"
            ]
          },
          "metadata": {
            "tags": [],
            "needs_background": "light"
          }
        }
      ]
    },
    {
      "cell_type": "markdown",
      "metadata": {
        "id": "ktAQFmv_IiL9"
      },
      "source": [
        "We can take the original waveform and apply different effects to it.\n",
        "\n",
        "\n"
      ]
    },
    {
      "cell_type": "code",
      "metadata": {
        "id": "mMGHZi06IiL9",
        "outputId": "9cffbc88-bef6-458b-d21f-8dd924fdc29d",
        "colab": {
          "base_uri": "https://localhost:8080/",
          "height": 125
        }
      },
      "source": [
        "gain_waveform = torchaudio.functional.gain(waveform, gain_db=5.0)\n",
        "print(\"Min of gain_waveform: {}\\nMax of gain_waveform: {}\\nMean of gain_waveform: {}\".format(gain_waveform.min(), gain_waveform.max(), gain_waveform.mean()))\n",
        "\n",
        "dither_waveform = torchaudio.functional.dither(waveform)\n",
        "print(\"Min of dither_waveform: {}\\nMax of dither_waveform: {}\\nMean of dither_waveform: {}\".format(dither_waveform.min(), dither_waveform.max(), dither_waveform.mean()))"
      ],
      "execution_count": 20,
      "outputs": [
        {
          "output_type": "stream",
          "text": [
            "Min of gain_waveform: -1.6711528301239014\n",
            "Max of gain_waveform: 1.7398028373718262\n",
            "Mean of gain_waveform: -2.016235384871834e-06\n",
            "Min of dither_waveform: -0.939697265625\n",
            "Max of dither_waveform: 0.97833251953125\n",
            "Mean of dither_waveform: 1.3957178452983499e-05\n"
          ],
          "name": "stdout"
        }
      ]
    },
    {
      "cell_type": "markdown",
      "metadata": {
        "id": "2eIafEnGIiL-"
      },
      "source": [
        "Another example of the capabilities in ``torchaudio.functional`` are applying filters to our\n",
        "waveform. Applying the lowpass biquad filter to our waveform will output a new waveform with \n",
        "the signal of the frequency modified.\n",
        "\n"
      ]
    },
    {
      "cell_type": "code",
      "metadata": {
        "id": "_iU7bmphIiL_",
        "outputId": "d5ddca74-7def-47d4-94a5-3345798a584f",
        "colab": {
          "base_uri": "https://localhost:8080/",
          "height": 368
        }
      },
      "source": [
        "lowpass_waveform = torchaudio.functional.lowpass_biquad(waveform, sample_rate, cutoff_freq=3000)\n",
        "\n",
        "print(\"Min of lowpass_waveform: {}\\nMax of lowpass_waveform: {}\\nMean of lowpass_waveform: {}\".format(lowpass_waveform.min(), lowpass_waveform.max(), lowpass_waveform.mean()))\n",
        "\n",
        "plt.figure()\n",
        "plt.plot(lowpass_waveform.t().numpy())"
      ],
      "execution_count": 21,
      "outputs": [
        {
          "output_type": "stream",
          "text": [
            "Min of lowpass_waveform: -0.9282130599021912\n",
            "Max of lowpass_waveform: 0.9515734910964966\n",
            "Mean of lowpass_waveform: -1.1592618420763756e-06\n"
          ],
          "name": "stdout"
        },
        {
          "output_type": "execute_result",
          "data": {
            "text/plain": [
              "[<matplotlib.lines.Line2D at 0x7f0978e0f518>,\n",
              " <matplotlib.lines.Line2D at 0x7f0978e0f630>]"
            ]
          },
          "metadata": {
            "tags": []
          },
          "execution_count": 21
        },
        {
          "output_type": "display_data",
          "data": {
            "image/png": "[encoded data removed]",
            "text/plain": [
              "<Figure size 432x288 with 1 Axes>"
            ]
          },
          "metadata": {
            "tags": [],
            "needs_background": "light"
          }
        }
      ]
    },
    {
      "cell_type": "markdown",
      "metadata": {
        "id": "jdTwDxAiIiMB"
      },
      "source": [
        "We can also visualize a waveform with the highpass biquad filter.\n",
        "\n",
        "\n"
      ]
    },
    {
      "cell_type": "code",
      "metadata": {
        "id": "4zb6wob-IiMB",
        "outputId": "2f698f93-21ab-498d-e3e3-97954dd68028",
        "colab": {
          "base_uri": "https://localhost:8080/",
          "height": 372
        }
      },
      "source": [
        "highpass_waveform = torchaudio.functional.highpass_biquad(waveform, sample_rate, cutoff_freq=2000)\n",
        "\n",
        "print(\"Min of highpass_waveform: {}\\nMax of highpass_waveform: {}\\nMean of highpass_waveform: {}\".format(highpass_waveform.min(), highpass_waveform.max(), highpass_waveform.mean()))\n",
        "\n",
        "plt.figure()\n",
        "plt.plot(highpass_waveform.t().numpy())"
      ],
      "execution_count": 22,
      "outputs": [
        {
          "output_type": "stream",
          "text": [
            "Min of highpass_waveform: -0.7030605673789978\n",
            "Max of highpass_waveform: 0.7337502241134644\n",
            "Mean of highpass_waveform: -4.796540942209049e-10\n"
          ],
          "name": "stdout"
        },
        {
          "output_type": "execute_result",
          "data": {
            "text/plain": [
              "[<matplotlib.lines.Line2D at 0x7f0978dfe128>,\n",
              " <matplotlib.lines.Line2D at 0x7f0978dfe240>]"
            ]
          },
          "metadata": {
            "tags": []
          },
          "execution_count": 22
        },
        {
          "output_type": "display_data",
          "data": {
            "image/png": "[encoded data removed]",
            "text/plain": [
              "<Figure size 432x288 with 1 Axes>"
            ]
          },
          "metadata": {
            "tags": [],
            "needs_background": "light"
          }
        }
      ]
    },
    {
      "cell_type": "markdown",
      "metadata": {
        "id": "xd-7Nir2IiMD"
      },
      "source": [
        "Migrating to torchaudio from Kaldi\n",
        "----------------------------------\n",
        "\n",
        "Users may be familiar with\n",
        "`Kaldi <http://github.com/kaldi-asr/kaldi>`_, a toolkit for speech\n",
        "recognition. ``torchaudio`` offers compatibility with it in\n",
        "``torchaudio.kaldi_io``. It can indeed read from kaldi scp, or ark file\n",
        "or streams with:\n",
        "\n",
        "-  read_vec_int_ark\n",
        "-  read_vec_flt_scp\n",
        "-  read_vec_flt_arkfile/stream\n",
        "-  read_mat_scp\n",
        "-  read_mat_ark\n",
        "\n",
        "``torchaudio`` provides Kaldi-compatible transforms for ``spectrogram``,\n",
        "``fbank``, ``mfcc``, and ``resample_waveform with the benefit of GPU support, see\n",
        "`here <compliance.kaldi.html>`__ for more information.\n",
        "\n",
        "\n"
      ]
    },
    {
      "cell_type": "code",
      "metadata": {
        "id": "hUs-TgX0IiMD",
        "outputId": "c936722b-63fc-44ef-c6ca-cf1e72655349",
        "colab": {
          "base_uri": "https://localhost:8080/",
          "height": 93
        }
      },
      "source": [
        "n_fft = 400.0\n",
        "frame_length = n_fft / sample_rate * 1000.0\n",
        "frame_shift = frame_length / 2.0\n",
        "\n",
        "params = {\n",
        "    \"channel\": 0,\n",
        "    \"dither\": 0.0,\n",
        "    \"window_type\": \"hanning\",\n",
        "    \"frame_length\": frame_length,\n",
        "    \"frame_shift\": frame_shift,\n",
        "    \"remove_dc_offset\": False,\n",
        "    \"round_to_power_of_two\": False,\n",
        "    \"sample_frequency\": sample_rate,\n",
        "}\n",
        "\n",
        "specgram = torchaudio.compliance.kaldi.spectrogram(waveform, **params)\n",
        "\n",
        "print(\"Shape of spectrogram: {}\".format(specgram.size()))\n",
        "\n",
        "plt.figure()\n",
        "plt.imshow(specgram.t().numpy(), cmap='gray')"
      ],
      "execution_count": 23,
      "outputs": [
        {
          "output_type": "stream",
          "text": [
            "Shape of spectrogram: torch.Size([13007, 201])\n"
          ],
          "name": "stdout"
        },
        {
          "output_type": "execute_result",
          "data": {
            "text/plain": [
              "<matplotlib.image.AxesImage at 0x7f0978d5fe48>"
            ]
          },
          "metadata": {
            "tags": []
          },
          "execution_count": 23
        },
        {
          "output_type": "display_data",
          "data": {
            "image/png": "[encoded data removed]",
            "text/plain": [
              "<Figure size 432x288 with 1 Axes>"
            ]
          },
          "metadata": {
            "tags": [],
            "needs_background": "light"
          }
        }
      ]
    },
    {
      "cell_type": "markdown",
      "metadata": {
        "id": "WKDA_Rx4IiMF"
      },
      "source": [
        "We also support computing the filterbank features from waveforms,\n",
        "matching Kaldi’s implementation.\n",
        "\n",
        "\n"
      ]
    },
    {
      "cell_type": "code",
      "metadata": {
        "id": "Qvz9C1ySIiMF",
        "outputId": "b09649df-2c57-4a71-81d4-a2d052d7b266",
        "colab": {
          "base_uri": "https://localhost:8080/",
          "height": 88
        }
      },
      "source": [
        "fbank = torchaudio.compliance.kaldi.fbank(waveform, **params)\n",
        "\n",
        "print(\"Shape of fbank: {}\".format(fbank.size()))\n",
        "\n",
        "plt.figure()\n",
        "plt.imshow(fbank.t().numpy(), cmap='gray')"
      ],
      "execution_count": 24,
      "outputs": [
        {
          "output_type": "stream",
          "text": [
            "Shape of fbank: torch.Size([13007, 23])\n"
          ],
          "name": "stdout"
        },
        {
          "output_type": "execute_result",
          "data": {
            "text/plain": [
              "<matplotlib.image.AxesImage at 0x7f0978d3e3c8>"
            ]
          },
          "metadata": {
            "tags": []
          },
          "execution_count": 24
        },
        {
          "output_type": "display_data",
          "data": {
            "image/png": "[encoded data removed]",
            "text/plain": [
              "<Figure size 432x288 with 1 Axes>"
            ]
          },
          "metadata": {
            "tags": [],
            "needs_background": "light"
          }
        }
      ]
    },
    {
      "cell_type": "markdown",
      "metadata": {
        "id": "rWrLSodoIiMH"
      },
      "source": [
        "You can create mel frequency cepstral coefficients from a raw audio signal\n",
        "This matches the input/output of Kaldi’s compute-mfcc-feats.\n",
        "\n",
        "\n"
      ]
    },
    {
      "cell_type": "code",
      "metadata": {
        "id": "-iDTn2ecIiMH",
        "outputId": "43a3e523-a36a-44e0-958a-3620dc2fd394",
        "colab": {
          "base_uri": "https://localhost:8080/",
          "height": 88
        }
      },
      "source": [
        "mfcc = torchaudio.compliance.kaldi.mfcc(waveform, **params)\n",
        "\n",
        "print(\"Shape of mfcc: {}\".format(mfcc.size()))\n",
        "\n",
        "plt.figure()\n",
        "plt.imshow(mfcc.t().numpy(), cmap='gray')"
      ],
      "execution_count": 25,
      "outputs": [
        {
          "output_type": "stream",
          "text": [
            "Shape of mfcc: torch.Size([13007, 13])\n"
          ],
          "name": "stdout"
        },
        {
          "output_type": "execute_result",
          "data": {
            "text/plain": [
              "<matplotlib.image.AxesImage at 0x7f0978c96198>"
            ]
          },
          "metadata": {
            "tags": []
          },
          "execution_count": 25
        },
        {
          "output_type": "display_data",
          "data": {
            "image/png": "[encoded data removed]",
            "text/plain": [
              "<Figure size 432x288 with 1 Axes>"
            ]
          },
          "metadata": {
            "tags": [],
            "needs_background": "light"
          }
        }
      ]
    },
    {
      "cell_type": "markdown",
      "metadata": {
        "id": "2ZGNEcq7IiMI"
      },
      "source": [
        "Available Datasets\n",
        "-----------------\n",
        "\n",
        "If you do not want to create your own dataset to train your model, ``torchaudio`` offers a\n",
        "unified dataset interface. This interface supports lazy-loading of files to memory, download \n",
        "and extract functions, and datasets to build models.\n",
        "\n",
        "The datasets ``torchaudio`` currently supports are:\n",
        "\n",
        "-  **VCTK**: Speech data uttered by 109 native speakers of English with various accents\n",
        "   (`Read more here <https://homepages.inf.ed.ac.uk/jyamagis/page3/page58/page58.html>`_).\n",
        "-  **Yesno**: Sixty recordings of one individual saying yes or no in Hebrew; each\n",
        "   recording is eight words long (`Read more here <https://www.openslr.org/1/>`_).\n",
        "-  **Common Voice**: An open source, multi-language dataset of voices that anyone can use\n",
        "   to train speech-enabled applications (`Read more here <https://voice.mozilla.org/en/datasets>`_).\n",
        "-  **LibriSpeech**: Large-scale (1000 hours) corpus of read English speech (`Read more here <http://www.openslr.org/12>`_).\n",
        "\n",
        "\n"
      ]
    },
    {
      "cell_type": "code",
      "metadata": {
        "id": "B3zjlGo-IiMJ",
        "outputId": "d2626851-ae20-43e5-d308-dac5475689da",
        "colab": {
          "base_uri": "https://localhost:8080/",
          "height": 387,
          "referenced_widgets": [
            "a7db6fefdf6a4671bf7c05dfdc3a0fcd",
            "07178de77f594f95a705a1497b8dd42b",
            "280b0552e0d14892bca684a7f6ffeda4",
            "10266a9ba75d4d17b081a921468eeb87",
            "b2e53fd522ff49c9927e0abef566fcec",
            "acf684e68cff4c798a72bede99e5e480",
            "38fcd71adade44ab9aa0172b45c61a4b",
            "d38bb25b6f134c2c885dd305b91a9847"
          ]
        }
      },
      "source": [
        "yesno_data = torchaudio.datasets.YESNO('./', download=True)\n",
        "\n",
        "# A data point in Yesno is a tuple (waveform, sample_rate, labels) where labels is a list of integers with 1 for yes and 0 for no.\n",
        "\n",
        "# Pick data point number 3 to see an example of the the yesno_data:\n",
        "n = 3\n",
        "waveform, sample_rate, labels = yesno_data[n]\n",
        "\n",
        "print(\"Waveform: {}\\nSample rate: {}\\nLabels: {}\".format(waveform, sample_rate, labels))\n",
        "\n",
        "plt.figure()\n",
        "plt.plot(waveform.t().numpy())"
      ],
      "execution_count": 26,
      "outputs": [
        {
          "output_type": "display_data",
          "data": {
            "application/vnd.jupyter.widget-view+json": {
              "model_id": "a7db6fefdf6a4671bf7c05dfdc3a0fcd",
              "version_minor": 0,
              "version_major": 2
            },
            "text/plain": [
              "HBox(children=(FloatProgress(value=0.0, max=4703754.0), HTML(value='')))"
            ]
          },
          "metadata": {
            "tags": []
          }
        },
        {
          "output_type": "stream",
          "text": [
            "\n",
            "Waveform: tensor([[ 0.0005,  0.0003, -0.0001,  ..., -0.0006, -0.0012, -0.0013]])\n",
            "Sample rate: 8000\n",
            "Labels: [0, 1, 1, 0, 0, 1, 1, 1]\n"
          ],
          "name": "stdout"
        },
        {
          "output_type": "execute_result",
          "data": {
            "text/plain": [
              "[<matplotlib.lines.Line2D at 0x7f0977ff9198>]"
            ]
          },
          "metadata": {
            "tags": []
          },
          "execution_count": 26
        },
        {
          "output_type": "display_data",
          "data": {
            "image/png": "[encoded data removed]",
            "text/plain": [
              "<Figure size 432x288 with 1 Axes>"
            ]
          },
          "metadata": {
            "tags": [],
            "needs_background": "light"
          }
        }
      ]
    },
    {
      "cell_type": "markdown",
      "metadata": {
        "id": "TQ8pxhHaIiMK"
      },
      "source": [
        "Now, whenever you ask for a sound file from the dataset, it is loaded in memory only when you ask for it.\n",
        "Meaning, the dataset only loads and keeps in memory the items that you want and use, saving on memory.\n",
        "\n",
        "\n"
      ]
    },
    {
      "cell_type": "markdown",
      "metadata": {
        "id": "V0qJe1TuIiML"
      },
      "source": [
        "Conclusion\n",
        "----------\n",
        "\n",
        "We used an example raw audio signal, or waveform, to illustrate how to\n",
        "open an audio file using ``torchaudio``, and how to pre-process,\n",
        "transform, and apply functions to such waveform. We also demonstrated how\n",
        "to use familiar Kaldi functions, as well as utilize built-in datasets to \n",
        "construct our models. Given that ``torchaudio`` is built on PyTorch,\n",
        "these techniques can be used as building blocks for more advanced audio\n",
        "applications, such as speech recognition, while leveraging GPUs.\n",
        "\n",
        "\n"
      ]
    }
  ]
}