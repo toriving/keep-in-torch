{
  "nbformat": 4,
  "nbformat_minor": 0,
  "metadata": {
    "colab": {
      "name": "LOADING_A_TORCHSCRIPT_MODEL_IN_C++.ipynb",
      "provenance": []
    },
    "kernelspec": {
      "name": "python3",
      "display_name": "Python 3"
    }
  },
  "cells": [
    {
      "cell_type": "code",
      "metadata": {
        "id": "p2gvygDcecVm"
      },
      "source": [
        "import torch\n",
        "import torchvision\n",
        "\n",
        "# 모델 인스턴스 생성\n",
        "model = torchvision.models.resnet18()\n",
        "\n",
        "# 일반적으로 모델의 forward() 메서드에 넘겨주는 입력값\n",
        "example = torch.rand(1, 3, 224, 224)\n",
        "\n",
        "# torch.jit.trace를 사용하여 트레이싱을 이용해 torch.jit.ScriptModule 생성\n",
        "traced_script_module = torch.jit.trace(model, example)"
      ],
      "execution_count": 1,
      "outputs": []
    },
    {
      "cell_type": "code",
      "metadata": {
        "id": "liXUN0-Mevb8"
      },
      "source": [
        "import torch\n",
        "\n",
        "class MyModule(torch.nn.Module):\n",
        "    def __init__(self, N, M):\n",
        "        super(MyModule, self).__init__()\n",
        "        self.weight = torch.nn.Parameter(torch.rand(N, M))\n",
        "\n",
        "    def forward(self, input):\n",
        "        if input.sum() > 0:\n",
        "          output = self.weight.mv(input)\n",
        "        else:\n",
        "          output = self.weight + input\n",
        "        return output"
      ],
      "execution_count": 2,
      "outputs": []
    },
    {
      "cell_type": "code",
      "metadata": {
        "id": "4F88MnyJeyvc"
      },
      "source": [
        "my_module = MyModule(10,20)\n",
        "sm = torch.jit.script(my_module)"
      ],
      "execution_count": 3,
      "outputs": []
    },
    {
      "cell_type": "code",
      "metadata": {
        "id": "9yRr1gLDe5Dg"
      },
      "source": [
        "traced_script_module.save(\"traced_resnet_model.pt\")"
      ],
      "execution_count": 4,
      "outputs": []
    }
  ]
}