{
  "nbformat": 4,
  "nbformat_minor": 0,
  "metadata": {
    "kernelspec": {
      "display_name": "Python 3",
      "language": "python",
      "name": "python3"
    },
    "language_info": {
      "codemirror_mode": {
        "name": "ipython",
        "version": 3
      },
      "file_extension": ".py",
      "mimetype": "text/x-python",
      "name": "python",
      "nbconvert_exporter": "python",
      "pygments_lexer": "ipython3",
      "version": "3.6.8"
    },
    "colab": {
      "name": "super_resolution_with_onnxruntime.ipynb",
      "provenance": [],
      "toc_visible": true
    },
    "accelerator": "GPU",
    "widgets": {
      "application/vnd.jupyter.widget-state+json": {
        "c70b2f40072141cdbbe6d84035b20a01": {
          "model_module": "@jupyter-widgets/controls",
          "model_name": "HBoxModel",
          "state": {
            "_view_name": "HBoxView",
            "_dom_classes": [],
            "_model_name": "HBoxModel",
            "_view_module": "@jupyter-widgets/controls",
            "_model_module_version": "1.5.0",
            "_view_count": null,
            "_view_module_version": "1.5.0",
            "box_style": "",
            "layout": "IPY_MODEL_96d93e2111544414863775bf0b5b9ad1",
            "_model_module": "@jupyter-widgets/controls",
            "children": [
              "IPY_MODEL_554904eddfed41138bc716f6c16cdcf8",
              "IPY_MODEL_ab00d2983bf449338185db009d2e4a93"
            ]
          }
        },
        "96d93e2111544414863775bf0b5b9ad1": {
          "model_module": "@jupyter-widgets/base",
          "model_name": "LayoutModel",
          "state": {
            "_view_name": "LayoutView",
            "grid_template_rows": null,
            "right": null,
            "justify_content": null,
            "_view_module": "@jupyter-widgets/base",
            "overflow": null,
            "_model_module_version": "1.2.0",
            "_view_count": null,
            "flex_flow": null,
            "width": null,
            "min_width": null,
            "border": null,
            "align_items": null,
            "bottom": null,
            "_model_module": "@jupyter-widgets/base",
            "top": null,
            "grid_column": null,
            "overflow_y": null,
            "overflow_x": null,
            "grid_auto_flow": null,
            "grid_area": null,
            "grid_template_columns": null,
            "flex": null,
            "_model_name": "LayoutModel",
            "justify_items": null,
            "grid_row": null,
            "max_height": null,
            "align_content": null,
            "visibility": null,
            "align_self": null,
            "height": null,
            "min_height": null,
            "padding": null,
            "grid_auto_rows": null,
            "grid_gap": null,
            "max_width": null,
            "order": null,
            "_view_module_version": "1.2.0",
            "grid_template_areas": null,
            "object_position": null,
            "object_fit": null,
            "grid_auto_columns": null,
            "margin": null,
            "display": null,
            "left": null
          }
        },
        "554904eddfed41138bc716f6c16cdcf8": {
          "model_module": "@jupyter-widgets/controls",
          "model_name": "FloatProgressModel",
          "state": {
            "_view_name": "ProgressView",
            "style": "IPY_MODEL_31bbf8d1b2cc40cc877fd0f93dc4a7e0",
            "_dom_classes": [],
            "description": "100%",
            "_model_name": "FloatProgressModel",
            "bar_style": "success",
            "max": 239691,
            "_view_module": "@jupyter-widgets/controls",
            "_model_module_version": "1.5.0",
            "value": 239691,
            "_view_count": null,
            "_view_module_version": "1.5.0",
            "orientation": "horizontal",
            "min": 0,
            "description_tooltip": null,
            "_model_module": "@jupyter-widgets/controls",
            "layout": "IPY_MODEL_36d64a30030e44bdbbd7fc843ee17b07"
          }
        },
        "ab00d2983bf449338185db009d2e4a93": {
          "model_module": "@jupyter-widgets/controls",
          "model_name": "HTMLModel",
          "state": {
            "_view_name": "HTMLView",
            "style": "IPY_MODEL_5e823c42897e4e44b27c96db57e5f606",
            "_dom_classes": [],
            "description": "",
            "_model_name": "HTMLModel",
            "placeholder": "​",
            "_view_module": "@jupyter-widgets/controls",
            "_model_module_version": "1.5.0",
            "value": " 234k/234k [00:00&lt;00:00, 910kB/s]",
            "_view_count": null,
            "_view_module_version": "1.5.0",
            "description_tooltip": null,
            "_model_module": "@jupyter-widgets/controls",
            "layout": "IPY_MODEL_8532cde04a944fc590b2097274f4aa95"
          }
        },
        "31bbf8d1b2cc40cc877fd0f93dc4a7e0": {
          "model_module": "@jupyter-widgets/controls",
          "model_name": "ProgressStyleModel",
          "state": {
            "_view_name": "StyleView",
            "_model_name": "ProgressStyleModel",
            "description_width": "initial",
            "_view_module": "@jupyter-widgets/base",
            "_model_module_version": "1.5.0",
            "_view_count": null,
            "_view_module_version": "1.2.0",
            "bar_color": null,
            "_model_module": "@jupyter-widgets/controls"
          }
        },
        "36d64a30030e44bdbbd7fc843ee17b07": {
          "model_module": "@jupyter-widgets/base",
          "model_name": "LayoutModel",
          "state": {
            "_view_name": "LayoutView",
            "grid_template_rows": null,
            "right": null,
            "justify_content": null,
            "_view_module": "@jupyter-widgets/base",
            "overflow": null,
            "_model_module_version": "1.2.0",
            "_view_count": null,
            "flex_flow": null,
            "width": null,
            "min_width": null,
            "border": null,
            "align_items": null,
            "bottom": null,
            "_model_module": "@jupyter-widgets/base",
            "top": null,
            "grid_column": null,
            "overflow_y": null,
            "overflow_x": null,
            "grid_auto_flow": null,
            "grid_area": null,
            "grid_template_columns": null,
            "flex": null,
            "_model_name": "LayoutModel",
            "justify_items": null,
            "grid_row": null,
            "max_height": null,
            "align_content": null,
            "visibility": null,
            "align_self": null,
            "height": null,
            "min_height": null,
            "padding": null,
            "grid_auto_rows": null,
            "grid_gap": null,
            "max_width": null,
            "order": null,
            "_view_module_version": "1.2.0",
            "grid_template_areas": null,
            "object_position": null,
            "object_fit": null,
            "grid_auto_columns": null,
            "margin": null,
            "display": null,
            "left": null
          }
        },
        "5e823c42897e4e44b27c96db57e5f606": {
          "model_module": "@jupyter-widgets/controls",
          "model_name": "DescriptionStyleModel",
          "state": {
            "_view_name": "StyleView",
            "_model_name": "DescriptionStyleModel",
            "description_width": "",
            "_view_module": "@jupyter-widgets/base",
            "_model_module_version": "1.5.0",
            "_view_count": null,
            "_view_module_version": "1.2.0",
            "_model_module": "@jupyter-widgets/controls"
          }
        },
        "8532cde04a944fc590b2097274f4aa95": {
          "model_module": "@jupyter-widgets/base",
          "model_name": "LayoutModel",
          "state": {
            "_view_name": "LayoutView",
            "grid_template_rows": null,
            "right": null,
            "justify_content": null,
            "_view_module": "@jupyter-widgets/base",
            "overflow": null,
            "_model_module_version": "1.2.0",
            "_view_count": null,
            "flex_flow": null,
            "width": null,
            "min_width": null,
            "border": null,
            "align_items": null,
            "bottom": null,
            "_model_module": "@jupyter-widgets/base",
            "top": null,
            "grid_column": null,
            "overflow_y": null,
            "overflow_x": null,
            "grid_auto_flow": null,
            "grid_area": null,
            "grid_template_columns": null,
            "flex": null,
            "_model_name": "LayoutModel",
            "justify_items": null,
            "grid_row": null,
            "max_height": null,
            "align_content": null,
            "visibility": null,
            "align_self": null,
            "height": null,
            "min_height": null,
            "padding": null,
            "grid_auto_rows": null,
            "grid_gap": null,
            "max_width": null,
            "order": null,
            "_view_module_version": "1.2.0",
            "grid_template_areas": null,
            "object_position": null,
            "object_fit": null,
            "grid_auto_columns": null,
            "margin": null,
            "display": null,
            "left": null
          }
        }
      }
    }
  },
  "cells": [
    {
      "cell_type": "code",
      "metadata": {
        "id": "hEdOPi4JfZ7C"
      },
      "source": [
        "%matplotlib inline"
      ],
      "execution_count": 1,
      "outputs": []
    },
    {
      "cell_type": "markdown",
      "metadata": {
        "id": "7yh7XzgjfZ7F"
      },
      "source": [
        "\n",
        "(optional) Exporting a Model from PyTorch to ONNX and Running it using ONNX Runtime\n",
        "========================================================================\n",
        "\n",
        "In this tutorial, we describe how to convert a model defined\n",
        "in PyTorch into the ONNX format and then run it with ONNX Runtime.\n",
        "\n",
        "ONNX Runtime is a performance-focused engine for ONNX models,\n",
        "which inferences efficiently across multiple platforms and hardware\n",
        "(Windows, Linux, and Mac and on both CPUs and GPUs).\n",
        "ONNX Runtime has proved to considerably increase performance over\n",
        "multiple models as explained `here\n",
        "<https://cloudblogs.microsoft.com/opensource/2019/05/22/onnx-runtime-machine-learning-inferencing-0-4-release>`__\n",
        "\n",
        "For this tutorial, you will need to install `ONNX <https://github.com/onnx/onnx>`__\n",
        "and `ONNX Runtime <https://github.com/microsoft/onnxruntime>`__.\n",
        "You can get binary builds of ONNX and ONNX Runtime with\n",
        "``pip install onnx onnxruntime``.\n",
        "Note that ONNX Runtime is compatible with Python versions 3.5 to 3.7.\n",
        "\n",
        "``NOTE``: This tutorial needs PyTorch master branch which can be installed by following\n",
        "the instructions `here <https://github.com/pytorch/pytorch#from-source>`__\n",
        "\n",
        "\n"
      ]
    },
    {
      "cell_type": "code",
      "metadata": {
        "id": "g8FzNZHsfZ7G"
      },
      "source": [
        "# Some standard imports\n",
        "import io\n",
        "import numpy as np\n",
        "\n",
        "from torch import nn\n",
        "import torch.utils.model_zoo as model_zoo\n",
        "import torch.onnx"
      ],
      "execution_count": 2,
      "outputs": []
    },
    {
      "cell_type": "markdown",
      "metadata": {
        "id": "HuQ17qYcfZ7J"
      },
      "source": [
        "Super-resolution is a way of increasing the resolution of images, videos\n",
        "and is widely used in image processing or video editing. For this\n",
        "tutorial, we will use a small super-resolution model.\n",
        "\n",
        "First, let's create a SuperResolution model in PyTorch.\n",
        "This model uses the efficient sub-pixel convolution layer described in\n",
        "`\"Real-Time Single Image and Video Super-Resolution Using an Efficient\n",
        "Sub-Pixel Convolutional Neural Network\" - Shi et al <https://arxiv.org/abs/1609.05158>`__\n",
        "for increasing the resolution of an image by an upscale factor.\n",
        "The model expects the Y component of the YCbCr of an image as an input, and\n",
        "outputs the upscaled Y component in super resolution.\n",
        "\n",
        "`The\n",
        "model <https://github.com/pytorch/examples/blob/master/super_resolution/model.py>`__\n",
        "comes directly from PyTorch's examples without modification:\n",
        "\n",
        "\n"
      ]
    },
    {
      "cell_type": "code",
      "metadata": {
        "id": "C0VfVevxfZ7J"
      },
      "source": [
        "# Super Resolution model definition in PyTorch\n",
        "import torch.nn as nn\n",
        "import torch.nn.init as init\n",
        "\n",
        "\n",
        "class SuperResolutionNet(nn.Module):\n",
        "    def __init__(self, upscale_factor, inplace=False):\n",
        "        super(SuperResolutionNet, self).__init__()\n",
        "\n",
        "        self.relu = nn.ReLU(inplace=inplace)\n",
        "        self.conv1 = nn.Conv2d(1, 64, (5, 5), (1, 1), (2, 2))\n",
        "        self.conv2 = nn.Conv2d(64, 64, (3, 3), (1, 1), (1, 1))\n",
        "        self.conv3 = nn.Conv2d(64, 32, (3, 3), (1, 1), (1, 1))\n",
        "        self.conv4 = nn.Conv2d(32, upscale_factor ** 2, (3, 3), (1, 1), (1, 1))\n",
        "        self.pixel_shuffle = nn.PixelShuffle(upscale_factor)\n",
        "\n",
        "        self._initialize_weights()\n",
        "\n",
        "    def forward(self, x):\n",
        "        x = self.relu(self.conv1(x))\n",
        "        x = self.relu(self.conv2(x))\n",
        "        x = self.relu(self.conv3(x))\n",
        "        x = self.pixel_shuffle(self.conv4(x))\n",
        "        return x\n",
        "\n",
        "    def _initialize_weights(self):\n",
        "        init.orthogonal_(self.conv1.weight, init.calculate_gain('relu'))\n",
        "        init.orthogonal_(self.conv2.weight, init.calculate_gain('relu'))\n",
        "        init.orthogonal_(self.conv3.weight, init.calculate_gain('relu'))\n",
        "        init.orthogonal_(self.conv4.weight)\n",
        "\n",
        "# Create the super-resolution model by using the above model definition.\n",
        "torch_model = SuperResolutionNet(upscale_factor=3)"
      ],
      "execution_count": 3,
      "outputs": []
    },
    {
      "cell_type": "markdown",
      "metadata": {
        "id": "P4RaMg3cfZ7M"
      },
      "source": [
        "Ordinarily, you would now train this model; however, for this tutorial,\n",
        "we will instead download some pre-trained weights. Note that this model\n",
        "was not trained fully for good accuracy and is used here for\n",
        "demonstration purposes only.\n",
        "\n",
        "It is important to call ``torch_model.eval()`` or ``torch_model.train(False)``\n",
        "before exporting the model, to turn the model to inference mode.\n",
        "This is required since operators like dropout or batchnorm behave\n",
        "differently in inference and training mode.\n",
        "\n",
        "\n"
      ]
    },
    {
      "cell_type": "code",
      "metadata": {
        "id": "EYHkfKQOfZ7M",
        "outputId": "719028ea-416e-40e1-e26d-05aa3fb3c313",
        "colab": {
          "base_uri": "https://localhost:8080/",
          "height": 219,
          "referenced_widgets": [
            "c70b2f40072141cdbbe6d84035b20a01",
            "96d93e2111544414863775bf0b5b9ad1",
            "554904eddfed41138bc716f6c16cdcf8",
            "ab00d2983bf449338185db009d2e4a93",
            "31bbf8d1b2cc40cc877fd0f93dc4a7e0",
            "36d64a30030e44bdbbd7fc843ee17b07",
            "5e823c42897e4e44b27c96db57e5f606",
            "8532cde04a944fc590b2097274f4aa95"
          ]
        }
      },
      "source": [
        "# Load pretrained model weights\n",
        "model_url = 'https://s3.amazonaws.com/pytorch/test_data/export/superres_epoch100-44c6958e.pth'\n",
        "batch_size = 1    # just a random number\n",
        "\n",
        "# Initialize model with the pretrained weights\n",
        "map_location = lambda storage, loc: storage\n",
        "if torch.cuda.is_available():\n",
        "    map_location = None\n",
        "torch_model.load_state_dict(model_zoo.load_url(model_url, map_location=map_location))\n",
        "\n",
        "# set the model to inference mode\n",
        "torch_model.eval()"
      ],
      "execution_count": 4,
      "outputs": [
        {
          "output_type": "stream",
          "text": [
            "Downloading: \"https://s3.amazonaws.com/pytorch/test_data/export/superres_epoch100-44c6958e.pth\" to /root/.cache/torch/hub/checkpoints/superres_epoch100-44c6958e.pth\n"
          ],
          "name": "stderr"
        },
        {
          "output_type": "display_data",
          "data": {
            "application/vnd.jupyter.widget-view+json": {
              "model_id": "c70b2f40072141cdbbe6d84035b20a01",
              "version_minor": 0,
              "version_major": 2
            },
            "text/plain": [
              "HBox(children=(FloatProgress(value=0.0, max=239691.0), HTML(value='')))"
            ]
          },
          "metadata": {
            "tags": []
          }
        },
        {
          "output_type": "stream",
          "text": [
            "\n"
          ],
          "name": "stdout"
        },
        {
          "output_type": "execute_result",
          "data": {
            "text/plain": [
              "SuperResolutionNet(\n",
              "  (relu): ReLU()\n",
              "  (conv1): Conv2d(1, 64, kernel_size=(5, 5), stride=(1, 1), padding=(2, 2))\n",
              "  (conv2): Conv2d(64, 64, kernel_size=(3, 3), stride=(1, 1), padding=(1, 1))\n",
              "  (conv3): Conv2d(64, 32, kernel_size=(3, 3), stride=(1, 1), padding=(1, 1))\n",
              "  (conv4): Conv2d(32, 9, kernel_size=(3, 3), stride=(1, 1), padding=(1, 1))\n",
              "  (pixel_shuffle): PixelShuffle(upscale_factor=3)\n",
              ")"
            ]
          },
          "metadata": {
            "tags": []
          },
          "execution_count": 4
        }
      ]
    },
    {
      "cell_type": "markdown",
      "metadata": {
        "id": "WHHmGLcifZ7P"
      },
      "source": [
        "Exporting a model in PyTorch works via tracing or scripting. This\n",
        "tutorial will use as an example a model exported by tracing.\n",
        "To export a model, we call the ``torch.onnx.export()`` function.\n",
        "This will execute the model, recording a trace of what operators\n",
        "are used to compute the outputs.\n",
        "Because ``export`` runs the model, we need to provide an input\n",
        "tensor ``x``. The values in this can be random as long as it is the\n",
        "right type and size.\n",
        "Note that the input size will be fixed in the exported ONNX graph for\n",
        "all the input's dimensions, unless specified as a dynamic axes.\n",
        "In this example we export the model with an input of batch_size 1,\n",
        "but then specify the first dimension as dynamic in the ``dynamic_axes``\n",
        "parameter in ``torch.onnx.export()``.\n",
        "The exported model will thus accept inputs of size [batch_size, 1, 224, 224]\n",
        "where batch_size can be variable.\n",
        "\n",
        "To learn more details about PyTorch's export interface, check out the\n",
        "`torch.onnx documentation <https://pytorch.org/docs/master/onnx.html>`__.\n",
        "\n",
        "\n"
      ]
    },
    {
      "cell_type": "code",
      "metadata": {
        "id": "O_Ts8KFZfZ7P"
      },
      "source": [
        "# Input to the model\n",
        "x = torch.randn(batch_size, 1, 224, 224, requires_grad=True)\n",
        "torch_out = torch_model(x)\n",
        "\n",
        "# Export the model\n",
        "torch.onnx.export(torch_model,               # model being run\n",
        "                  x,                         # model input (or a tuple for multiple inputs)\n",
        "                  \"super_resolution.onnx\",   # where to save the model (can be a file or file-like object)\n",
        "                  export_params=True,        # store the trained parameter weights inside the model file\n",
        "                  opset_version=10,          # the ONNX version to export the model to\n",
        "                  do_constant_folding=True,  # whether to execute constant folding for optimization\n",
        "                  input_names = ['input'],   # the model's input names\n",
        "                  output_names = ['output'], # the model's output names\n",
        "                  dynamic_axes={'input' : {0 : 'batch_size'},    # variable lenght axes\n",
        "                                'output' : {0 : 'batch_size'}})"
      ],
      "execution_count": 5,
      "outputs": []
    },
    {
      "cell_type": "markdown",
      "metadata": {
        "id": "uC6DpObLfZ7S"
      },
      "source": [
        "We also computed ``torch_out``, the output after of the model,\n",
        "which we will use to verify that the model we exported computes\n",
        "the same values when run in ONNX Runtime.\n",
        "\n",
        "But before verifying the model's output with ONNX Runtime, we will check\n",
        "the ONNX model with ONNX's API.\n",
        "First, ``onnx.load(\"super_resolution.onnx\")`` will load the saved model and\n",
        "will output a onnx.ModelProto structure (a top-level file/container format for bundling a ML model.\n",
        "For more information `onnx.proto documentation <https://github.com/onnx/onnx/blob/master/onnx/onnx.proto>`__.).\n",
        "Then, ``onnx.checker.check_model(onnx_model)`` will verify the model's structure\n",
        "and confirm that the model has a valid schema.\n",
        "The validity of the ONNX graph is verified by checking the model's\n",
        "version, the graph's structure, as well as the nodes and their inputs\n",
        "and outputs.\n",
        "\n",
        "\n"
      ]
    },
    {
      "cell_type": "code",
      "metadata": {
        "id": "eKPvoEklgSEz",
        "outputId": "4aca2c4f-d8bd-4c62-a7c3-d458f5d5b2eb",
        "colab": {
          "base_uri": "https://localhost:8080/",
          "height": 187
        }
      },
      "source": [
        "!pip install onnx"
      ],
      "execution_count": 7,
      "outputs": [
        {
          "output_type": "stream",
          "text": [
            "Collecting onnx\n",
            "\u001b[?25l  Downloading https://files.pythonhosted.org/packages/36/ee/bc7bc88fc8449266add978627e90c363069211584b937fd867b0ccc59f09/onnx-1.7.0-cp36-cp36m-manylinux1_x86_64.whl (7.4MB)\n",
            "\u001b[K     |████████████████████████████████| 7.4MB 4.5MB/s \n",
            "\u001b[?25hRequirement already satisfied: numpy in /usr/local/lib/python3.6/dist-packages (from onnx) (1.18.5)\n",
            "Requirement already satisfied: protobuf in /usr/local/lib/python3.6/dist-packages (from onnx) (3.12.4)\n",
            "Requirement already satisfied: six in /usr/local/lib/python3.6/dist-packages (from onnx) (1.15.0)\n",
            "Requirement already satisfied: typing-extensions>=3.6.2.1 in /usr/local/lib/python3.6/dist-packages (from onnx) (3.7.4.3)\n",
            "Requirement already satisfied: setuptools in /usr/local/lib/python3.6/dist-packages (from protobuf->onnx) (50.3.0)\n",
            "Installing collected packages: onnx\n",
            "Successfully installed onnx-1.7.0\n"
          ],
          "name": "stdout"
        }
      ]
    },
    {
      "cell_type": "code",
      "metadata": {
        "id": "3M9K3DF6fZ7S"
      },
      "source": [
        "import onnx\n",
        "\n",
        "onnx_model = onnx.load(\"super_resolution.onnx\")\n",
        "onnx.checker.check_model(onnx_model)"
      ],
      "execution_count": 8,
      "outputs": []
    },
    {
      "cell_type": "markdown",
      "metadata": {
        "id": "HEgFAXxDfZ7V"
      },
      "source": [
        "Now let's compute the output using ONNX Runtime's Python APIs.\n",
        "This part can normally be done in a separate process or on another\n",
        "machine, but we will continue in the same process so that we can\n",
        "verify that ONNX Runtime and PyTorch are computing the same value\n",
        "for the network.\n",
        "\n",
        "In order to run the model with ONNX Runtime, we need to create an\n",
        "inference session for the model with the chosen configuration\n",
        "parameters (here we use the default config).\n",
        "Once the session is created, we evaluate the model using the run() api.\n",
        "The output of this call is a list containing the outputs of the model\n",
        "computed by ONNX Runtime.\n",
        "\n",
        "\n"
      ]
    },
    {
      "cell_type": "code",
      "metadata": {
        "id": "jh5T8pKtgYhM",
        "outputId": "c433a228-d8ed-4e6e-ffe0-f7965c8e851f",
        "colab": {
          "base_uri": "https://localhost:8080/",
          "height": 170
        }
      },
      "source": [
        "!pip install onnxruntime"
      ],
      "execution_count": 10,
      "outputs": [
        {
          "output_type": "stream",
          "text": [
            "Collecting onnxruntime\n",
            "\u001b[?25l  Downloading https://files.pythonhosted.org/packages/91/a5/a70b05bc5a6037e0bf29d21828945a49fa4d341690c8ae7f01a62a177a2b/onnxruntime-1.5.2-cp36-cp36m-manylinux2014_x86_64.whl (3.8MB)\n",
            "\u001b[K     |████████████████████████████████| 3.8MB 4.7MB/s \n",
            "\u001b[?25hRequirement already satisfied: numpy>=1.16.6 in /usr/local/lib/python3.6/dist-packages (from onnxruntime) (1.18.5)\n",
            "Requirement already satisfied: protobuf in /usr/local/lib/python3.6/dist-packages (from onnxruntime) (3.12.4)\n",
            "Requirement already satisfied: setuptools in /usr/local/lib/python3.6/dist-packages (from protobuf->onnxruntime) (50.3.0)\n",
            "Requirement already satisfied: six>=1.9 in /usr/local/lib/python3.6/dist-packages (from protobuf->onnxruntime) (1.15.0)\n",
            "Installing collected packages: onnxruntime\n",
            "Successfully installed onnxruntime-1.5.2\n"
          ],
          "name": "stdout"
        }
      ]
    },
    {
      "cell_type": "code",
      "metadata": {
        "id": "Czh2mzlufZ7W",
        "outputId": "ca95adc7-ae18-4dc9-dc04-072b24107a42",
        "colab": {
          "base_uri": "https://localhost:8080/",
          "height": 34
        }
      },
      "source": [
        "import onnxruntime\n",
        "\n",
        "ort_session = onnxruntime.InferenceSession(\"super_resolution.onnx\")\n",
        "\n",
        "def to_numpy(tensor):\n",
        "    return tensor.detach().cpu().numpy() if tensor.requires_grad else tensor.cpu().numpy()\n",
        "\n",
        "# compute ONNX Runtime output prediction\n",
        "ort_inputs = {ort_session.get_inputs()[0].name: to_numpy(x)}\n",
        "ort_outs = ort_session.run(None, ort_inputs)\n",
        "\n",
        "# compare ONNX Runtime and PyTorch results\n",
        "np.testing.assert_allclose(to_numpy(torch_out), ort_outs[0], rtol=1e-03, atol=1e-05)\n",
        "\n",
        "print(\"Exported model has been tested with ONNXRuntime, and the result looks good!\")"
      ],
      "execution_count": 11,
      "outputs": [
        {
          "output_type": "stream",
          "text": [
            "Exported model has been tested with ONNXRuntime, and the result looks good!\n"
          ],
          "name": "stdout"
        }
      ]
    },
    {
      "cell_type": "markdown",
      "metadata": {
        "id": "jPDYXw6vfZ7Y"
      },
      "source": [
        "We should see that the output of PyTorch and ONNX Runtime runs match\n",
        "numerically with the given precision (rtol=1e-03 and atol=1e-05).\n",
        "As a side-note, if they do not match then there is an issue in the\n",
        "ONNX exporter, so please contact us in that case.\n",
        "\n",
        "\n"
      ]
    },
    {
      "cell_type": "markdown",
      "metadata": {
        "id": "xLv068_8fZ7Y"
      },
      "source": [
        "Running the model on an image using ONNX Runtime\n",
        "~~~~~~~~~~~~~~~~~~~~~~~~~~~~~~~~~~~~~~~~~~~~~~~~\n",
        "\n",
        "\n"
      ]
    },
    {
      "cell_type": "markdown",
      "metadata": {
        "id": "nZQr8gY6fZ7Z"
      },
      "source": [
        "So far we have exported a model from PyTorch and shown how to load it\n",
        "and run it in ONNX Runtime with a dummy tensor as an input.\n",
        "\n"
      ]
    },
    {
      "cell_type": "markdown",
      "metadata": {
        "id": "GAZlZpNXfZ7Z"
      },
      "source": [
        "For this tutorial, we will use a famous cat image used widely which\n",
        "looks like below\n",
        "\n",
        ".. figure:: /_static/img/cat_224x224.jpg\n",
        "   :alt: cat\n",
        "\n",
        "\n"
      ]
    },
    {
      "cell_type": "markdown",
      "metadata": {
        "id": "JQM7KTO_fZ7a"
      },
      "source": [
        "First, let's load the image, pre-process it using standard PIL\n",
        "python library. Note that this preprocessing is the standard practice of\n",
        "processing data for training/testing neural networks.\n",
        "\n",
        "We first resize the image to fit the size of the model's input (224x224).\n",
        "Then we split the image into its Y, Cb, and Cr components.\n",
        "These components represent a greyscale image (Y), and\n",
        "the blue-difference (Cb) and red-difference (Cr) chroma components.\n",
        "The Y component being more sensitive to the human eye, we are\n",
        "interested in this component which we will be transforming.\n",
        "After extracting the Y component, we convert it to a tensor which\n",
        "will be the input of our model.\n",
        "\n",
        "\n"
      ]
    },
    {
      "cell_type": "code",
      "metadata": {
        "id": "nhAjS6sbfZ7a",
        "outputId": "f328b34f-7f68-47fd-f9c9-1704252dad20",
        "colab": {
          "base_uri": "https://localhost:8080/",
          "height": 136
        }
      },
      "source": [
        "from PIL import Image\n",
        "import torchvision.transforms as transforms\n",
        "\n",
        "img = Image.open(\"cat.jpg\")\n",
        "\n",
        "resize = transforms.Resize([224, 224])\n",
        "img = resize(img)\n",
        "\n",
        "img_ycbcr = img.convert('YCbCr')\n",
        "img_y, img_cb, img_cr = img_ycbcr.split()\n",
        "\n",
        "to_tensor = transforms.ToTensor()\n",
        "img_y = to_tensor(img_y)\n",
        "img_y.unsqueeze_(0)"
      ],
      "execution_count": 13,
      "outputs": [
        {
          "output_type": "execute_result",
          "data": {
            "text/plain": [
              "tensor([[[[0.2157, 0.1961, 0.1922,  ..., 0.5294, 0.5569, 0.5725],\n",
              "          [0.2039, 0.1922, 0.1922,  ..., 0.5333, 0.5529, 0.5686],\n",
              "          [0.2000, 0.1843, 0.1843,  ..., 0.5216, 0.5373, 0.5490],\n",
              "          ...,\n",
              "          [0.6667, 0.6745, 0.6392,  ..., 0.6902, 0.6667, 0.6078],\n",
              "          [0.6392, 0.6431, 0.6235,  ..., 0.8000, 0.7608, 0.6745],\n",
              "          [0.6392, 0.6353, 0.6510,  ..., 0.8118, 0.7686, 0.6667]]]])"
            ]
          },
          "metadata": {
            "tags": []
          },
          "execution_count": 13
        }
      ]
    },
    {
      "cell_type": "markdown",
      "metadata": {
        "id": "YTG-FQAzfZ7c"
      },
      "source": [
        "Now, as a next step, let's take the tensor representing the\n",
        "greyscale resized cat image and run the super-resolution model in\n",
        "ONNX Runtime as explained previously.\n",
        "\n",
        "\n"
      ]
    },
    {
      "cell_type": "code",
      "metadata": {
        "id": "PrM95jsvfZ7d"
      },
      "source": [
        "ort_inputs = {ort_session.get_inputs()[0].name: to_numpy(img_y)}\n",
        "ort_outs = ort_session.run(None, ort_inputs)\n",
        "img_out_y = ort_outs[0]"
      ],
      "execution_count": 17,
      "outputs": []
    },
    {
      "cell_type": "markdown",
      "metadata": {
        "id": "ZkQOsHZLfZ7f"
      },
      "source": [
        "At this point, the output of the model is a tensor.\n",
        "Now, we'll process the output of the model to construct back the\n",
        "final output image from the output tensor, and save the image.\n",
        "The post-processing steps have been adopted from PyTorch\n",
        "implementation of super-resolution model\n",
        "`here <https://github.com/pytorch/examples/blob/master/super_resolution/super_resolve.py>`__.\n",
        "\n",
        "\n"
      ]
    },
    {
      "cell_type": "code",
      "metadata": {
        "id": "BKKQkM2BfZ7g"
      },
      "source": [
        "img_out_y = Image.fromarray(np.uint8((img_out_y[0] * 255.0).clip(0, 255)[0]), mode='L')\n",
        "\n",
        "# get the output image follow post-processing step from PyTorch implementation\n",
        "final_img = Image.merge(\n",
        "    \"YCbCr\", [\n",
        "        img_out_y,\n",
        "        img_cb.resize(img_out_y.size, Image.BICUBIC),\n",
        "        img_cr.resize(img_out_y.size, Image.BICUBIC),\n",
        "    ]).convert(\"RGB\")\n",
        "\n",
        "# Save the image, we will compare this with the output image from mobile device\n",
        "final_img.save(\"cat_superres_with_ort.jpg\")"
      ],
      "execution_count": 18,
      "outputs": []
    },
    {
      "cell_type": "markdown",
      "metadata": {
        "id": "uoe3EtXkfZ7i"
      },
      "source": [
        ".. figure:: /_static/img/cat_superres_with_ort.jpg\n",
        "   :alt: output\\_cat\n",
        "\n",
        "\n",
        "ONNX Runtime being a cross platform engine, you can run it across\n",
        "multiple platforms and on both CPUs and GPUs.\n",
        "\n",
        "ONNX Runtime can also be deployed to the cloud for model inferencing\n",
        "using Azure Machine Learning Services. More information `here <https://docs.microsoft.com/en-us/azure/machine-learning/service/concept-onnx>`__.\n",
        "\n",
        "More information about ONNX Runtime's performance `here <https://github.com/microsoft/onnxruntime#high-performance>`__.\n",
        "\n",
        "\n",
        "For more information about ONNX Runtime `here <https://github.com/microsoft/onnxruntime>`__.\n",
        "\n",
        "\n"
      ]
    }
  ]
}