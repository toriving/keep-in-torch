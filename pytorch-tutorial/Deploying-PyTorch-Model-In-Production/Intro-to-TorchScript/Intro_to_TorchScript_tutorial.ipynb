{
  "nbformat": 4,
  "nbformat_minor": 0,
  "metadata": {
    "kernelspec": {
      "display_name": "Python 3",
      "language": "python",
      "name": "python3"
    },
    "language_info": {
      "codemirror_mode": {
        "name": "ipython",
        "version": 3
      },
      "file_extension": ".py",
      "mimetype": "text/x-python",
      "name": "python",
      "nbconvert_exporter": "python",
      "pygments_lexer": "ipython3",
      "version": "3.6.8"
    },
    "colab": {
      "name": "Intro_to_TorchScript_tutorial.ipynb",
      "provenance": []
    },
    "accelerator": "GPU"
  },
  "cells": [
    {
      "cell_type": "code",
      "metadata": {
        "id": "ZOV7YS7yag5h"
      },
      "source": [
        "!pip install torch>=1.2.0\n",
        "%matplotlib inline"
      ],
      "execution_count": 1,
      "outputs": []
    },
    {
      "cell_type": "markdown",
      "metadata": {
        "id": "_piewL6Fag5l"
      },
      "source": [
        "\n",
        "Introduction to TorchScript\n",
        "===========================\n",
        "\n",
        "*James Reed (jamesreed@fb.com), Michael Suo (suo@fb.com)*, rev2\n",
        "\n",
        "In this tutorial we will cover:\n",
        "\n",
        "1. The basics of model authoring in PyTorch, including:\n",
        "\n",
        "-  Modules\n",
        "-  Defining ``forward`` functions\n",
        "-  Composing modules into a hierarchy of modules\n",
        "\n",
        "2. Methods for converting PyTorch modules to TorchScript, our\n",
        "   high-performance deployment runtime\n",
        "\n",
        "-  Tracing an existing module\n",
        "-  Using scripting to directly compile a module\n",
        "-  How to compose both approaches\n",
        "-  Saving and loading TorchScript modules\n",
        "\n",
        "\n"
      ]
    },
    {
      "cell_type": "code",
      "metadata": {
        "id": "ye64v4edag5m",
        "outputId": "90189fa3-b388-46b5-c5ac-d2fe9b35a632",
        "colab": {
          "base_uri": "https://localhost:8080/",
          "height": 34
        }
      },
      "source": [
        "import torch # This is all you need to use both PyTorch and TorchScript!\n",
        "print(torch.__version__)"
      ],
      "execution_count": 2,
      "outputs": [
        {
          "output_type": "stream",
          "text": [
            "1.6.0+cu101\n"
          ],
          "name": "stdout"
        }
      ]
    },
    {
      "cell_type": "markdown",
      "metadata": {
        "id": "xmN6t-OWag5p"
      },
      "source": [
        "Basics of PyTorch Model Authoring\n",
        "---------------------------------\n",
        "\n",
        "Let’s start out be defining a simple ``Module``. A ``Module`` is the\n",
        "basic unit of composition in PyTorch. It contains:\n",
        "\n",
        "1. A constructor, which prepares the module for invocation\n",
        "2. A set of ``Parameters`` and sub-\\ ``Modules``. These are initialized\n",
        "   by the constructor and can be used by the module during invocation.\n",
        "3. A ``forward`` function. This is the code that is run when the module\n",
        "   is invoked.\n",
        "\n",
        "Let’s examine a small example:\n",
        "\n",
        "\n"
      ]
    },
    {
      "cell_type": "code",
      "metadata": {
        "id": "YVWFlmAaag5q",
        "outputId": "1d8604a1-6ca8-4686-f672-f4d722a4a96b",
        "colab": {
          "base_uri": "https://localhost:8080/",
          "height": 102
        }
      },
      "source": [
        "class MyCell(torch.nn.Module):\n",
        "    def __init__(self):\n",
        "        super(MyCell, self).__init__()\n",
        "\n",
        "    def forward(self, x, h):\n",
        "        new_h = torch.tanh(x + h)\n",
        "        return new_h, new_h\n",
        "      \n",
        "my_cell = MyCell()\n",
        "x = torch.rand(3, 4)\n",
        "h = torch.rand(3, 4)\n",
        "print(my_cell(x, h))"
      ],
      "execution_count": 3,
      "outputs": [
        {
          "output_type": "stream",
          "text": [
            "(tensor([[0.8724, 0.4280, 0.8559, 0.7994],\n",
            "        [0.4037, 0.1825, 0.5405, 0.8532],\n",
            "        [0.9023, 0.5561, 0.7641, 0.5117]]), tensor([[0.8724, 0.4280, 0.8559, 0.7994],\n",
            "        [0.4037, 0.1825, 0.5405, 0.8532],\n",
            "        [0.9023, 0.5561, 0.7641, 0.5117]]))\n"
          ],
          "name": "stdout"
        }
      ]
    },
    {
      "cell_type": "markdown",
      "metadata": {
        "id": "Ira8dBXaag5s"
      },
      "source": [
        "So we’ve:\n",
        "\n",
        "1. Created a class that subclasses ``torch.nn.Module``.\n",
        "2. Defined a constructor. The constructor doesn’t do much, just calls\n",
        "   the constructor for ``super``.\n",
        "3. Defined a ``forward`` function, which takes two inputs and returns\n",
        "   two outputs. The actual contents of the ``forward`` function are not\n",
        "   really important, but it’s sort of a fake `RNN\n",
        "   cell <https://colah.github.io/posts/2015-08-Understanding-LSTMs/>`__–that\n",
        "   is–it’s a function that is applied on a loop.\n",
        "\n",
        "We instantiated the module, and made ``x`` and ``y``, which are just 3x4\n",
        "matrices of random values. Then we invoked the cell with\n",
        "``my_cell(x, h)``. This in turn calls our ``forward`` function.\n",
        "\n",
        "Let’s do something a little more interesting:\n",
        "\n",
        "\n"
      ]
    },
    {
      "cell_type": "code",
      "metadata": {
        "id": "KbY2glX3ag5t",
        "outputId": "3a94735b-49e2-468b-ed4c-2ab306b72707",
        "colab": {
          "base_uri": "https://localhost:8080/",
          "height": 153
        }
      },
      "source": [
        "class MyCell(torch.nn.Module):\n",
        "    def __init__(self):\n",
        "        super(MyCell, self).__init__()\n",
        "        self.linear = torch.nn.Linear(4, 4)\n",
        "\n",
        "    def forward(self, x, h):\n",
        "        new_h = torch.tanh(self.linear(x) + h)\n",
        "        return new_h, new_h\n",
        "\n",
        "my_cell = MyCell()\n",
        "print(my_cell)\n",
        "print(my_cell(x, h))"
      ],
      "execution_count": 4,
      "outputs": [
        {
          "output_type": "stream",
          "text": [
            "MyCell(\n",
            "  (linear): Linear(in_features=4, out_features=4, bias=True)\n",
            ")\n",
            "(tensor([[ 0.7533, -0.0025,  0.6569,  0.6761],\n",
            "        [ 0.4338, -0.1952,  0.4301,  0.6971],\n",
            "        [ 0.8578, -0.0522,  0.6820,  0.2836]], grad_fn=<TanhBackward>), tensor([[ 0.7533, -0.0025,  0.6569,  0.6761],\n",
            "        [ 0.4338, -0.1952,  0.4301,  0.6971],\n",
            "        [ 0.8578, -0.0522,  0.6820,  0.2836]], grad_fn=<TanhBackward>))\n"
          ],
          "name": "stdout"
        }
      ]
    },
    {
      "cell_type": "markdown",
      "metadata": {
        "id": "p-OU-B-Nag5v"
      },
      "source": [
        "We’ve redefined our module ``MyCell``, but this time we’ve added a\n",
        "``self.linear`` attribute, and we invoke ``self.linear`` in the forward\n",
        "function.\n",
        "\n",
        "What exactly is happening here? ``torch.nn.Linear`` is a ``Module`` from\n",
        "the PyTorch standard library. Just like ``MyCell``, it can be invoked\n",
        "using the call syntax. We are building a hierarchy of ``Module``\\ s.\n",
        "\n",
        "``print`` on a ``Module`` will give a visual representation of the\n",
        "``Module``\\ ’s subclass hierarchy. In our example, we can see our\n",
        "``Linear`` subclass and its parameters.\n",
        "\n",
        "By composing ``Module``\\ s in this way, we can succintly and readably\n",
        "author models with reusable components.\n",
        "\n",
        "You may have noticed ``grad_fn`` on the outputs. This is a detail of\n",
        "PyTorch’s method of automatic differentiation, called\n",
        "`autograd <https://pytorch.org/tutorials/beginner/blitz/autograd_tutorial.html>`__.\n",
        "In short, this system allows us to compute derivatives through\n",
        "potentially complex programs. The design allows for a massive amount of\n",
        "flexibility in model authoring.\n",
        "\n",
        "Now let’s examine said flexibility:\n",
        "\n",
        "\n"
      ]
    },
    {
      "cell_type": "code",
      "metadata": {
        "id": "GwX2-A7tcfsi",
        "outputId": "fb64ad43-3eb8-455a-846b-0386433fb3a5",
        "colab": {
          "base_uri": "https://localhost:8080/",
          "height": 68
        }
      },
      "source": [
        "print(my_cell)"
      ],
      "execution_count": 8,
      "outputs": [
        {
          "output_type": "stream",
          "text": [
            "MyCell(\n",
            "  (linear): Linear(in_features=4, out_features=4, bias=True)\n",
            ")\n"
          ],
          "name": "stdout"
        }
      ]
    },
    {
      "cell_type": "code",
      "metadata": {
        "id": "ZEOpgYm4ag5w",
        "outputId": "f7cb136c-e25e-4a1d-a8b2-5d7660a49f0a",
        "colab": {
          "base_uri": "https://localhost:8080/",
          "height": 170
        }
      },
      "source": [
        "class MyDecisionGate(torch.nn.Module):\n",
        "  def forward(self, x):\n",
        "    if x.sum() > 0:\n",
        "      return x\n",
        "    else:\n",
        "      return -x\n",
        "\n",
        "class MyCell(torch.nn.Module):\n",
        "    def __init__(self):\n",
        "        super(MyCell, self).__init__()\n",
        "        self.dg = MyDecisionGate()\n",
        "        self.linear = torch.nn.Linear(4, 4)\n",
        "\n",
        "    def forward(self, x, h):\n",
        "        new_h = torch.tanh(self.dg(self.linear(x)) + h)\n",
        "        return new_h, new_h\n",
        "\n",
        "my_cell = MyCell()\n",
        "print(my_cell)\n",
        "print(my_cell(x, h))"
      ],
      "execution_count": 9,
      "outputs": [
        {
          "output_type": "stream",
          "text": [
            "MyCell(\n",
            "  (dg): MyDecisionGate()\n",
            "  (linear): Linear(in_features=4, out_features=4, bias=True)\n",
            ")\n",
            "(tensor([[0.7824, 0.2785, 0.5645, 0.8828],\n",
            "        [0.5322, 0.1821, 0.0674, 0.8334],\n",
            "        [0.8657, 0.0238, 0.4482, 0.5519]], grad_fn=<TanhBackward>), tensor([[0.7824, 0.2785, 0.5645, 0.8828],\n",
            "        [0.5322, 0.1821, 0.0674, 0.8334],\n",
            "        [0.8657, 0.0238, 0.4482, 0.5519]], grad_fn=<TanhBackward>))\n"
          ],
          "name": "stdout"
        }
      ]
    },
    {
      "cell_type": "markdown",
      "metadata": {
        "id": "J2YDMiHuag5y"
      },
      "source": [
        "We’ve once again redefined our MyCell class, but here we’ve defined\n",
        "``MyDecisionGate``. This module utilizes **control flow**. Control flow\n",
        "consists of things like loops and ``if``-statements.\n",
        "\n",
        "Many frameworks take the approach of computing symbolic derivatives\n",
        "given a full program representation. However, in PyTorch, we use a\n",
        "gradient tape. We record operations as they occur, and replay them\n",
        "backwards in computing derivatives. In this way, the framework does not\n",
        "have to explicitly define derivatives for all constructs in the\n",
        "language.\n",
        "\n",
        ".. figure:: https://github.com/pytorch/pytorch/raw/master/docs/source/_static/img/dynamic_graph.gif\n",
        "   :alt: How autograd works\n",
        "\n",
        "   How autograd works\n",
        "\n",
        "\n"
      ]
    },
    {
      "cell_type": "markdown",
      "metadata": {
        "id": "8G-mUXGeag5z"
      },
      "source": [
        "Basics of TorchScript\n",
        "---------------------\n",
        "\n",
        "Now let’s take our running example and see how we can apply TorchScript.\n",
        "\n",
        "In short, TorchScript provides tools to capture the definition of your\n",
        "model, even in light of the flexible and dynamic nature of PyTorch.\n",
        "Let’s begin by examining what we call **tracing**.\n",
        "\n",
        "Tracing ``Modules``\n",
        "~~~~~~~~~~~~~~~~~~~\n",
        "\n",
        "\n"
      ]
    },
    {
      "cell_type": "code",
      "metadata": {
        "id": "GdHs8_mFag5z",
        "outputId": "ee758c8d-c78e-4692-8867-c302ee079c8b",
        "colab": {
          "base_uri": "https://localhost:8080/",
          "height": 221
        }
      },
      "source": [
        "class MyCell(torch.nn.Module):\n",
        "    def __init__(self):\n",
        "        super(MyCell, self).__init__()\n",
        "        self.linear = torch.nn.Linear(4, 4)\n",
        "\n",
        "    def forward(self, x, h):\n",
        "        new_h = torch.tanh(self.linear(x) + h)\n",
        "        return new_h, new_h\n",
        "      \n",
        "my_cell = MyCell()\n",
        "x, h = torch.rand(3, 4), torch.rand(3, 4)\n",
        "traced_cell = torch.jit.trace(my_cell, (x, h))\n",
        "print(traced_cell)\n",
        "traced_cell(x, h)"
      ],
      "execution_count": 10,
      "outputs": [
        {
          "output_type": "stream",
          "text": [
            "MyCell(\n",
            "  original_name=MyCell\n",
            "  (linear): Linear(original_name=Linear)\n",
            ")\n"
          ],
          "name": "stdout"
        },
        {
          "output_type": "execute_result",
          "data": {
            "text/plain": [
              "(tensor([[ 0.8132, -0.4415,  0.5588,  0.4482],\n",
              "         [ 0.4921,  0.6002,  0.3591,  0.2648],\n",
              "         [ 0.6545,  0.5125,  0.4176,  0.4418]],\n",
              "        grad_fn=<DifferentiableGraphBackward>),\n",
              " tensor([[ 0.8132, -0.4415,  0.5588,  0.4482],\n",
              "         [ 0.4921,  0.6002,  0.3591,  0.2648],\n",
              "         [ 0.6545,  0.5125,  0.4176,  0.4418]],\n",
              "        grad_fn=<DifferentiableGraphBackward>))"
            ]
          },
          "metadata": {
            "tags": []
          },
          "execution_count": 10
        }
      ]
    },
    {
      "cell_type": "markdown",
      "metadata": {
        "id": "3NX4cGT_ag52"
      },
      "source": [
        "We’ve rewinded a bit and taken the second version of our ``MyCell``\n",
        "class. As before, we’ve instantiated it, but this time, we’ve called\n",
        "``torch.jit.trace``, passed in the ``Module``, and passed in *example\n",
        "inputs* the network might see.\n",
        "\n",
        "What exactly has this done? It has invoked the ``Module``, recorded the\n",
        "operations that occured when the ``Module`` was run, and created an\n",
        "instance of ``torch.jit.ScriptModule`` (of which ``TracedModule`` is an\n",
        "instance)\n",
        "\n",
        "TorchScript records its definitions in an Intermediate Representation\n",
        "(or IR), commonly referred to in Deep learning as a *graph*. We can\n",
        "examine the graph with the ``.graph`` property:\n",
        "\n",
        "\n"
      ]
    },
    {
      "cell_type": "code",
      "metadata": {
        "id": "KjUWAwp8ag52",
        "outputId": "a57228b3-0207-406b-eed2-411493bcaaa8",
        "colab": {
          "base_uri": "https://localhost:8080/",
          "height": 204
        }
      },
      "source": [
        "print(traced_cell.graph)"
      ],
      "execution_count": 11,
      "outputs": [
        {
          "output_type": "stream",
          "text": [
            "graph(%self.1 : __torch__.MyCell,\n",
            "      %input : Float(3:4, 4:1),\n",
            "      %h : Float(3:4, 4:1)):\n",
            "  %19 : __torch__.torch.nn.modules.linear.Linear = prim::GetAttr[name=\"linear\"](%self.1)\n",
            "  %21 : Tensor = prim::CallMethod[name=\"forward\"](%19, %input)\n",
            "  %12 : int = prim::Constant[value=1]() # <ipython-input-10-daf2479549f6>:7:0\n",
            "  %13 : Float(3:4, 4:1) = aten::add(%21, %h, %12) # <ipython-input-10-daf2479549f6>:7:0\n",
            "  %14 : Float(3:4, 4:1) = aten::tanh(%13) # <ipython-input-10-daf2479549f6>:7:0\n",
            "  %15 : (Float(3:4, 4:1), Float(3:4, 4:1)) = prim::TupleConstruct(%14, %14)\n",
            "  return (%15)\n",
            "\n"
          ],
          "name": "stdout"
        }
      ]
    },
    {
      "cell_type": "markdown",
      "metadata": {
        "id": "0aLmgrgcag55"
      },
      "source": [
        "However, this is a very low-level representation and most of the\n",
        "information contained in the graph is not useful for end users. Instead,\n",
        "we can use the ``.code`` property to give a Python-syntax interpretation\n",
        "of the code:\n",
        "\n",
        "\n"
      ]
    },
    {
      "cell_type": "code",
      "metadata": {
        "id": "XW-sQ8HEag55",
        "outputId": "c80dde30-c929-4de9-bb7e-12a5ac0755cf",
        "colab": {
          "base_uri": "https://localhost:8080/",
          "height": 136
        }
      },
      "source": [
        "print(traced_cell.code)"
      ],
      "execution_count": 12,
      "outputs": [
        {
          "output_type": "stream",
          "text": [
            "def forward(self,\n",
            "    input: Tensor,\n",
            "    h: Tensor) -> Tuple[Tensor, Tensor]:\n",
            "  _0 = torch.add((self.linear).forward(input, ), h, alpha=1)\n",
            "  _1 = torch.tanh(_0)\n",
            "  return (_1, _1)\n",
            "\n"
          ],
          "name": "stdout"
        }
      ]
    },
    {
      "cell_type": "markdown",
      "metadata": {
        "id": "XmVzMbW2ag57"
      },
      "source": [
        "So **why** did we do all this? There are several reasons:\n",
        "\n",
        "1. TorchScript code can be invoked in its own interpreter, which is\n",
        "   basically a restricted Python interpreter. This interpreter does not\n",
        "   acquire the Global Interpreter Lock, and so many requests can be\n",
        "   processed on the same instance simultaneously.\n",
        "2. This format allows us to save the whole model to disk and load it\n",
        "   into another environment, such as in a server written in a language\n",
        "   other than Python\n",
        "3. TorchScript gives us a representation in which we can do compiler\n",
        "   optimizations on the code to provide more efficient execution\n",
        "4. TorchScript allows us to interface with many backend/device runtimes\n",
        "   that require a broader view of the program than individual operators.\n",
        "\n",
        "We can see that invoking ``traced_cell`` produces the same results as\n",
        "the Python module:\n",
        "\n",
        "\n"
      ]
    },
    {
      "cell_type": "code",
      "metadata": {
        "id": "eitDAFlrag58",
        "outputId": "379d10da-ff82-481e-a262-d29112d9b4dc",
        "colab": {
          "base_uri": "https://localhost:8080/",
          "height": 221
        }
      },
      "source": [
        "print(my_cell(x, h))\n",
        "print(traced_cell(x, h))"
      ],
      "execution_count": 13,
      "outputs": [
        {
          "output_type": "stream",
          "text": [
            "(tensor([[ 0.8132, -0.4415,  0.5588,  0.4482],\n",
            "        [ 0.4921,  0.6002,  0.3591,  0.2648],\n",
            "        [ 0.6545,  0.5125,  0.4176,  0.4418]], grad_fn=<TanhBackward>), tensor([[ 0.8132, -0.4415,  0.5588,  0.4482],\n",
            "        [ 0.4921,  0.6002,  0.3591,  0.2648],\n",
            "        [ 0.6545,  0.5125,  0.4176,  0.4418]], grad_fn=<TanhBackward>))\n",
            "(tensor([[ 0.8132, -0.4415,  0.5588,  0.4482],\n",
            "        [ 0.4921,  0.6002,  0.3591,  0.2648],\n",
            "        [ 0.6545,  0.5125,  0.4176,  0.4418]],\n",
            "       grad_fn=<DifferentiableGraphBackward>), tensor([[ 0.8132, -0.4415,  0.5588,  0.4482],\n",
            "        [ 0.4921,  0.6002,  0.3591,  0.2648],\n",
            "        [ 0.6545,  0.5125,  0.4176,  0.4418]],\n",
            "       grad_fn=<DifferentiableGraphBackward>))\n"
          ],
          "name": "stdout"
        }
      ]
    },
    {
      "cell_type": "markdown",
      "metadata": {
        "id": "InEGdxu9ag5-"
      },
      "source": [
        "Using Scripting to Convert Modules\n",
        "----------------------------------\n",
        "\n",
        "There’s a reason we used version two of our module, and not the one with\n",
        "the control-flow-laden submodule. Let’s examine that now:\n",
        "\n",
        "\n"
      ]
    },
    {
      "cell_type": "code",
      "metadata": {
        "id": "mf3Yt9CRag5-",
        "outputId": "c0f95a4e-b7af-4594-a3bb-43f2b896c7b8",
        "colab": {
          "base_uri": "https://localhost:8080/",
          "height": 224
        }
      },
      "source": [
        "class MyDecisionGate(torch.nn.Module):\n",
        "  def forward(self, x):\n",
        "    if x.sum() > 0:\n",
        "      return x\n",
        "    else:\n",
        "      return -x\n",
        "\n",
        "class MyCell(torch.nn.Module):\n",
        "    def __init__(self, dg):\n",
        "        super(MyCell, self).__init__()\n",
        "        self.dg = dg\n",
        "        self.linear = torch.nn.Linear(4, 4)\n",
        "\n",
        "    def forward(self, x, h):\n",
        "        new_h = torch.tanh(self.dg(self.linear(x)) + h)\n",
        "        return new_h, new_h\n",
        "      \n",
        "my_cell = MyCell(MyDecisionGate())\n",
        "traced_cell = torch.jit.trace(my_cell, (x, h))\n",
        "print(traced_cell.code)"
      ],
      "execution_count": 14,
      "outputs": [
        {
          "output_type": "stream",
          "text": [
            "def forward(self,\n",
            "    input: Tensor,\n",
            "    h: Tensor) -> Tuple[Tensor, Tensor]:\n",
            "  _0 = self.dg\n",
            "  _1 = (self.linear).forward(input, )\n",
            "  _2 = (_0).forward(_1, )\n",
            "  _3 = torch.tanh(torch.add(_1, h, alpha=1))\n",
            "  return (_3, _3)\n",
            "\n"
          ],
          "name": "stdout"
        },
        {
          "output_type": "stream",
          "text": [
            "/usr/local/lib/python3.6/dist-packages/ipykernel_launcher.py:3: TracerWarning: Converting a tensor to a Python boolean might cause the trace to be incorrect. We can't record the data flow of Python values, so this value will be treated as a constant in the future. This means that the trace might not generalize to other inputs!\n",
            "  This is separate from the ipykernel package so we can avoid doing imports until\n"
          ],
          "name": "stderr"
        }
      ]
    },
    {
      "cell_type": "markdown",
      "metadata": {
        "id": "KITV50BVag6B"
      },
      "source": [
        "Looking at the ``.code`` output, we can see that the ``if-else`` branch\n",
        "is nowhere to be found! Why? Tracing does exactly what we said it would:\n",
        "run the code, record the operations *that happen* and construct a\n",
        "ScriptModule that does exactly that. Unfortunately, things like control\n",
        "flow are erased.\n",
        "\n",
        "How can we faithfully represent this module in TorchScript? We provide a\n",
        "**script compiler**, which does direct analysis of your Python source\n",
        "code to transform it into TorchScript. Let’s convert ``MyDecisionGate``\n",
        "using the script compiler:\n",
        "\n",
        "\n"
      ]
    },
    {
      "cell_type": "code",
      "metadata": {
        "id": "RQ6BFyTTag6B",
        "outputId": "b4767bc2-3795-4cc3-825c-abe90e148869",
        "colab": {
          "base_uri": "https://localhost:8080/",
          "height": 136
        }
      },
      "source": [
        "scripted_gate = torch.jit.script(MyDecisionGate())\n",
        "\n",
        "my_cell = MyCell(scripted_gate)\n",
        "traced_cell = torch.jit.script(my_cell)\n",
        "print(traced_cell.code)"
      ],
      "execution_count": 15,
      "outputs": [
        {
          "output_type": "stream",
          "text": [
            "def forward(self,\n",
            "    x: Tensor,\n",
            "    h: Tensor) -> Tuple[Tensor, Tensor]:\n",
            "  _0 = (self.dg).forward((self.linear).forward(x, ), )\n",
            "  new_h = torch.tanh(torch.add(_0, h, alpha=1))\n",
            "  return (new_h, new_h)\n",
            "\n"
          ],
          "name": "stdout"
        }
      ]
    },
    {
      "cell_type": "markdown",
      "metadata": {
        "id": "TuC6rQg9ag6D"
      },
      "source": [
        "Hooray! We’ve now faithfully captured the behavior of our program in\n",
        "TorchScript. Let’s now try running the program:\n",
        "\n",
        "\n"
      ]
    },
    {
      "cell_type": "code",
      "metadata": {
        "id": "TJCTYm83ag6F",
        "outputId": "fb2abb7d-2eee-4446-8d44-e291262dba6b",
        "colab": {
          "base_uri": "https://localhost:8080/",
          "height": 153
        }
      },
      "source": [
        "# New inputs\n",
        "x, h = torch.rand(3, 4), torch.rand(3, 4)\n",
        "traced_cell(x, h)"
      ],
      "execution_count": 16,
      "outputs": [
        {
          "output_type": "execute_result",
          "data": {
            "text/plain": [
              "(tensor([[-0.1096,  0.1631,  0.2953,  0.9278],\n",
              "         [ 0.2350,  0.6059,  0.5316,  0.7901],\n",
              "         [ 0.3318,  0.0943, -0.0179,  0.9092]],\n",
              "        grad_fn=<DifferentiableGraphBackward>),\n",
              " tensor([[-0.1096,  0.1631,  0.2953,  0.9278],\n",
              "         [ 0.2350,  0.6059,  0.5316,  0.7901],\n",
              "         [ 0.3318,  0.0943, -0.0179,  0.9092]],\n",
              "        grad_fn=<DifferentiableGraphBackward>))"
            ]
          },
          "metadata": {
            "tags": []
          },
          "execution_count": 16
        }
      ]
    },
    {
      "cell_type": "markdown",
      "metadata": {
        "id": "AIABPvNuag6H"
      },
      "source": [
        "Mixing Scripting and Tracing\n",
        "~~~~~~~~~~~~~~~~~~~~~~~~~~~~\n",
        "\n",
        "Some situations call for using tracing rather than scripting (e.g. a\n",
        "module has many architectural decisions that are made based on constant\n",
        "Python values that we would like to not appear in TorchScript). In this\n",
        "case, scripting can be composed with tracing: ``torch.jit.script`` will\n",
        "inline the code for a traced module, and tracing will inline the code\n",
        "for a scripted module.\n",
        "\n",
        "An example of the first case:\n",
        "\n",
        "\n"
      ]
    },
    {
      "cell_type": "code",
      "metadata": {
        "id": "qi9Xhsetag6I",
        "outputId": "98d589fb-a458-4214-e5b0-dd867dacf6fd",
        "colab": {
          "base_uri": "https://localhost:8080/",
          "height": 221
        }
      },
      "source": [
        "class MyRNNLoop(torch.nn.Module):\n",
        "    def __init__(self):\n",
        "        super(MyRNNLoop, self).__init__()\n",
        "        self.cell = torch.jit.trace(MyCell(scripted_gate), (x, h))\n",
        "\n",
        "    def forward(self, xs):\n",
        "        h, y = torch.zeros(3, 4), torch.zeros(3, 4)\n",
        "        for i in range(xs.size(0)):\n",
        "            y, h = self.cell(xs[i], h)\n",
        "        return y, h\n",
        "      \n",
        "rnn_loop = torch.jit.script(MyRNNLoop())\n",
        "print(rnn_loop.code)"
      ],
      "execution_count": 17,
      "outputs": [
        {
          "output_type": "stream",
          "text": [
            "def forward(self,\n",
            "    xs: Tensor) -> Tuple[Tensor, Tensor]:\n",
            "  h = torch.zeros([3, 4], dtype=None, layout=None, device=None, pin_memory=None)\n",
            "  y = torch.zeros([3, 4], dtype=None, layout=None, device=None, pin_memory=None)\n",
            "  y0 = y\n",
            "  h0 = h\n",
            "  for i in range(torch.size(xs, 0)):\n",
            "    _0 = (self.cell).forward(torch.select(xs, 0, i), h0, )\n",
            "    y1, h1, = _0\n",
            "    y0, h0 = y1, h1\n",
            "  return (y0, h0)\n",
            "\n"
          ],
          "name": "stdout"
        }
      ]
    },
    {
      "cell_type": "markdown",
      "metadata": {
        "id": "YfHuvq67ag6K"
      },
      "source": [
        "And an example of the second case:\n",
        "\n",
        "\n"
      ]
    },
    {
      "cell_type": "code",
      "metadata": {
        "id": "tUAI1bI1ag6K",
        "outputId": "2138b95f-0c8d-4773-c071-05d77e5ad50f",
        "colab": {
          "base_uri": "https://localhost:8080/",
          "height": 102
        }
      },
      "source": [
        "class WrapRNN(torch.nn.Module):\n",
        "  def __init__(self):\n",
        "    super(WrapRNN, self).__init__()\n",
        "    self.loop = torch.jit.script(MyRNNLoop())\n",
        "    \n",
        "  def forward(self, xs):\n",
        "    y, h = self.loop(xs)\n",
        "    return torch.relu(y)\n",
        "  \n",
        "traced = torch.jit.trace(WrapRNN(), (torch.rand(10, 3, 4)))\n",
        "print(traced.code)"
      ],
      "execution_count": 18,
      "outputs": [
        {
          "output_type": "stream",
          "text": [
            "def forward(self,\n",
            "    argument_1: Tensor) -> Tensor:\n",
            "  _0, h, = (self.loop).forward(argument_1, )\n",
            "  return torch.relu(h)\n",
            "\n"
          ],
          "name": "stdout"
        }
      ]
    },
    {
      "cell_type": "markdown",
      "metadata": {
        "id": "PPPtStTIag6M"
      },
      "source": [
        "This way, scripting and tracing can be used when the situation calls for\n",
        "each of them and used together.\n",
        "\n",
        "Saving and Loading models\n",
        "-------------------------\n",
        "\n",
        "We provide APIs to save and load TorchScript modules to/from disk in an\n",
        "archive format. This format includes code, parameters, attributes, and\n",
        "debug information, meaning that the archive is a freestanding\n",
        "representation of the model that can be loaded in an entirely separate\n",
        "process. Let’s save and load our wrapped RNN module:\n",
        "\n",
        "\n"
      ]
    },
    {
      "cell_type": "code",
      "metadata": {
        "id": "HJkPW9u0ag6N",
        "outputId": "28b61b1b-5d55-4b3e-cb4b-30016669c8fc",
        "colab": {
          "base_uri": "https://localhost:8080/",
          "height": 289
        }
      },
      "source": [
        "traced.save('wrapped_rnn.zip')\n",
        "\n",
        "loaded = torch.jit.load('wrapped_rnn.zip')\n",
        "\n",
        "print(loaded)\n",
        "print(loaded.code)"
      ],
      "execution_count": 19,
      "outputs": [
        {
          "output_type": "stream",
          "text": [
            "RecursiveScriptModule(\n",
            "  original_name=WrapRNN\n",
            "  (loop): RecursiveScriptModule(\n",
            "    original_name=MyRNNLoop\n",
            "    (cell): RecursiveScriptModule(\n",
            "      original_name=MyCell\n",
            "      (dg): RecursiveScriptModule(original_name=MyDecisionGate)\n",
            "      (linear): RecursiveScriptModule(original_name=Linear)\n",
            "    )\n",
            "  )\n",
            ")\n",
            "def forward(self,\n",
            "    argument_1: Tensor) -> Tensor:\n",
            "  _0, h, = (self.loop).forward(argument_1, )\n",
            "  return torch.relu(h)\n",
            "\n"
          ],
          "name": "stdout"
        }
      ]
    },
    {
      "cell_type": "markdown",
      "metadata": {
        "id": "tUAWezF5ag6O"
      },
      "source": [
        "As you can see, serialization preserves the module hierarchy and the\n",
        "code we’ve been examining throughout. The model can also be loaded, for\n",
        "example, `into\n",
        "C++ <https://pytorch.org/tutorials/advanced/cpp_export.html>`__ for\n",
        "python-free execution.\n",
        "\n",
        "Further Reading\n",
        "~~~~~~~~~~~~~~~\n",
        "\n",
        "We’ve completed our tutorial! For a more involved demonstration, check\n",
        "out the NeurIPS demo for converting machine translation models using\n",
        "TorchScript:\n",
        "https://colab.research.google.com/drive/1HiICg6jRkBnr5hvK2-VnMi88Vi9pUzEJ\n",
        "\n",
        "\n"
      ]
    }
  ]
}