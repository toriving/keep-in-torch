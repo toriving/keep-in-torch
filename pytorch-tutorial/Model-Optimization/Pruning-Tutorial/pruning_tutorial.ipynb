{
  "nbformat": 4,
  "nbformat_minor": 0,
  "metadata": {
    "kernelspec": {
      "display_name": "Python 3",
      "language": "python",
      "name": "python3"
    },
    "language_info": {
      "codemirror_mode": {
        "name": "ipython",
        "version": 3
      },
      "file_extension": ".py",
      "mimetype": "text/x-python",
      "name": "python",
      "nbconvert_exporter": "python",
      "pygments_lexer": "ipython3",
      "version": "3.6.8"
    },
    "colab": {
      "name": "pruning_tutorial.ipynb",
      "provenance": []
    },
    "accelerator": "GPU"
  },
  "cells": [
    {
      "cell_type": "code",
      "metadata": {
        "id": "OsxLbAF-qu4A"
      },
      "source": [
        "%matplotlib inline"
      ],
      "execution_count": 1,
      "outputs": []
    },
    {
      "cell_type": "markdown",
      "metadata": {
        "id": "XQxr-Uf9qu4D"
      },
      "source": [
        "\n",
        "Pruning Tutorial\n",
        "=====================================\n",
        "**Author**: `Michela Paganini <https://github.com/mickypaganini>`_\n",
        "\n",
        "State-of-the-art deep learning techniques rely on over-parametrized models \n",
        "that are hard to deploy. On the contrary, biological neural networks are \n",
        "known to use efficient sparse connectivity. Identifying optimal  \n",
        "techniques to compress models by reducing the number of parameters in them is \n",
        "important in order to reduce memory, battery, and hardware consumption without \n",
        "sacrificing accuracy, deploy lightweight models on device, and guarantee \n",
        "privacy with private on-device computation. On the research front, pruning is \n",
        "used to investigate the differences in learning dynamics between \n",
        "over-parametrized and under-parametrized networks, to study the role of lucky \n",
        "sparse subnetworks and initializations\n",
        "(\"`lottery tickets <https://arxiv.org/abs/1803.03635>`_\") as a destructive \n",
        "neural architecture search technique, and more.\n",
        "\n",
        "In this tutorial, you will learn how to use ``torch.nn.utils.prune`` to \n",
        "sparsify your neural networks, and how to extend it to implement your \n",
        "own custom pruning technique.\n",
        "\n",
        "Requirements\n",
        "------------\n",
        "``\"torch>=1.4.0a0+8e8a5e0\"``\n",
        "\n",
        "\n"
      ]
    },
    {
      "cell_type": "code",
      "metadata": {
        "id": "8KcEopbvqu4D"
      },
      "source": [
        "import torch\n",
        "from torch import nn\n",
        "import torch.nn.utils.prune as prune\n",
        "import torch.nn.functional as F"
      ],
      "execution_count": 2,
      "outputs": []
    },
    {
      "cell_type": "markdown",
      "metadata": {
        "id": "3ZHluDTrqu4F"
      },
      "source": [
        "Create a model\n",
        "--------------\n",
        "\n",
        "In this tutorial, we use the `LeNet \n",
        "<http://yann.lecun.com/exdb/publis/pdf/lecun-98.pdf>`_ architecture from \n",
        "LeCun et al., 1998.\n",
        "\n"
      ]
    },
    {
      "cell_type": "code",
      "metadata": {
        "id": "FLEvaw7Uqu4G"
      },
      "source": [
        "device = torch.device(\"cuda\" if torch.cuda.is_available() else \"cpu\")\n",
        "\n",
        "class LeNet(nn.Module):\n",
        "    def __init__(self):\n",
        "        super(LeNet, self).__init__()\n",
        "        # 1 input image channel, 6 output channels, 3x3 square conv kernel\n",
        "        self.conv1 = nn.Conv2d(1, 6, 3)\n",
        "        self.conv2 = nn.Conv2d(6, 16, 3)\n",
        "        self.fc1 = nn.Linear(16 * 5 * 5, 120)  # 5x5 image dimension\n",
        "        self.fc2 = nn.Linear(120, 84)\n",
        "        self.fc3 = nn.Linear(84, 10)\n",
        "\n",
        "    def forward(self, x):\n",
        "        x = F.max_pool2d(F.relu(self.conv1(x)), (2, 2))\n",
        "        x = F.max_pool2d(F.relu(self.conv2(x)), 2)\n",
        "        x = x.view(-1, int(x.nelement() / x.shape[0]))\n",
        "        x = F.relu(self.fc1(x))\n",
        "        x = F.relu(self.fc2(x))\n",
        "        x = self.fc3(x)\n",
        "        return x\n",
        "\n",
        "model = LeNet().to(device=device)"
      ],
      "execution_count": 3,
      "outputs": []
    },
    {
      "cell_type": "markdown",
      "metadata": {
        "id": "iQwqca9iqu4I"
      },
      "source": [
        "Inspect a Module\n",
        "----------------\n",
        "\n",
        "Let's inspect the (unpruned) ``conv1`` layer in our LeNet model. It will contain two \n",
        "parameters ``weight`` and ``bias``, and no buffers, for now.\n",
        "\n"
      ]
    },
    {
      "cell_type": "code",
      "metadata": {
        "id": "5ojJUiykqu4I",
        "outputId": "c9b8e3c7-831d-4673-f328-aee8ddb7f98e",
        "colab": {
          "base_uri": "https://localhost:8080/",
          "height": 575
        }
      },
      "source": [
        "module = model.conv1\n",
        "print(list(module.named_parameters()))"
      ],
      "execution_count": 4,
      "outputs": [
        {
          "output_type": "stream",
          "text": [
            "[('weight', Parameter containing:\n",
            "tensor([[[[ 0.1368, -0.0548, -0.2382],\n",
            "          [-0.2338, -0.0645, -0.2584],\n",
            "          [-0.1851,  0.2539, -0.2263]]],\n",
            "\n",
            "\n",
            "        [[[ 0.2538, -0.2729, -0.2803],\n",
            "          [-0.0209,  0.0275,  0.2764],\n",
            "          [ 0.0578,  0.2326,  0.0604]]],\n",
            "\n",
            "\n",
            "        [[[-0.0952, -0.2753, -0.0255],\n",
            "          [ 0.0471, -0.1990,  0.3220],\n",
            "          [-0.2298, -0.3177,  0.1386]]],\n",
            "\n",
            "\n",
            "        [[[-0.0690,  0.0226,  0.2804],\n",
            "          [-0.0233,  0.3123, -0.0715],\n",
            "          [ 0.0899, -0.2630, -0.2497]]],\n",
            "\n",
            "\n",
            "        [[[ 0.2818,  0.2135,  0.2811],\n",
            "          [-0.2311, -0.2017, -0.0576],\n",
            "          [ 0.0195,  0.0320, -0.0694]]],\n",
            "\n",
            "\n",
            "        [[[ 0.3007, -0.1241, -0.2832],\n",
            "          [ 0.2224,  0.1642, -0.3219],\n",
            "          [-0.0994, -0.2830, -0.1024]]]], device='cuda:0', requires_grad=True)), ('bias', Parameter containing:\n",
            "tensor([-0.1673, -0.2723,  0.1051,  0.0353,  0.0010, -0.1032], device='cuda:0',\n",
            "       requires_grad=True))]\n"
          ],
          "name": "stdout"
        }
      ]
    },
    {
      "cell_type": "code",
      "metadata": {
        "id": "hb2y4sAQqu4K",
        "outputId": "0aff7bf3-9eb2-4502-c0f8-e6965c0ab41b",
        "colab": {
          "base_uri": "https://localhost:8080/",
          "height": 35
        }
      },
      "source": [
        "print(list(module.named_buffers()))"
      ],
      "execution_count": 5,
      "outputs": [
        {
          "output_type": "stream",
          "text": [
            "[]\n"
          ],
          "name": "stdout"
        }
      ]
    },
    {
      "cell_type": "markdown",
      "metadata": {
        "id": "7LHpQIwnqu4M"
      },
      "source": [
        "Pruning a Module\n",
        "----------------\n",
        "\n",
        "To prune a module (in this example, the ``conv1`` layer of our LeNet \n",
        "architecture), first select a pruning technique among those available in \n",
        "``torch.nn.utils.prune`` (or\n",
        "`implement <#extending-torch-nn-utils-pruning-with-custom-pruning-functions>`_\n",
        "your own by subclassing \n",
        "``BasePruningMethod``). Then, specify the module and the name of the parameter to \n",
        "prune within that module. Finally, using the adequate keyword arguments \n",
        "required by the selected pruning technique, specify the pruning parameters.\n",
        "\n",
        "In this example, we will prune at random 30% of the connections in \n",
        "the parameter named ``weight`` in the ``conv1`` layer.\n",
        "The module is passed as the first argument to the function; ``name`` \n",
        "identifies the parameter within that module using its string identifier; and \n",
        "``amount`` indicates either the percentage of connections to prune (if it \n",
        "is a float between 0. and 1.), or the absolute number of connections to \n",
        "prune (if it is a non-negative integer).\n",
        "\n"
      ]
    },
    {
      "cell_type": "code",
      "metadata": {
        "id": "0eBDzR73qu4N",
        "outputId": "7534c0a5-985a-4696-a2ab-c3db98f0fe89",
        "colab": {
          "base_uri": "https://localhost:8080/",
          "height": 35
        }
      },
      "source": [
        "prune.random_unstructured(module, name=\"weight\", amount=0.3)"
      ],
      "execution_count": 6,
      "outputs": [
        {
          "output_type": "execute_result",
          "data": {
            "text/plain": [
              "Conv2d(1, 6, kernel_size=(3, 3), stride=(1, 1))"
            ]
          },
          "metadata": {
            "tags": []
          },
          "execution_count": 6
        }
      ]
    },
    {
      "cell_type": "markdown",
      "metadata": {
        "id": "tY6Bk6Uzqu4P"
      },
      "source": [
        "Pruning acts by removing ``weight`` from the parameters and replacing it with \n",
        "a new parameter called ``weight_orig`` (i.e. appending ``\"_orig\"`` to the \n",
        "initial parameter ``name``). ``weight_orig`` stores the unpruned version of \n",
        "the tensor. The ``bias`` was not pruned, so it will remain intact.\n",
        "\n"
      ]
    },
    {
      "cell_type": "code",
      "metadata": {
        "id": "veY9J1ELqu4P",
        "outputId": "69c18f6a-8ef1-471d-cf1d-1376ff028b0d",
        "colab": {
          "base_uri": "https://localhost:8080/",
          "height": 575
        }
      },
      "source": [
        "print(list(module.named_parameters()))"
      ],
      "execution_count": 7,
      "outputs": [
        {
          "output_type": "stream",
          "text": [
            "[('bias', Parameter containing:\n",
            "tensor([-0.1673, -0.2723,  0.1051,  0.0353,  0.0010, -0.1032], device='cuda:0',\n",
            "       requires_grad=True)), ('weight_orig', Parameter containing:\n",
            "tensor([[[[ 0.1368, -0.0548, -0.2382],\n",
            "          [-0.2338, -0.0645, -0.2584],\n",
            "          [-0.1851,  0.2539, -0.2263]]],\n",
            "\n",
            "\n",
            "        [[[ 0.2538, -0.2729, -0.2803],\n",
            "          [-0.0209,  0.0275,  0.2764],\n",
            "          [ 0.0578,  0.2326,  0.0604]]],\n",
            "\n",
            "\n",
            "        [[[-0.0952, -0.2753, -0.0255],\n",
            "          [ 0.0471, -0.1990,  0.3220],\n",
            "          [-0.2298, -0.3177,  0.1386]]],\n",
            "\n",
            "\n",
            "        [[[-0.0690,  0.0226,  0.2804],\n",
            "          [-0.0233,  0.3123, -0.0715],\n",
            "          [ 0.0899, -0.2630, -0.2497]]],\n",
            "\n",
            "\n",
            "        [[[ 0.2818,  0.2135,  0.2811],\n",
            "          [-0.2311, -0.2017, -0.0576],\n",
            "          [ 0.0195,  0.0320, -0.0694]]],\n",
            "\n",
            "\n",
            "        [[[ 0.3007, -0.1241, -0.2832],\n",
            "          [ 0.2224,  0.1642, -0.3219],\n",
            "          [-0.0994, -0.2830, -0.1024]]]], device='cuda:0', requires_grad=True))]\n"
          ],
          "name": "stdout"
        }
      ]
    },
    {
      "cell_type": "markdown",
      "metadata": {
        "id": "cfvVb_Yiqu4S"
      },
      "source": [
        "The pruning mask generated by the pruning technique selected above is saved \n",
        "as a module buffer named ``weight_mask`` (i.e. appending ``\"_mask\"`` to the \n",
        "initial parameter ``name``).\n",
        "\n"
      ]
    },
    {
      "cell_type": "code",
      "metadata": {
        "id": "TFgO0qk8qu4S",
        "outputId": "11c1c6fa-1790-4e98-d576-898840d8508a",
        "colab": {
          "base_uri": "https://localhost:8080/",
          "height": 521
        }
      },
      "source": [
        "print(list(module.named_buffers()))"
      ],
      "execution_count": 8,
      "outputs": [
        {
          "output_type": "stream",
          "text": [
            "[('weight_mask', tensor([[[[1., 1., 1.],\n",
            "          [1., 1., 1.],\n",
            "          [1., 1., 0.]]],\n",
            "\n",
            "\n",
            "        [[[1., 0., 1.],\n",
            "          [1., 1., 1.],\n",
            "          [0., 0., 0.]]],\n",
            "\n",
            "\n",
            "        [[[1., 1., 1.],\n",
            "          [0., 1., 1.],\n",
            "          [1., 1., 0.]]],\n",
            "\n",
            "\n",
            "        [[[1., 0., 0.],\n",
            "          [1., 1., 0.],\n",
            "          [1., 1., 1.]]],\n",
            "\n",
            "\n",
            "        [[[1., 0., 1.],\n",
            "          [0., 1., 0.],\n",
            "          [1., 1., 0.]]],\n",
            "\n",
            "\n",
            "        [[[1., 1., 1.],\n",
            "          [1., 0., 1.],\n",
            "          [0., 1., 1.]]]], device='cuda:0'))]\n"
          ],
          "name": "stdout"
        }
      ]
    },
    {
      "cell_type": "markdown",
      "metadata": {
        "id": "y99zBM1Kqu4U"
      },
      "source": [
        "For the forward pass to work without modification, the ``weight`` attribute \n",
        "needs to exist. The pruning techniques implemented in \n",
        "``torch.nn.utils.prune`` compute the pruned version of the weight (by \n",
        "combining the mask with the original parameter) and store them in the \n",
        "attribute ``weight``. Note, this is no longer a parameter of the ``module``,\n",
        "it is now simply an attribute.\n",
        "\n"
      ]
    },
    {
      "cell_type": "code",
      "metadata": {
        "id": "N_e8o7NUqu4U",
        "outputId": "f6371d11-2419-43ed-a8c0-6ce8ec08bd06",
        "colab": {
          "base_uri": "https://localhost:8080/",
          "height": 539
        }
      },
      "source": [
        "print(module.weight)"
      ],
      "execution_count": 9,
      "outputs": [
        {
          "output_type": "stream",
          "text": [
            "tensor([[[[ 0.1368, -0.0548, -0.2382],\n",
            "          [-0.2338, -0.0645, -0.2584],\n",
            "          [-0.1851,  0.2539, -0.0000]]],\n",
            "\n",
            "\n",
            "        [[[ 0.2538, -0.0000, -0.2803],\n",
            "          [-0.0209,  0.0275,  0.2764],\n",
            "          [ 0.0000,  0.0000,  0.0000]]],\n",
            "\n",
            "\n",
            "        [[[-0.0952, -0.2753, -0.0255],\n",
            "          [ 0.0000, -0.1990,  0.3220],\n",
            "          [-0.2298, -0.3177,  0.0000]]],\n",
            "\n",
            "\n",
            "        [[[-0.0690,  0.0000,  0.0000],\n",
            "          [-0.0233,  0.3123, -0.0000],\n",
            "          [ 0.0899, -0.2630, -0.2497]]],\n",
            "\n",
            "\n",
            "        [[[ 0.2818,  0.0000,  0.2811],\n",
            "          [-0.0000, -0.2017, -0.0000],\n",
            "          [ 0.0195,  0.0320, -0.0000]]],\n",
            "\n",
            "\n",
            "        [[[ 0.3007, -0.1241, -0.2832],\n",
            "          [ 0.2224,  0.0000, -0.3219],\n",
            "          [-0.0000, -0.2830, -0.1024]]]], device='cuda:0',\n",
            "       grad_fn=<MulBackward0>)\n"
          ],
          "name": "stdout"
        }
      ]
    },
    {
      "cell_type": "markdown",
      "metadata": {
        "id": "nho6hAs0qu4W"
      },
      "source": [
        "Finally, pruning is applied prior to each forward pass using PyTorch's\n",
        "``forward_pre_hooks``. Specifically, when the ``module`` is pruned, as we \n",
        "have done here, it will acquire a ``forward_pre_hook`` for each parameter \n",
        "associated with it that gets pruned. In this case, since we have so far \n",
        "only pruned the original parameter named ``weight``, only one hook will be\n",
        "present.\n",
        "\n"
      ]
    },
    {
      "cell_type": "code",
      "metadata": {
        "id": "AHDFVbLWqu4W",
        "outputId": "b27d0e98-b1d8-4004-ac64-3a1c245224c9",
        "colab": {
          "base_uri": "https://localhost:8080/",
          "height": 35
        }
      },
      "source": [
        "print(module._forward_pre_hooks)"
      ],
      "execution_count": 10,
      "outputs": [
        {
          "output_type": "stream",
          "text": [
            "OrderedDict([(0, <torch.nn.utils.prune.RandomUnstructured object at 0x7f50ff73e1d0>)])\n"
          ],
          "name": "stdout"
        }
      ]
    },
    {
      "cell_type": "markdown",
      "metadata": {
        "id": "8DiAG7maqu4Y"
      },
      "source": [
        "For completeness, we can now prune the ``bias`` too, to see how the \n",
        "parameters, buffers, hooks, and attributes of the ``module`` change.\n",
        "Just for the sake of trying out another pruning technique, here we prune the \n",
        "3 smallest entries in the bias by L1 norm, as implemented in the \n",
        "``l1_unstructured`` pruning function.\n",
        "\n"
      ]
    },
    {
      "cell_type": "code",
      "metadata": {
        "id": "NHL4uuq8qu4Z",
        "outputId": "f88a15dc-1b0e-426b-ee91-fa3fbf23472a",
        "colab": {
          "base_uri": "https://localhost:8080/",
          "height": 35
        }
      },
      "source": [
        "prune.l1_unstructured(module, name=\"bias\", amount=3)"
      ],
      "execution_count": 11,
      "outputs": [
        {
          "output_type": "execute_result",
          "data": {
            "text/plain": [
              "Conv2d(1, 6, kernel_size=(3, 3), stride=(1, 1))"
            ]
          },
          "metadata": {
            "tags": []
          },
          "execution_count": 11
        }
      ]
    },
    {
      "cell_type": "markdown",
      "metadata": {
        "id": "hcZZr_Guqu4c"
      },
      "source": [
        "We now expect the named parameters to include both ``weight_orig`` (from \n",
        "before) and ``bias_orig``. The buffers will include ``weight_mask`` and \n",
        "``bias_mask``. The pruned versions of the two tensors will exist as \n",
        "module attributes, and the module will now have two ``forward_pre_hooks``.\n",
        "\n"
      ]
    },
    {
      "cell_type": "code",
      "metadata": {
        "id": "2xfjERehqu4c",
        "outputId": "15b282e3-5e4c-4284-c3b3-2a627c18e442",
        "colab": {
          "base_uri": "https://localhost:8080/",
          "height": 575
        }
      },
      "source": [
        "print(list(module.named_parameters()))"
      ],
      "execution_count": 12,
      "outputs": [
        {
          "output_type": "stream",
          "text": [
            "[('weight_orig', Parameter containing:\n",
            "tensor([[[[ 0.1368, -0.0548, -0.2382],\n",
            "          [-0.2338, -0.0645, -0.2584],\n",
            "          [-0.1851,  0.2539, -0.2263]]],\n",
            "\n",
            "\n",
            "        [[[ 0.2538, -0.2729, -0.2803],\n",
            "          [-0.0209,  0.0275,  0.2764],\n",
            "          [ 0.0578,  0.2326,  0.0604]]],\n",
            "\n",
            "\n",
            "        [[[-0.0952, -0.2753, -0.0255],\n",
            "          [ 0.0471, -0.1990,  0.3220],\n",
            "          [-0.2298, -0.3177,  0.1386]]],\n",
            "\n",
            "\n",
            "        [[[-0.0690,  0.0226,  0.2804],\n",
            "          [-0.0233,  0.3123, -0.0715],\n",
            "          [ 0.0899, -0.2630, -0.2497]]],\n",
            "\n",
            "\n",
            "        [[[ 0.2818,  0.2135,  0.2811],\n",
            "          [-0.2311, -0.2017, -0.0576],\n",
            "          [ 0.0195,  0.0320, -0.0694]]],\n",
            "\n",
            "\n",
            "        [[[ 0.3007, -0.1241, -0.2832],\n",
            "          [ 0.2224,  0.1642, -0.3219],\n",
            "          [-0.0994, -0.2830, -0.1024]]]], device='cuda:0', requires_grad=True)), ('bias_orig', Parameter containing:\n",
            "tensor([-0.1673, -0.2723,  0.1051,  0.0353,  0.0010, -0.1032], device='cuda:0',\n",
            "       requires_grad=True))]\n"
          ],
          "name": "stdout"
        }
      ]
    },
    {
      "cell_type": "code",
      "metadata": {
        "id": "Pkjoz33Nqu4e",
        "outputId": "52eabdf8-2725-4a20-89ca-f4c535d2b86c",
        "colab": {
          "base_uri": "https://localhost:8080/",
          "height": 521
        }
      },
      "source": [
        "print(list(module.named_buffers()))"
      ],
      "execution_count": 13,
      "outputs": [
        {
          "output_type": "stream",
          "text": [
            "[('weight_mask', tensor([[[[1., 1., 1.],\n",
            "          [1., 1., 1.],\n",
            "          [1., 1., 0.]]],\n",
            "\n",
            "\n",
            "        [[[1., 0., 1.],\n",
            "          [1., 1., 1.],\n",
            "          [0., 0., 0.]]],\n",
            "\n",
            "\n",
            "        [[[1., 1., 1.],\n",
            "          [0., 1., 1.],\n",
            "          [1., 1., 0.]]],\n",
            "\n",
            "\n",
            "        [[[1., 0., 0.],\n",
            "          [1., 1., 0.],\n",
            "          [1., 1., 1.]]],\n",
            "\n",
            "\n",
            "        [[[1., 0., 1.],\n",
            "          [0., 1., 0.],\n",
            "          [1., 1., 0.]]],\n",
            "\n",
            "\n",
            "        [[[1., 1., 1.],\n",
            "          [1., 0., 1.],\n",
            "          [0., 1., 1.]]]], device='cuda:0')), ('bias_mask', tensor([1., 1., 1., 0., 0., 0.], device='cuda:0'))]\n"
          ],
          "name": "stdout"
        }
      ]
    },
    {
      "cell_type": "code",
      "metadata": {
        "id": "WFRYDOj0qu4g",
        "outputId": "ee2cc98c-db25-412d-f7a5-fecc12749d93",
        "colab": {
          "base_uri": "https://localhost:8080/",
          "height": 53
        }
      },
      "source": [
        "print(module.bias)"
      ],
      "execution_count": 14,
      "outputs": [
        {
          "output_type": "stream",
          "text": [
            "tensor([-0.1673, -0.2723,  0.1051,  0.0000,  0.0000, -0.0000], device='cuda:0',\n",
            "       grad_fn=<MulBackward0>)\n"
          ],
          "name": "stdout"
        }
      ]
    },
    {
      "cell_type": "code",
      "metadata": {
        "id": "p-d5r6lZqu4i",
        "outputId": "565792cb-f8d7-46ac-a70a-f503b11a24b2",
        "colab": {
          "base_uri": "https://localhost:8080/",
          "height": 35
        }
      },
      "source": [
        "print(module._forward_pre_hooks)"
      ],
      "execution_count": 15,
      "outputs": [
        {
          "output_type": "stream",
          "text": [
            "OrderedDict([(0, <torch.nn.utils.prune.RandomUnstructured object at 0x7f50ff73e1d0>), (1, <torch.nn.utils.prune.L1Unstructured object at 0x7f50ff73e898>)])\n"
          ],
          "name": "stdout"
        }
      ]
    },
    {
      "cell_type": "markdown",
      "metadata": {
        "id": "IxJEoiRUqu4j"
      },
      "source": [
        "Iterative Pruning\n",
        "-----------------\n",
        "\n",
        "The same parameter in a module can be pruned multiple times, with the \n",
        "effect of the various pruning calls being equal to the combination of the\n",
        "various masks applied in series.\n",
        "The combination of a new mask with the old mask is handled by the \n",
        "``PruningContainer``'s ``compute_mask`` method.\n",
        "\n",
        "Say, for example, that we now want to further prune ``module.weight``, this\n",
        "time using structured pruning along the 0th axis of the tensor (the 0th axis \n",
        "corresponds to the output channels of the convolutional layer and has \n",
        "dimensionality 6 for ``conv1``), based on the channels' L2 norm. This can be \n",
        "achieved using the ``ln_structured`` function, with ``n=2`` and ``dim=0``.\n",
        "\n"
      ]
    },
    {
      "cell_type": "code",
      "metadata": {
        "id": "h9LHJnZrqu4j",
        "outputId": "f5d2fb26-47fa-4a9d-871a-3475b736626e",
        "colab": {
          "base_uri": "https://localhost:8080/",
          "height": 539
        }
      },
      "source": [
        "prune.ln_structured(module, name=\"weight\", amount=0.5, n=2, dim=0)\n",
        "\n",
        "# As we can verify, this will zero out all the connections corresponding to \n",
        "# 50% (3 out of 6) of the channels, while preserving the action of the \n",
        "# previous mask.\n",
        "print(module.weight)"
      ],
      "execution_count": 16,
      "outputs": [
        {
          "output_type": "stream",
          "text": [
            "tensor([[[[ 0.1368, -0.0548, -0.2382],\n",
            "          [-0.2338, -0.0645, -0.2584],\n",
            "          [-0.1851,  0.2539, -0.0000]]],\n",
            "\n",
            "\n",
            "        [[[ 0.0000, -0.0000, -0.0000],\n",
            "          [-0.0000,  0.0000,  0.0000],\n",
            "          [ 0.0000,  0.0000,  0.0000]]],\n",
            "\n",
            "\n",
            "        [[[-0.0952, -0.2753, -0.0255],\n",
            "          [ 0.0000, -0.1990,  0.3220],\n",
            "          [-0.2298, -0.3177,  0.0000]]],\n",
            "\n",
            "\n",
            "        [[[-0.0000,  0.0000,  0.0000],\n",
            "          [-0.0000,  0.0000, -0.0000],\n",
            "          [ 0.0000, -0.0000, -0.0000]]],\n",
            "\n",
            "\n",
            "        [[[ 0.0000,  0.0000,  0.0000],\n",
            "          [-0.0000, -0.0000, -0.0000],\n",
            "          [ 0.0000,  0.0000, -0.0000]]],\n",
            "\n",
            "\n",
            "        [[[ 0.3007, -0.1241, -0.2832],\n",
            "          [ 0.2224,  0.0000, -0.3219],\n",
            "          [-0.0000, -0.2830, -0.1024]]]], device='cuda:0',\n",
            "       grad_fn=<MulBackward0>)\n"
          ],
          "name": "stdout"
        }
      ]
    },
    {
      "cell_type": "markdown",
      "metadata": {
        "id": "5qHuxsnJqu4l"
      },
      "source": [
        "The corresponding hook will now be of type \n",
        "``torch.nn.utils.prune.PruningContainer``, and will store the history of \n",
        "pruning applied to the ``weight`` parameter.\n",
        "\n"
      ]
    },
    {
      "cell_type": "code",
      "metadata": {
        "id": "XCFNWOQ-qu4m",
        "outputId": "f787353d-186c-4b56-b4bc-3de974b079e3",
        "colab": {
          "base_uri": "https://localhost:8080/",
          "height": 35
        }
      },
      "source": [
        "for hook in module._forward_pre_hooks.values():\n",
        "    if hook._tensor_name == \"weight\":  # select out the correct hook\n",
        "        break\n",
        "\n",
        "print(list(hook))  # pruning history in the container"
      ],
      "execution_count": 17,
      "outputs": [
        {
          "output_type": "stream",
          "text": [
            "[<torch.nn.utils.prune.RandomUnstructured object at 0x7f50ff73e1d0>, <torch.nn.utils.prune.LnStructured object at 0x7f50ff73ebe0>]\n"
          ],
          "name": "stdout"
        }
      ]
    },
    {
      "cell_type": "markdown",
      "metadata": {
        "id": "4qM0gzRrqu4n"
      },
      "source": [
        "Serializing a pruned model\n",
        "--------------------------\n",
        "All relevant tensors, including the mask buffers and the original parameters\n",
        "used to compute the pruned tensors are stored in the model's ``state_dict`` \n",
        "and can therefore be easily serialized and saved, if needed.\n",
        "\n"
      ]
    },
    {
      "cell_type": "code",
      "metadata": {
        "id": "GzX4abfTqu4o",
        "outputId": "c7668c6c-1181-4330-e3ca-1743d8361572",
        "colab": {
          "base_uri": "https://localhost:8080/",
          "height": 35
        }
      },
      "source": [
        "print(model.state_dict().keys())"
      ],
      "execution_count": 18,
      "outputs": [
        {
          "output_type": "stream",
          "text": [
            "odict_keys(['conv1.weight_orig', 'conv1.bias_orig', 'conv1.weight_mask', 'conv1.bias_mask', 'conv2.weight', 'conv2.bias', 'fc1.weight', 'fc1.bias', 'fc2.weight', 'fc2.bias', 'fc3.weight', 'fc3.bias'])\n"
          ],
          "name": "stdout"
        }
      ]
    },
    {
      "cell_type": "markdown",
      "metadata": {
        "id": "GlgNF1GLqu4p"
      },
      "source": [
        "Remove pruning re-parametrization\n",
        "---------------------------------\n",
        "\n",
        "To make the pruning permanent, remove the re-parametrization in terms\n",
        "of ``weight_orig`` and ``weight_mask``, and remove the ``forward_pre_hook``,\n",
        "we can use the ``remove`` functionality from ``torch.nn.utils.prune``.\n",
        "Note that this doesn't undo the pruning, as if it never happened. It simply \n",
        "makes it permanent, instead, by reassigning the parameter ``weight`` to the \n",
        "model parameters, in its pruned version.\n",
        "\n"
      ]
    },
    {
      "cell_type": "markdown",
      "metadata": {
        "id": "tMLTaRBMqu4q"
      },
      "source": [
        "Prior to removing the re-parametrization:\n",
        "\n"
      ]
    },
    {
      "cell_type": "code",
      "metadata": {
        "id": "0mLugR4yqu4q",
        "outputId": "6ecd5bd3-3090-4190-9c67-7dccbe4789aa",
        "colab": {
          "base_uri": "https://localhost:8080/",
          "height": 575
        }
      },
      "source": [
        "print(list(module.named_parameters()))"
      ],
      "execution_count": 19,
      "outputs": [
        {
          "output_type": "stream",
          "text": [
            "[('weight_orig', Parameter containing:\n",
            "tensor([[[[ 0.1368, -0.0548, -0.2382],\n",
            "          [-0.2338, -0.0645, -0.2584],\n",
            "          [-0.1851,  0.2539, -0.2263]]],\n",
            "\n",
            "\n",
            "        [[[ 0.2538, -0.2729, -0.2803],\n",
            "          [-0.0209,  0.0275,  0.2764],\n",
            "          [ 0.0578,  0.2326,  0.0604]]],\n",
            "\n",
            "\n",
            "        [[[-0.0952, -0.2753, -0.0255],\n",
            "          [ 0.0471, -0.1990,  0.3220],\n",
            "          [-0.2298, -0.3177,  0.1386]]],\n",
            "\n",
            "\n",
            "        [[[-0.0690,  0.0226,  0.2804],\n",
            "          [-0.0233,  0.3123, -0.0715],\n",
            "          [ 0.0899, -0.2630, -0.2497]]],\n",
            "\n",
            "\n",
            "        [[[ 0.2818,  0.2135,  0.2811],\n",
            "          [-0.2311, -0.2017, -0.0576],\n",
            "          [ 0.0195,  0.0320, -0.0694]]],\n",
            "\n",
            "\n",
            "        [[[ 0.3007, -0.1241, -0.2832],\n",
            "          [ 0.2224,  0.1642, -0.3219],\n",
            "          [-0.0994, -0.2830, -0.1024]]]], device='cuda:0', requires_grad=True)), ('bias_orig', Parameter containing:\n",
            "tensor([-0.1673, -0.2723,  0.1051,  0.0353,  0.0010, -0.1032], device='cuda:0',\n",
            "       requires_grad=True))]\n"
          ],
          "name": "stdout"
        }
      ]
    },
    {
      "cell_type": "code",
      "metadata": {
        "id": "-I6NlrIjqu4s",
        "outputId": "ecd3992d-4d14-4926-ef2b-904a53c3d114",
        "colab": {
          "base_uri": "https://localhost:8080/",
          "height": 521
        }
      },
      "source": [
        "print(list(module.named_buffers()))"
      ],
      "execution_count": 20,
      "outputs": [
        {
          "output_type": "stream",
          "text": [
            "[('weight_mask', tensor([[[[1., 1., 1.],\n",
            "          [1., 1., 1.],\n",
            "          [1., 1., 0.]]],\n",
            "\n",
            "\n",
            "        [[[0., 0., 0.],\n",
            "          [0., 0., 0.],\n",
            "          [0., 0., 0.]]],\n",
            "\n",
            "\n",
            "        [[[1., 1., 1.],\n",
            "          [0., 1., 1.],\n",
            "          [1., 1., 0.]]],\n",
            "\n",
            "\n",
            "        [[[0., 0., 0.],\n",
            "          [0., 0., 0.],\n",
            "          [0., 0., 0.]]],\n",
            "\n",
            "\n",
            "        [[[0., 0., 0.],\n",
            "          [0., 0., 0.],\n",
            "          [0., 0., 0.]]],\n",
            "\n",
            "\n",
            "        [[[1., 1., 1.],\n",
            "          [1., 0., 1.],\n",
            "          [0., 1., 1.]]]], device='cuda:0')), ('bias_mask', tensor([1., 1., 1., 0., 0., 0.], device='cuda:0'))]\n"
          ],
          "name": "stdout"
        }
      ]
    },
    {
      "cell_type": "code",
      "metadata": {
        "id": "5vi2OIfLqu4t",
        "outputId": "98b28943-02ec-43ff-9333-8507a024c42c",
        "colab": {
          "base_uri": "https://localhost:8080/",
          "height": 539
        }
      },
      "source": [
        "print(module.weight)"
      ],
      "execution_count": 21,
      "outputs": [
        {
          "output_type": "stream",
          "text": [
            "tensor([[[[ 0.1368, -0.0548, -0.2382],\n",
            "          [-0.2338, -0.0645, -0.2584],\n",
            "          [-0.1851,  0.2539, -0.0000]]],\n",
            "\n",
            "\n",
            "        [[[ 0.0000, -0.0000, -0.0000],\n",
            "          [-0.0000,  0.0000,  0.0000],\n",
            "          [ 0.0000,  0.0000,  0.0000]]],\n",
            "\n",
            "\n",
            "        [[[-0.0952, -0.2753, -0.0255],\n",
            "          [ 0.0000, -0.1990,  0.3220],\n",
            "          [-0.2298, -0.3177,  0.0000]]],\n",
            "\n",
            "\n",
            "        [[[-0.0000,  0.0000,  0.0000],\n",
            "          [-0.0000,  0.0000, -0.0000],\n",
            "          [ 0.0000, -0.0000, -0.0000]]],\n",
            "\n",
            "\n",
            "        [[[ 0.0000,  0.0000,  0.0000],\n",
            "          [-0.0000, -0.0000, -0.0000],\n",
            "          [ 0.0000,  0.0000, -0.0000]]],\n",
            "\n",
            "\n",
            "        [[[ 0.3007, -0.1241, -0.2832],\n",
            "          [ 0.2224,  0.0000, -0.3219],\n",
            "          [-0.0000, -0.2830, -0.1024]]]], device='cuda:0',\n",
            "       grad_fn=<MulBackward0>)\n"
          ],
          "name": "stdout"
        }
      ]
    },
    {
      "cell_type": "markdown",
      "metadata": {
        "id": "vskqhp_tqu4v"
      },
      "source": [
        "After removing the re-parametrization:\n",
        "\n"
      ]
    },
    {
      "cell_type": "code",
      "metadata": {
        "id": "bf6u0Cfvqu4w",
        "outputId": "cf1e374d-6265-4fa0-974e-412186e11caf",
        "colab": {
          "base_uri": "https://localhost:8080/",
          "height": 575
        }
      },
      "source": [
        "prune.remove(module, 'weight')\n",
        "print(list(module.named_parameters()))"
      ],
      "execution_count": 22,
      "outputs": [
        {
          "output_type": "stream",
          "text": [
            "[('bias_orig', Parameter containing:\n",
            "tensor([-0.1673, -0.2723,  0.1051,  0.0353,  0.0010, -0.1032], device='cuda:0',\n",
            "       requires_grad=True)), ('weight', Parameter containing:\n",
            "tensor([[[[ 0.1368, -0.0548, -0.2382],\n",
            "          [-0.2338, -0.0645, -0.2584],\n",
            "          [-0.1851,  0.2539, -0.0000]]],\n",
            "\n",
            "\n",
            "        [[[ 0.0000, -0.0000, -0.0000],\n",
            "          [-0.0000,  0.0000,  0.0000],\n",
            "          [ 0.0000,  0.0000,  0.0000]]],\n",
            "\n",
            "\n",
            "        [[[-0.0952, -0.2753, -0.0255],\n",
            "          [ 0.0000, -0.1990,  0.3220],\n",
            "          [-0.2298, -0.3177,  0.0000]]],\n",
            "\n",
            "\n",
            "        [[[-0.0000,  0.0000,  0.0000],\n",
            "          [-0.0000,  0.0000, -0.0000],\n",
            "          [ 0.0000, -0.0000, -0.0000]]],\n",
            "\n",
            "\n",
            "        [[[ 0.0000,  0.0000,  0.0000],\n",
            "          [-0.0000, -0.0000, -0.0000],\n",
            "          [ 0.0000,  0.0000, -0.0000]]],\n",
            "\n",
            "\n",
            "        [[[ 0.3007, -0.1241, -0.2832],\n",
            "          [ 0.2224,  0.0000, -0.3219],\n",
            "          [-0.0000, -0.2830, -0.1024]]]], device='cuda:0', requires_grad=True))]\n"
          ],
          "name": "stdout"
        }
      ]
    },
    {
      "cell_type": "code",
      "metadata": {
        "id": "gUrKJximqu4y",
        "outputId": "2cca3af5-5262-4c75-ddc4-37cdbd2b3f5c",
        "colab": {
          "base_uri": "https://localhost:8080/",
          "height": 35
        }
      },
      "source": [
        "print(list(module.named_buffers()))"
      ],
      "execution_count": 23,
      "outputs": [
        {
          "output_type": "stream",
          "text": [
            "[('bias_mask', tensor([1., 1., 1., 0., 0., 0.], device='cuda:0'))]\n"
          ],
          "name": "stdout"
        }
      ]
    },
    {
      "cell_type": "markdown",
      "metadata": {
        "id": "3BCkstOqqu40"
      },
      "source": [
        "Pruning multiple parameters in a model \n",
        "--------------------------------------\n",
        "\n",
        "By specifying the desired pruning technique and parameters, we can easily \n",
        "prune multiple tensors in a network, perhaps according to their type, as we \n",
        "will see in this example.\n",
        "\n"
      ]
    },
    {
      "cell_type": "code",
      "metadata": {
        "id": "eY5SpSuvqu40",
        "outputId": "596b5da0-e17a-4ce5-adc4-193b6dc3654d",
        "colab": {
          "base_uri": "https://localhost:8080/",
          "height": 35
        }
      },
      "source": [
        "new_model = LeNet()\n",
        "for name, module in new_model.named_modules():\n",
        "    # prune 20% of connections in all 2D-conv layers \n",
        "    if isinstance(module, torch.nn.Conv2d):\n",
        "        prune.l1_unstructured(module, name='weight', amount=0.2)\n",
        "    # prune 40% of connections in all linear layers \n",
        "    elif isinstance(module, torch.nn.Linear):\n",
        "        prune.l1_unstructured(module, name='weight', amount=0.4)\n",
        "\n",
        "print(dict(new_model.named_buffers()).keys())  # to verify that all masks exist"
      ],
      "execution_count": 24,
      "outputs": [
        {
          "output_type": "stream",
          "text": [
            "dict_keys(['conv1.weight_mask', 'conv2.weight_mask', 'fc1.weight_mask', 'fc2.weight_mask', 'fc3.weight_mask'])\n"
          ],
          "name": "stdout"
        }
      ]
    },
    {
      "cell_type": "markdown",
      "metadata": {
        "id": "ZF40R6GRqu42"
      },
      "source": [
        "Global pruning\n",
        "--------------\n",
        "\n",
        "So far, we only looked at what is usually referred to as \"local\" pruning,\n",
        "i.e. the practice of pruning tensors in a model one by one, by \n",
        "comparing the statistics (weight magnitude, activation, gradient, etc.) of \n",
        "each entry exclusively to the other entries in that tensor. However, a \n",
        "common and perhaps more powerful technique is to prune the model all at \n",
        "once, by removing (for example) the lowest 20% of connections across the \n",
        "whole model, instead of removing the lowest 20% of connections in each \n",
        "layer. This is likely to result in different pruning percentages per layer.\n",
        "Let's see how to do that using ``global_unstructured`` from \n",
        "``torch.nn.utils.prune``.\n",
        "\n"
      ]
    },
    {
      "cell_type": "code",
      "metadata": {
        "id": "feRm1wT_qu43"
      },
      "source": [
        "model = LeNet()\n",
        "\n",
        "parameters_to_prune = (\n",
        "    (model.conv1, 'weight'),\n",
        "    (model.conv2, 'weight'),\n",
        "    (model.fc1, 'weight'),\n",
        "    (model.fc2, 'weight'),\n",
        "    (model.fc3, 'weight'),\n",
        ")\n",
        "\n",
        "prune.global_unstructured(\n",
        "    parameters_to_prune,\n",
        "    pruning_method=prune.L1Unstructured,\n",
        "    amount=0.2,\n",
        ")"
      ],
      "execution_count": 25,
      "outputs": []
    },
    {
      "cell_type": "markdown",
      "metadata": {
        "id": "1sVY1S_uqu44"
      },
      "source": [
        "Now we can check the sparsity induced in every pruned parameter, which will \n",
        "not be equal to 20% in each layer. However, the global sparsity will be \n",
        "(approximately) 20%.\n",
        "\n"
      ]
    },
    {
      "cell_type": "code",
      "metadata": {
        "id": "7h07A59kqu44",
        "outputId": "2d346243-f6c9-4a34-a2de-27313c7db7b6",
        "colab": {
          "base_uri": "https://localhost:8080/",
          "height": 125
        }
      },
      "source": [
        "print(\n",
        "    \"Sparsity in conv1.weight: {:.2f}%\".format(\n",
        "        100. * float(torch.sum(model.conv1.weight == 0))\n",
        "        / float(model.conv1.weight.nelement())\n",
        "    )\n",
        ")\n",
        "print(\n",
        "    \"Sparsity in conv2.weight: {:.2f}%\".format(\n",
        "        100. * float(torch.sum(model.conv2.weight == 0))\n",
        "        / float(model.conv2.weight.nelement())\n",
        "    )\n",
        ")\n",
        "print(\n",
        "    \"Sparsity in fc1.weight: {:.2f}%\".format(\n",
        "        100. * float(torch.sum(model.fc1.weight == 0))\n",
        "        / float(model.fc1.weight.nelement())\n",
        "    )\n",
        ")\n",
        "print(\n",
        "    \"Sparsity in fc2.weight: {:.2f}%\".format(\n",
        "        100. * float(torch.sum(model.fc2.weight == 0))\n",
        "        / float(model.fc2.weight.nelement())\n",
        "    )\n",
        ")\n",
        "print(\n",
        "    \"Sparsity in fc3.weight: {:.2f}%\".format(\n",
        "        100. * float(torch.sum(model.fc3.weight == 0))\n",
        "        / float(model.fc3.weight.nelement())\n",
        "    )\n",
        ")\n",
        "print(\n",
        "    \"Global sparsity: {:.2f}%\".format(\n",
        "        100. * float(\n",
        "            torch.sum(model.conv1.weight == 0)\n",
        "            + torch.sum(model.conv2.weight == 0)\n",
        "            + torch.sum(model.fc1.weight == 0)\n",
        "            + torch.sum(model.fc2.weight == 0)\n",
        "            + torch.sum(model.fc3.weight == 0)\n",
        "        )\n",
        "        / float(\n",
        "            model.conv1.weight.nelement()\n",
        "            + model.conv2.weight.nelement()\n",
        "            + model.fc1.weight.nelement()\n",
        "            + model.fc2.weight.nelement()\n",
        "            + model.fc3.weight.nelement()\n",
        "        )\n",
        "    )\n",
        ")"
      ],
      "execution_count": 26,
      "outputs": [
        {
          "output_type": "stream",
          "text": [
            "Sparsity in conv1.weight: 0.00%\n",
            "Sparsity in conv2.weight: 8.80%\n",
            "Sparsity in fc1.weight: 21.93%\n",
            "Sparsity in fc2.weight: 12.70%\n",
            "Sparsity in fc3.weight: 10.12%\n",
            "Global sparsity: 20.00%\n"
          ],
          "name": "stdout"
        }
      ]
    },
    {
      "cell_type": "markdown",
      "metadata": {
        "id": "I6BBn_Fdqu46"
      },
      "source": [
        "Extending ``torch.nn.utils.prune`` with custom pruning functions\n",
        "------------------------------------------------------------------\n",
        "To implement your own pruning function, you can extend the\n",
        "``nn.utils.prune`` module by subclassing the ``BasePruningMethod``\n",
        "base class, the same way all other pruning methods do. The base class\n",
        "implements the following methods for you: ``__call__``, ``apply_mask``,\n",
        "``apply``, ``prune``, and ``remove``. Beyond some special cases, you shouldn't\n",
        "have to reimplement these methods for your new pruning technique.\n",
        "You will, however, have to implement ``__init__`` (the constructor),\n",
        "and ``compute_mask`` (the instructions on how to compute the mask\n",
        "for the given tensor according to the logic of your pruning\n",
        "technique). In addition, you will have to specify which type of\n",
        "pruning this technique implements (supported options are ``global``,\n",
        "``structured``, and ``unstructured``). This is needed to determine\n",
        "how to combine masks in the case in which pruning is applied\n",
        "iteratively. In other words, when pruning a pre-pruned parameter,\n",
        "the current prunining techique is expected to act on the unpruned\n",
        "portion of the parameter. Specifying the ``PRUNING_TYPE`` will\n",
        "enable the ``PruningContainer`` (which handles the iterative\n",
        "application of pruning masks) to correctly identify the slice of the\n",
        "parameter to prune.\n",
        "\n",
        "Let's assume, for example, that you want to implement a pruning\n",
        "technique that prunes every other entry in a tensor (or -- if the\n",
        "tensor has previously been pruned -- in the remaining unpruned\n",
        "portion of the tensor). This will be of ``PRUNING_TYPE='unstructured'``\n",
        "because it acts on individual connections in a layer and not on entire\n",
        "units/channels (``'structured'``), or across different parameters\n",
        "(``'global'``).\n",
        "\n"
      ]
    },
    {
      "cell_type": "code",
      "metadata": {
        "id": "HEnctBGZqu46"
      },
      "source": [
        "class FooBarPruningMethod(prune.BasePruningMethod):\n",
        "    \"\"\"Prune every other entry in a tensor\n",
        "    \"\"\"\n",
        "    PRUNING_TYPE = 'unstructured'\n",
        "\n",
        "    def compute_mask(self, t, default_mask):\n",
        "        mask = default_mask.clone()\n",
        "        mask.view(-1)[::2] = 0 \n",
        "        return mask"
      ],
      "execution_count": 27,
      "outputs": []
    },
    {
      "cell_type": "markdown",
      "metadata": {
        "id": "7_4dSYBqqu48"
      },
      "source": [
        "Now, to apply this to a parameter in an ``nn.Module``, you should\n",
        "also provide a simple function that instantiates the method and\n",
        "applies it.\n",
        "\n"
      ]
    },
    {
      "cell_type": "code",
      "metadata": {
        "id": "qLjoKGtiqu48"
      },
      "source": [
        "def foobar_unstructured(module, name):\n",
        "    \"\"\"Prunes tensor corresponding to parameter called `name` in `module`\n",
        "    by removing every other entry in the tensors.\n",
        "    Modifies module in place (and also return the modified module) \n",
        "    by:\n",
        "    1) adding a named buffer called `name+'_mask'` corresponding to the \n",
        "    binary mask applied to the parameter `name` by the pruning method.\n",
        "    The parameter `name` is replaced by its pruned version, while the \n",
        "    original (unpruned) parameter is stored in a new parameter named \n",
        "    `name+'_orig'`.\n",
        "\n",
        "    Args:\n",
        "        module (nn.Module): module containing the tensor to prune\n",
        "        name (string): parameter name within `module` on which pruning\n",
        "                will act.\n",
        "\n",
        "    Returns:\n",
        "        module (nn.Module): modified (i.e. pruned) version of the input\n",
        "            module\n",
        "    \n",
        "    Examples:\n",
        "        >>> m = nn.Linear(3, 4)\n",
        "        >>> foobar_unstructured(m, name='bias')\n",
        "    \"\"\"\n",
        "    FooBarPruningMethod.apply(module, name)\n",
        "    return module"
      ],
      "execution_count": 28,
      "outputs": []
    },
    {
      "cell_type": "markdown",
      "metadata": {
        "id": "-G7bzBPCqu4-"
      },
      "source": [
        "Let's try it out!\n",
        "\n"
      ]
    },
    {
      "cell_type": "code",
      "metadata": {
        "id": "ACSmI_1Aqu4-",
        "outputId": "435f7874-0d7f-49a2-8371-ca310cdbee3f",
        "colab": {
          "base_uri": "https://localhost:8080/",
          "height": 35
        }
      },
      "source": [
        "model = LeNet()\n",
        "foobar_unstructured(model.fc3, name='bias')\n",
        "\n",
        "print(model.fc3.bias_mask)"
      ],
      "execution_count": 29,
      "outputs": [
        {
          "output_type": "stream",
          "text": [
            "tensor([0., 1., 0., 1., 0., 1., 0., 1., 0., 1.])\n"
          ],
          "name": "stdout"
        }
      ]
    },
    {
      "cell_type": "code",
      "metadata": {
        "id": "Pl54WZxNsveJ"
      },
      "source": [
        ""
      ],
      "execution_count": null,
      "outputs": []
    }
  ]
}