{
  "nbformat": 4,
  "nbformat_minor": 0,
  "metadata": {
    "kernelspec": {
      "display_name": "Python 3",
      "language": "python",
      "name": "python3"
    },
    "language_info": {
      "codemirror_mode": {
        "name": "ipython",
        "version": 3
      },
      "file_extension": ".py",
      "mimetype": "text/x-python",
      "name": "python",
      "nbconvert_exporter": "python",
      "pygments_lexer": "ipython3",
      "version": "3.6.8"
    },
    "colab": {
      "name": "dynamic_quantization_tutorial.ipynb",
      "provenance": [],
      "toc_visible": true
    },
    "accelerator": "GPU"
  },
  "cells": [
    {
      "cell_type": "code",
      "metadata": {
        "id": "kRcOLJN6oNJr"
      },
      "source": [
        "%matplotlib inline"
      ],
      "execution_count": 1,
      "outputs": []
    },
    {
      "cell_type": "markdown",
      "metadata": {
        "id": "MXnNZhgooNJu"
      },
      "source": [
        "\n",
        "(experimental) Dynamic Quantization on an LSTM Word Language Model\n",
        "==================================================================\n",
        "\n",
        "**Author**: `James Reed <https://github.com/jamesr66a>`_\n",
        "\n",
        "**Edited by**: `Seth Weidman <https://github.com/SethHWeidman/>`_\n",
        "\n",
        "Introduction\n",
        "------------\n",
        "\n",
        "Quantization involves converting the weights and activations of your model from float\n",
        "to int, which can result in smaller model size and faster inference with only a small\n",
        "hit to accuracy.\n",
        "\n",
        "In this tutorial, we'll apply the easiest form of quantization - _dynamic quantization_ -\n",
        "to an LSTM-based next word-prediction model, closely following the\n",
        "`word language model <https://github.com/pytorch/examples/tree/master/word_language_model>`_\n",
        "from the PyTorch examples.\n",
        "\n"
      ]
    },
    {
      "cell_type": "code",
      "metadata": {
        "id": "beI7j_uooNJu"
      },
      "source": [
        "# imports\n",
        "import os\n",
        "from io import open\n",
        "import time\n",
        "\n",
        "import torch\n",
        "import torch.nn as nn\n",
        "import torch.nn.functional as F"
      ],
      "execution_count": 2,
      "outputs": []
    },
    {
      "cell_type": "markdown",
      "metadata": {
        "id": "pDXSQniJoNJw"
      },
      "source": [
        "1. Define the model\n",
        "-------------------\n",
        "\n",
        "Here we define the LSTM model architecture, following the\n",
        "`model <https://github.com/pytorch/examples/blob/master/word_language_model/model.py>`_\n",
        "from the word language model example.\n",
        "\n"
      ]
    },
    {
      "cell_type": "code",
      "metadata": {
        "id": "KulbtWtaoNJx"
      },
      "source": [
        "class LSTMModel(nn.Module):\n",
        "    \"\"\"Container module with an encoder, a recurrent module, and a decoder.\"\"\"\n",
        "\n",
        "    def __init__(self, ntoken, ninp, nhid, nlayers, dropout=0.5):\n",
        "        super(LSTMModel, self).__init__()\n",
        "        self.drop = nn.Dropout(dropout)\n",
        "        self.encoder = nn.Embedding(ntoken, ninp)\n",
        "        self.rnn = nn.LSTM(ninp, nhid, nlayers, dropout=dropout)\n",
        "        self.decoder = nn.Linear(nhid, ntoken)\n",
        "\n",
        "        self.init_weights()\n",
        "\n",
        "        self.nhid = nhid\n",
        "        self.nlayers = nlayers\n",
        "\n",
        "    def init_weights(self):\n",
        "        initrange = 0.1\n",
        "        self.encoder.weight.data.uniform_(-initrange, initrange)\n",
        "        self.decoder.bias.data.zero_()\n",
        "        self.decoder.weight.data.uniform_(-initrange, initrange)\n",
        "\n",
        "    def forward(self, input, hidden):\n",
        "        emb = self.drop(self.encoder(input))\n",
        "        output, hidden = self.rnn(emb, hidden)\n",
        "        output = self.drop(output)\n",
        "        decoded = self.decoder(output)\n",
        "        return decoded, hidden\n",
        "\n",
        "    def init_hidden(self, bsz):\n",
        "        weight = next(self.parameters())\n",
        "        return (weight.new_zeros(self.nlayers, bsz, self.nhid),\n",
        "                weight.new_zeros(self.nlayers, bsz, self.nhid))"
      ],
      "execution_count": 3,
      "outputs": []
    },
    {
      "cell_type": "markdown",
      "metadata": {
        "id": "o0w9Qew-oNJz"
      },
      "source": [
        "2. Load in the text data\n",
        "------------------------\n",
        "\n",
        "Next, we load the\n",
        "`Wikitext-2 dataset <https://www.google.com/search?q=wikitext+2+data>`_ into a `Corpus`,\n",
        "again following the\n",
        "`preprocessing <https://github.com/pytorch/examples/blob/master/word_language_model/data.py>`_\n",
        "from the word language model example.\n",
        "\n"
      ]
    },
    {
      "cell_type": "code",
      "metadata": {
        "id": "PSSi62obo04m",
        "outputId": "f922dea8-0da4-412f-9149-1174081814ab",
        "colab": {
          "base_uri": "https://localhost:8080/",
          "height": 305
        }
      },
      "source": [
        "!wget https://s3.amazonaws.com/research.metamind.io/wikitext/wikitext-2-v1.zip\n",
        "!unzip wikitext-2-v1.zip"
      ],
      "execution_count": 5,
      "outputs": [
        {
          "output_type": "stream",
          "text": [
            "--2020-10-26 16:00:14--  https://s3.amazonaws.com/research.metamind.io/wikitext/wikitext-2-v1.zip\n",
            "Resolving s3.amazonaws.com (s3.amazonaws.com)... 52.216.232.173\n",
            "Connecting to s3.amazonaws.com (s3.amazonaws.com)|52.216.232.173|:443... connected.\n",
            "HTTP request sent, awaiting response... 200 OK\n",
            "Length: 4475746 (4.3M) [application/zip]\n",
            "Saving to: ‘wikitext-2-v1.zip’\n",
            "\n",
            "wikitext-2-v1.zip   100%[===================>]   4.27M  6.19MB/s    in 0.7s    \n",
            "\n",
            "2020-10-26 16:00:15 (6.19 MB/s) - ‘wikitext-2-v1.zip’ saved [4475746/4475746]\n",
            "\n",
            "Archive:  wikitext-2-v1.zip\n",
            "   creating: wikitext-2/\n",
            "  inflating: wikitext-2/wiki.test.tokens  \n",
            "  inflating: wikitext-2/wiki.valid.tokens  \n",
            "  inflating: wikitext-2/wiki.train.tokens  \n"
          ],
          "name": "stdout"
        }
      ]
    },
    {
      "cell_type": "code",
      "metadata": {
        "id": "Sq6MbCtio6Nv"
      },
      "source": [
        "!mkdir data\n",
        "!mv wikitext-2/wiki.test.tokens data/test.txt\n",
        "!mv wikitext-2/wiki.valid.tokens data/valid.txt\n",
        "!mv wikitext-2/wiki.train.tokens data/train.txt"
      ],
      "execution_count": 6,
      "outputs": []
    },
    {
      "cell_type": "code",
      "metadata": {
        "id": "WvWALBnyoNJz"
      },
      "source": [
        "class Dictionary(object):\n",
        "    def __init__(self):\n",
        "        self.word2idx = {}\n",
        "        self.idx2word = []\n",
        "\n",
        "    def add_word(self, word):\n",
        "        if word not in self.word2idx:\n",
        "            self.idx2word.append(word)\n",
        "            self.word2idx[word] = len(self.idx2word) - 1\n",
        "        return self.word2idx[word]\n",
        "\n",
        "    def __len__(self):\n",
        "        return len(self.idx2word)\n",
        "\n",
        "\n",
        "class Corpus(object):\n",
        "    def __init__(self, path):\n",
        "        self.dictionary = Dictionary()\n",
        "        self.train = self.tokenize(os.path.join(path, 'train.txt'))\n",
        "        self.valid = self.tokenize(os.path.join(path, 'valid.txt'))\n",
        "        self.test = self.tokenize(os.path.join(path, 'test.txt'))\n",
        "\n",
        "    def tokenize(self, path):\n",
        "        \"\"\"Tokenizes a text file.\"\"\"\n",
        "        assert os.path.exists(path)\n",
        "        # Add words to the dictionary\n",
        "        with open(path, 'r', encoding=\"utf8\") as f:\n",
        "            for line in f:\n",
        "                words = line.split() + ['<eos>']\n",
        "                for word in words:\n",
        "                    self.dictionary.add_word(word)\n",
        "\n",
        "        # Tokenize file content\n",
        "        with open(path, 'r', encoding=\"utf8\") as f:\n",
        "            idss = []\n",
        "            for line in f:\n",
        "                words = line.split() + ['<eos>']\n",
        "                ids = []\n",
        "                for word in words:\n",
        "                    ids.append(self.dictionary.word2idx[word])\n",
        "                idss.append(torch.tensor(ids).type(torch.int64))\n",
        "            ids = torch.cat(idss)\n",
        "\n",
        "        return ids\n",
        "\n",
        "model_data_filepath = 'data/'\n",
        "\n",
        "corpus = Corpus(model_data_filepath)"
      ],
      "execution_count": 8,
      "outputs": []
    },
    {
      "cell_type": "markdown",
      "metadata": {
        "id": "o2r7WfahoNJ1"
      },
      "source": [
        "3. Load the pre-trained model\n",
        "-----------------------------\n",
        "\n",
        "This is a tutorial on dynamic quantization, a quantization technique\n",
        "that is applied after a model has been trained. Therefore, we'll simply load some\n",
        "pre-trained weights into this model architecture; these weights were obtained\n",
        "by training for five epochs using the default settings in the word language model\n",
        "example.\n",
        "\n"
      ]
    },
    {
      "cell_type": "code",
      "metadata": {
        "id": "ypua5mOmoNJ1",
        "outputId": "ffb46acc-e3cf-4797-b0a1-f14898bab2ec",
        "colab": {
          "base_uri": "https://localhost:8080/",
          "height": 125
        }
      },
      "source": [
        "ntokens = len(corpus.dictionary)\n",
        "\n",
        "model = LSTMModel(\n",
        "    ntoken = ntokens,\n",
        "    ninp = 512,\n",
        "    nhid = 256,\n",
        "    nlayers = 5,\n",
        ")\n",
        "\n",
        "# model.load_state_dict(\n",
        "#     torch.load(\n",
        "#         model_data_filepath + 'word_language_model_quantize.pth',\n",
        "#         map_location=torch.device('cpu')\n",
        "#         )\n",
        "#     )\n",
        "\n",
        "model.eval()\n",
        "print(model)"
      ],
      "execution_count": 10,
      "outputs": [
        {
          "output_type": "stream",
          "text": [
            "LSTMModel(\n",
            "  (drop): Dropout(p=0.5, inplace=False)\n",
            "  (encoder): Embedding(33278, 512)\n",
            "  (rnn): LSTM(512, 256, num_layers=5, dropout=0.5)\n",
            "  (decoder): Linear(in_features=256, out_features=33278, bias=True)\n",
            ")\n"
          ],
          "name": "stdout"
        }
      ]
    },
    {
      "cell_type": "markdown",
      "metadata": {
        "id": "v69i2qDXoNJ3"
      },
      "source": [
        "Now let's generate some text to ensure that the pre-trained model is working\n",
        "properly - similarly to before, we follow\n",
        "`here <https://github.com/pytorch/examples/blob/master/word_language_model/generate.py>`_\n",
        "\n"
      ]
    },
    {
      "cell_type": "code",
      "metadata": {
        "id": "JlNLjXlRoNJ4",
        "outputId": "1f3fd797-a531-45fd-fd79-a1ed9dc695ee",
        "colab": {
          "base_uri": "https://localhost:8080/",
          "height": 1000
        }
      },
      "source": [
        "input_ = torch.randint(ntokens, (1, 1), dtype=torch.long)\n",
        "hidden = model.init_hidden(1)\n",
        "temperature = 1.0\n",
        "num_words = 1000\n",
        "\n",
        "with open(model_data_filepath + 'out.txt', 'w') as outf:\n",
        "    with torch.no_grad():  # no tracking history\n",
        "        for i in range(num_words):\n",
        "            output, hidden = model(input_, hidden)\n",
        "            word_weights = output.squeeze().div(temperature).exp().cpu()\n",
        "            word_idx = torch.multinomial(word_weights, 1)[0]\n",
        "            input_.fill_(word_idx)\n",
        "\n",
        "            word = corpus.dictionary.idx2word[word_idx]\n",
        "\n",
        "            outf.write(str(word.encode('utf-8')) + ('\\n' if i % 20 == 19 else ' '))\n",
        "\n",
        "            if i % 100 == 0:\n",
        "                print('| Generated {}/{} words'.format(i, 1000))\n",
        "\n",
        "with open(model_data_filepath + 'out.txt', 'r') as outf:\n",
        "    all_output = outf.read()\n",
        "    print(all_output)"
      ],
      "execution_count": 11,
      "outputs": [
        {
          "output_type": "stream",
          "text": [
            "| Generated 0/1000 words\n",
            "| Generated 100/1000 words\n",
            "| Generated 200/1000 words\n",
            "| Generated 300/1000 words\n",
            "| Generated 400/1000 words\n",
            "| Generated 500/1000 words\n",
            "| Generated 600/1000 words\n",
            "| Generated 700/1000 words\n",
            "| Generated 800/1000 words\n",
            "| Generated 900/1000 words\n",
            "b'poignant' b'scenery' b'Growing' b'downwards' b'remixed' b'Aspects' b'appliances' b'Razorback' b'Goldie' b'pulses' b'tabloid' b'Musicians' b'39th' b'alerted' b'nuclei' b'Investigation' b'cups' b'Heartless' b'257' b'serious'\n",
            "b'Pioneers' b'deployed' b'constructing' b'narrower' b'puma' b'rockers' b'olfactory' b'Nat' b'conformation' b'Vandernoot' b'justice' b'Legal' b'nightclubs' b'sporting' b'reviving' b'depression' b'Siddharama' b'Potocki' b'Platinum' b'gunner'\n",
            "b'Waldrons' b'benevolent' b'GPa' b'caught' b'Huerta' b'marred' b'Ashdod' b'wakes' b'backbone' b'ejaculation' b'Sugar' b'child' b'single' b'sarcastic' b'embarked' b'afraid' b'senator' b'Gui' b'smoothly' b'disaffected'\n",
            "b'goat' b'Rashid' b'Verdict' b'Doran' b'simultaneous' b'rescue' b'Toledo' b'Hall' b'overhaul' b'hydnoid' b'farmed' b'Madison' b'Beetons' b'impede' b'Punta' b'Coleraine' b'Cassin' b'Ancients' b'rehearsals' b'Bowden'\n",
            "b'Dow' b'Previously' b'glory' b'Emmanuel' b'edges' b'Gold' b'mock' b'Calling' b'SmackDown' b'manuscript' b'claim' b'fort' b'glucose' b'Chick' b'facilities' b'vocalists' b'patronage' b'favoring' b'four' b'tenths'\n",
            "b'reappear' b'appropriate' b'pavement' b'input' b'orchids' b'tangled' b'machinations' b'overweight' b'174' b'directorial' b'freezes' b'godly' b'422nd' b'Everton' b'repair' b'Kaboom' b'Fourteenth' b'constituted' b'Rhea' b'plan'\n",
            "b'leg' b'photons' b'deformed' b'Pocket' b'Leaving' b'Lennon' b'malicious' b'Candidates' b'aid' b'Ptahhotep' b'Lexington' b'Canadians' b'my' b'ties' b'oaths' b'airlines' b'washed' b'vibrate' b'flour' b'bhandara'\n",
            "b'T\\xc3\\xa5sen' b'Hapoel' b'gliding' b'Chorus' b'positive' b'athletes' b'books' b'Fencing' b'inspections' b'destruction' b'Ost' b'Exploration' b'Beerbohm' b'indicted' b'lots' b'disgust' b'76th' b'Ten' b'Rita' b'Chou'\n",
            "b'Stoke' b'stubbornly' b'judiciary' b'Desert' b'teller' b'Colfer' b'telegraph' b'intravenous' b'Doha' b'enemy' b'Gareth' b'web' b'statistic' b'Pernick' b'celebrity' b'1906' b'Kilmer' b'inception' b'flagship' b'Creator'\n",
            "b'Paper' b'Ernst' b'Orkney' b'Manuel' b'charismatic' b'sides' b'fundamentally' b'resume' b'Silence' b'Fighting' b'Frog' b'pointless' b'blockading' b'463' b'presidential' b'fifteen' b'Uniformity' b'paradox' b'Forget' b'neon'\n",
            "b'anthem' b'Cooper' b'Cut' b'Huizong' b'gully' b'citation' b'Studio' b'implicated' b'coastal' b'aimed' b'EEF' b'Rock' b'cooling' b'fitness' b'reissue' b'outlaw' b'Exit' b'Apted' b'Greenberg' b'atmosphere'\n",
            "b'packed' b'O' b'Cornet' b'coal' b'Commandos' b'JGT' b'pollution' b'Fall' b'B\\xc3\\xbclow' b'establishments' b'Unit' b'permissible' b'Cretaceous' b'creatures' b'Nationwide' b'purplish' b'mixed' b'Year' b'Newstead' b'Grasses'\n",
            "b'1139' b'explosion' b'Doing' b'Urban' b'Advertiser' b'obscene' b'lambei' b'symbolise' b'Territorial' b'Havana' b'Pts' b'Debussy' b'Terrapins' b'Flashback' b'Ishmael' b'Courant' b'Lemon' b'piercing' b'rainfall' b'Withoos'\n",
            "b'belly' b'spirituals' b'cruelty' b'Neapolitan' b'fight' b'linking' b'247' b'likeness' b'encircle' b'criticized' b'publicity' b'Kritosaurus' b'hopping' b'profoundly' b'glazing' b'Levin' b'Carrie' b'973' b'Coalition' b'Forge'\n",
            "b'Delano' b'exporting' b'PAGASA' b'Goddess' b'insured' b'oppression' b'seaplane' b'slit' b'Isotopes' b'scarce' b'Groundsel' b'Railways' b'Hoover' b'indoctrination' b'desktop' b'wrongly' b'fingering' b'bracket' b'immigrant' b'Charlie'\n",
            "b'renew' b'Mansion' b'tract' b'littered' b'uneven' b'incremental' b'Brazoria' b'criminology' b'submit' b'Plantagenet' b'studbook' b'Rather' b'orchestras' b'Bradman' b'Neck' b'infective' b'banker' b'birthday' b'mimic' b'Adult'\n",
            "b'apprehends' b'inequality' b'coaxial' b'Raasay' b'historiography' b'Music' b'Helens' b'automobiles' b'Bow' b'coded' b'anarchy' b'surmised' b'Izumo' b'suspense' b'ed' b'Morag' b'BS' b'illegal' b'efficiently' b'Dev'\n",
            "b'dinosaurs' b'D.J.' b'defiance' b'Re8' b'indisputably' b'porch' b'Earls' b'Cummings' b'tearful' b'Sheets' b'AVRE' b'Bedouins' b'Sox' b'fireworks' b'Macclesfield' b'Harmonix' b'tanks' b'Barremian' b'Uyghur' b'committing'\n",
            "b'Ceratosaurus' b'globe' b'herself' b'Uig' b'discretion' b'varies' b'Cotswold' b'Fire' b'Divide' b'Seventeen' b'Battalions' b'similar' b'1086' b'asceticism' b'Coffin' b'updating' b'womanhood' b'Gate' b'offspring' b'Eno'\n",
            "b'clock' b'Sections' b'laced' b'tablebases' b'Guerrero' b'Gallian' b'instigation' b'Fore' b'\\xd8\\xad\\xd8\\xb5\\xd9\\x86' b'dials' b'amnesty' b'thousands' b'cloudiness' b'Luzon' b'Yap' b'stabbing' b'feels' b'dramas' b'Christoph' b'humanistic'\n",
            "b'viruses' b'asthma' b'discreet' b'deacons' b'letters' b'magician' b'690' b'Faith' b'reacted' b'terrain' b'Memories' b'publish' b'Webster' b'impressive' b'airing' b'Henan' b'geologist' b'Blabbermouth.net' b'Which' b'As'\n",
            "b'goodwill' b'DGA' b'Newmarket' b'arrives' b'Bell' b'flags' b'confinement' b'graphs' b'Powell' b'abuse' b'Morelos' b'MacDonald' b'Friend' b'dolls' b'1847' b'AOC' b'pesos' b'Legion' b'berthed' b'comb'\n",
            "b'dictionaries' b'Younger' b'Os' b'parking' b'dominates' b'153Eu' b'restore' b'Cheltenham' b'responds' b'Belo' b'monochrome' b'monotheism' b'landslide' b'assurance' b'Dumas' b'maturation' b'exploring' b'inhabits' b'XeO' b'frivolous'\n",
            "b'Jurchens' b'dwarf' b'commended' b'vessel' b'D5' b'Calder' b'1850' b'Cramp' b'Intravenous' b'Mile' b'outgoing' b'airstrip' b'Ibarra' b'Vienna' b'U.S.C.' b'Direction' b'perceptions' b'throated' b'knocks' b'policing'\n",
            "b'instructors' b'westbound' b'Spanish' b'strengthens' b'Sejm' b'circles' b'opus' b'Webster' b'Garrett' b'Funerary' b'tentative' b'logic' b'incompleteness' b'920' b'oasis' b'SOS' b'initiative' b'thinking' b'races' b'inhabitant'\n",
            "b'Etingoff' b'clich\\xc3\\xa9' b'U' b'IEDs' b'Emesa' b'pub' b'Constitutional' b'aunt' b'choreographed' b'Madness' b'Chakraborty' b'Naraharitirtha' b'toed' b'conscription' b'ensued' b'Nicolas' b'Verulamium' b'Diana' b'Andes' b'eclipse'\n",
            "b'Platte' b'remained' b'mockery' b'PCBS' b'Experiment' b'responses' b'Order' b'Fernandez' b'Martian' b'perch' b'GPUs' b'intercut' b'panel' b'mutual' b'underway' b'XV' b'Kombat' b'Concession' b'Lester' b'Hobson'\n",
            "b'Trescothick' b'triatomine' b'Gi\\xc3\\xa3' b'processional' b'Invasive' b'mat' b'prostitute' b'1st' b'start' b'83' b'180' b'Pawnee' b'line' b'concealing' b'97' b'Negras' b'launch' b'dump' b'Only' b'penciled'\n",
            "b'Valera' b'replies' b'repute' b'fertilisation' b'atypical' b'presumably' b'H\\xc3\\xa4meenmaa' b'riots' b'imprisoned' b'acceptance' b'began' b'partially' b'385' b'atone' b'gothic' b'shouting' b'couplets' b'Classical' b'Stegosauridae' b'recently'\n",
            "b'Nowhere' b'Seitz' b'1949' b'Cenozoic' b'colonisation' b'Ivor' b'restraint' b'pro' b'state' b'Ouw' b'certain' b'Incident' b'Finance' b'Ad' b'launchers' b'Vaudeville' b'unpaved' b'noncombatant' b'Village' b'Byrds'\n",
            "b'Mantis' b'Hot' b'Authorities' b'Pinkner' b'kicker' b'subunits' b'mention' b'Cao' b'prefrontal' b'signaled' b'Snowy' b'Neotrygon' b'cofferdams' b'Selective' b'Award' b'stipulated' b'redeem' b'Arecibo' b'Rawlings' b'Huron'\n",
            "b'missing' b'standpoint' b'JK' b'eerie' b'Dubois' b'withdraw' b'commentator' b'Broken' b'Saddleworth' b'represent' b'1873' b'Citing' b'Kareen' b'off' b'continued' b'grounds' b'purposefully' b'airline' b'sciences' b'universities'\n",
            "b'politician' b'disassembly' b'penned' b'Archie' b'Hokie' b'Lyric' b'hunts' b'assignment' b'Basel' b'gunboats' b'Monks' b'Gutierrez' b'Kicking' b'Soltis' b'gratitude' b'Buildings' b'steer' b'Old' b'Wichita' b'struggling'\n",
            "b'modelled' b'recitation' b'Electricity' b'change' b'refusal' b'Mann' b'Boobs' b'194A' b'box' b'Jesuit' b'Parvati' b'financial' b'injured' b'allegations' b'hiding' b'listened' b'loggers' b'marches' b'libraries' b'approve'\n",
            "b'federation' b'Soledad' b'inspired' b'Hummelfjell' b'illustration' b'displaying' b'overlords' b'debate' b'fortunes' b'strident' b'recounted' b'Biography' b'priority' b'Destroying' b'km3' b'MacArthur' b'proves' b'conclusive' b'Calthrop' b'cannot'\n",
            "b'la' b'itinerant' b'Myself' b'Editors' b'Avalon' b'Air' b'apprehends' b'regionally' b'credits' b'handed' b'hybrid' b'Baron' b'confesses' b'Stravinsky' b'lands' b'Cecily' b'component' b'Etmaler' b'invariably' b'pledged'\n",
            "b'Shoulders' b'assisting' b'hydroxide' b'dawn' b'Full' b'H.G.' b'Parrot' b'Broad' b'Habroptila' b'Von' b'Gabriel' b'predicting' b'disguised' b'demoted' b'pending' b'67' b'Lendl' b'trunk' b'close' b'democratic'\n",
            "b'breaker' b'Can' b'Goldsmith' b'127' b'IFA' b'discretionary' b'unavailable' b'histotroph' b'legate' b'hemmema' b'planets' b'Schafer' b'Dukes' b'heroes' b'Australian' b'Silence' b'1748' b'extensive' b'masons' b'Ferb'\n",
            "b'computational' b'Janelle' b'accelerating' b'Holloway' b'dispersed' b'equivalence' b'deadpan' b'1129' b'bernissartensis' b'Chase' b'richly' b'possessive' b'ethic' b'Testament' b'Sand' b'adhering' b'Bavarian' b'angling' b'owl' b'Chinlund'\n",
            "b'solo' b'Stuart' b'upside' b'Federico' b'extraterrestrial' b'1812' b'USAAF' b'intervening' b'Boards' b'okay' b'rainbow' b'standardised' b'Oral' b'Titan' b'atypical' b'Elvis' b'MU' b'Yourself' b'wholesale' b'America'\n",
            "b'Meath' b'minds' b'bombarding' b'unite' b'Ranulf' b'mined' b'memoir' b'Upon' b'Exodus' b'angel' b'declined' b'dormitories' b'mistook' b'grandmother' b'surpass' b'saturated' b'oxides' b'1210' b'Reflecting' b'soup'\n",
            "b'mounting' b'usual' b'Additional' b'Redbridge' b'antics' b'disciplined' b'capturing' b'flexibility' b'Courier' b'Sisumayana' b'Surak' b'Torres' b'currents' b'respond' b'vow' b'teamed' b'holiday' b'Armour' b'replicate' b'Piotr'\n",
            "b'protector' b'stylized' b'straw' b'Neutrino' b'Covenant' b'View' b'vivo' b'Affleck' b'Cherbourg' b'Search' b'28s' b'hairs' b'Limantour' b'dignity' b'agreed' b'Astrosporina' b'wheat' b'writing' b'assessments' b'indicating'\n",
            "b'mantelli' b'Minsky' b'09' b'Loop' b'Guardsmen' b'Ethiopia' b'cruising' b'Pinner' b'materiel' b'bard' b'sharp' b'binomial' b'feline' b'wander' b'Libby' b'essentially' b'untreated' b'Billie' b'Valerian' b'MLs'\n",
            "b'Pro' b'qualifiers' b'1880s' b'Homeric' b'psychologist' b'Syria' b'Sayid' b'm2' b'semen' b'carpet' b'Fan' b'yielded' b'whitish' b'invest' b'Sayuri' b'Proceeding' b'impenetrable' b'157' b'Bibles' b'outlaws'\n",
            "b'puffball' b'un' b'Mostar' b'Widacki' b'Irving' b'disrupt' b'Ramgarh' b'tame' b'1189' b'McMillan' b'Isesi' b'adultery' b'preparedness' b'mum' b'karaoke' b'#' b'intergrades' b'Mustang' b'uttered' b'Betty'\n",
            "b'Hutch' b'400' b'Saw' b'253' b'ensemble' b'leopard' b'Ryan' b'restorations' b'cousins' b')' b'pungent' b'Moderate' b'corroborated' b'badly' b'interrogated' b'nightstick' b'Donnelly' b'magical' b'1664' b'Horns'\n",
            "b'GAC' b'tort' b'advertisement' b'blotches' b'Governments' b'Replay' b'yes' b'Multiple' b'vaulted' b'improve' b'dead' b'insecurity' b'Ramnagar' b'Hathershaw' b'animal' b'paranormal' b'locating' b'vanish' b'Cincinnati' b'Kesteven'\n",
            "b'scare' b'Schubert' b'culvert' b'sociologists' b'archery' b'dissenting' b'133' b'Columba' b'lodgings' b'Tullidge' b'Siloeman' b'Habits' b'dart' b'Charing' b'110' b'Intel' b'Amor' b'recipe' b'nevertheless' b'furniture'\n",
            "b'comments' b'lice' b'additional' b'tweaks' b'pledges' b'Lochaber' b'dent' b'Takia' b'duplicate' b'pleasant' b'Mall' b'138' b'confused' b'Flak' b'freckles' b'rods' b'Wrong' b'Gives' b'soulful' b'screened'\n",
            "\n"
          ],
          "name": "stdout"
        }
      ]
    },
    {
      "cell_type": "markdown",
      "metadata": {
        "id": "jezCN4vDoNJ6"
      },
      "source": [
        "It's no GPT-2, but it looks like the model has started to learn the structure of\n",
        "language!\n",
        "\n",
        "We're almost ready to demonstrate dynamic quantization. We just need to define a few more\n",
        "helper functions:\n",
        "\n"
      ]
    },
    {
      "cell_type": "code",
      "metadata": {
        "id": "CSaHiy2uoNJ6"
      },
      "source": [
        "bptt = 25\n",
        "criterion = nn.CrossEntropyLoss()\n",
        "eval_batch_size = 1\n",
        "\n",
        "# create test data set\n",
        "def batchify(data, bsz):\n",
        "    # Work out how cleanly we can divide the dataset into bsz parts.\n",
        "    nbatch = data.size(0) // bsz\n",
        "    # Trim off any extra elements that wouldn't cleanly fit (remainders).\n",
        "    data = data.narrow(0, 0, nbatch * bsz)\n",
        "    # Evenly divide the data across the bsz batches.\n",
        "    return data.view(bsz, -1).t().contiguous()\n",
        "\n",
        "test_data = batchify(corpus.test, eval_batch_size)\n",
        "\n",
        "# Evaluation functions\n",
        "def get_batch(source, i):\n",
        "    seq_len = min(bptt, len(source) - 1 - i)\n",
        "    data = source[i:i+seq_len]\n",
        "    target = source[i+1:i+1+seq_len].view(-1)\n",
        "    return data, target\n",
        "\n",
        "def repackage_hidden(h):\n",
        "  \"\"\"Wraps hidden states in new Tensors, to detach them from their history.\"\"\"\n",
        "\n",
        "  if isinstance(h, torch.Tensor):\n",
        "      return h.detach()\n",
        "  else:\n",
        "      return tuple(repackage_hidden(v) for v in h)\n",
        "\n",
        "def evaluate(model_, data_source):\n",
        "    # Turn on evaluation mode which disables dropout.\n",
        "    model_.eval()\n",
        "    total_loss = 0.\n",
        "    hidden = model_.init_hidden(eval_batch_size)\n",
        "    with torch.no_grad():\n",
        "        for i in range(0, data_source.size(0) - 1, bptt):\n",
        "            data, targets = get_batch(data_source, i)\n",
        "            output, hidden = model_(data, hidden)\n",
        "            hidden = repackage_hidden(hidden)\n",
        "            output_flat = output.view(-1, ntokens)\n",
        "            total_loss += len(data) * criterion(output_flat, targets).item()\n",
        "    return total_loss / (len(data_source) - 1)"
      ],
      "execution_count": 12,
      "outputs": []
    },
    {
      "cell_type": "markdown",
      "metadata": {
        "id": "t2E6hm8toNJ8"
      },
      "source": [
        "4. Test dynamic quantization\n",
        "----------------------------\n",
        "\n",
        "Finally, we can call ``torch.quantization.quantize_dynamic`` on the model!\n",
        "Specifically,\n",
        "\n",
        "- We specify that we want the ``nn.LSTM`` and ``nn.Linear`` modules in our\n",
        "  model to be quantized\n",
        "- We specify that we want weights to be converted to ``int8`` values\n",
        "\n"
      ]
    },
    {
      "cell_type": "code",
      "metadata": {
        "id": "RB1PqeU4oNJ9",
        "outputId": "9bd6e393-657b-44a4-d45e-89ba311fa9d3",
        "colab": {
          "base_uri": "https://localhost:8080/",
          "height": 125
        }
      },
      "source": [
        "import torch.quantization\n",
        "\n",
        "quantized_model = torch.quantization.quantize_dynamic(\n",
        "    model, {nn.LSTM, nn.Linear}, dtype=torch.qint8\n",
        ")\n",
        "print(quantized_model)"
      ],
      "execution_count": 13,
      "outputs": [
        {
          "output_type": "stream",
          "text": [
            "LSTMModel(\n",
            "  (drop): Dropout(p=0.5, inplace=False)\n",
            "  (encoder): Embedding(33278, 512)\n",
            "  (rnn): DynamicQuantizedLSTM(512, 256, num_layers=5, dropout=0.5)\n",
            "  (decoder): DynamicQuantizedLinear(in_features=256, out_features=33278, dtype=torch.qint8, qscheme=torch.per_tensor_affine)\n",
            ")\n"
          ],
          "name": "stdout"
        }
      ]
    },
    {
      "cell_type": "markdown",
      "metadata": {
        "id": "kibZ2Ek5oNJ_"
      },
      "source": [
        "The model looks the same; how has this benefited us? First, we see a\n",
        "significant reduction in model size:\n",
        "\n"
      ]
    },
    {
      "cell_type": "code",
      "metadata": {
        "id": "3NC-9YGkoNJ_",
        "outputId": "4da3c6e5-4a1a-4bfa-e8c0-9a4676cf92a3",
        "colab": {
          "base_uri": "https://localhost:8080/",
          "height": 53
        }
      },
      "source": [
        "def print_size_of_model(model):\n",
        "    torch.save(model.state_dict(), \"temp.p\")\n",
        "    print('Size (MB):', os.path.getsize(\"temp.p\")/1e6)\n",
        "    os.remove('temp.p')\n",
        "\n",
        "print_size_of_model(model)\n",
        "print_size_of_model(quantized_model)"
      ],
      "execution_count": 14,
      "outputs": [
        {
          "output_type": "stream",
          "text": [
            "Size (MB): 113.94546\n",
            "Size (MB): 79.739578\n"
          ],
          "name": "stdout"
        }
      ]
    },
    {
      "cell_type": "markdown",
      "metadata": {
        "id": "n_icPvg6oNKB"
      },
      "source": [
        "Second, we see faster inference time, with no difference in evaluation loss:\n",
        "\n",
        "Note: we number of threads to one for single threaded comparison, since quantized\n",
        "models run single threaded.\n",
        "\n"
      ]
    },
    {
      "cell_type": "code",
      "metadata": {
        "id": "bi04eptCoNKB",
        "outputId": "09100776-1ad7-4701-bdf5-63cf7587ceae",
        "colab": {
          "base_uri": "https://localhost:8080/",
          "height": 89
        }
      },
      "source": [
        "torch.set_num_threads(1)\n",
        "\n",
        "def time_model_evaluation(model, test_data):\n",
        "    s = time.time()\n",
        "    loss = evaluate(model, test_data)\n",
        "    elapsed = time.time() - s\n",
        "    print('''loss: {0:.3f}\\nelapsed time (seconds): {1:.1f}'''.format(loss, elapsed))\n",
        "\n",
        "time_model_evaluation(model, test_data)\n",
        "time_model_evaluation(quantized_model, test_data)"
      ],
      "execution_count": 15,
      "outputs": [
        {
          "output_type": "stream",
          "text": [
            "loss: 10.418\n",
            "elapsed time (seconds): 220.8\n",
            "loss: 10.418\n",
            "elapsed time (seconds): 102.0\n"
          ],
          "name": "stdout"
        }
      ]
    },
    {
      "cell_type": "markdown",
      "metadata": {
        "id": "YMx1mzEXoNKI"
      },
      "source": [
        "Running this locally on a MacBook Pro, without quantization, inference takes about 200 seconds,\n",
        "and with quantization it takes just about 100 seconds.\n",
        "\n",
        "Conclusion\n",
        "----------\n",
        "\n",
        "Dynamic quantization can be an easy way to reduce model size while only\n",
        "having a limited effect on accuracy.\n",
        "\n",
        "Thanks for reading! As always, we welcome any feedback, so please create an issue\n",
        "`here <https://github.com/pytorch/pytorch/issues>`_ if you have any.\n",
        "\n"
      ]
    }
  ]
}