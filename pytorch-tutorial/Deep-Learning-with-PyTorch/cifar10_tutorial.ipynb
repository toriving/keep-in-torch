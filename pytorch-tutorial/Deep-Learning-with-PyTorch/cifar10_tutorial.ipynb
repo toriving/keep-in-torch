{
  "nbformat": 4,
  "nbformat_minor": 0,
  "metadata": {
    "kernelspec": {
      "display_name": "Python 3",
      "language": "python",
      "name": "python3"
    },
    "language_info": {
      "codemirror_mode": {
        "name": "ipython",
        "version": 3
      },
      "file_extension": ".py",
      "mimetype": "text/x-python",
      "name": "python",
      "nbconvert_exporter": "python",
      "pygments_lexer": "ipython3",
      "version": "3.6.8"
    },
    "colab": {
      "name": "cifar10_tutorial.ipynb",
      "provenance": []
    },
    "accelerator": "GPU",
    "widgets": {
      "application/vnd.jupyter.widget-state+json": {
        "c6c8c04e85794ef090f43b5e7a037400": {
          "model_module": "@jupyter-widgets/controls",
          "model_name": "HBoxModel",
          "state": {
            "_view_name": "HBoxView",
            "_dom_classes": [],
            "_model_name": "HBoxModel",
            "_view_module": "@jupyter-widgets/controls",
            "_model_module_version": "1.5.0",
            "_view_count": null,
            "_view_module_version": "1.5.0",
            "box_style": "",
            "layout": "IPY_MODEL_74ba90b685a4431a9fe0b4cbb7cc0ca8",
            "_model_module": "@jupyter-widgets/controls",
            "children": [
              "IPY_MODEL_0ce95a026ebb404bbd65973dba2d6dbf",
              "IPY_MODEL_2e78793f797b437782f731f78d8d01c8"
            ]
          }
        },
        "74ba90b685a4431a9fe0b4cbb7cc0ca8": {
          "model_module": "@jupyter-widgets/base",
          "model_name": "LayoutModel",
          "state": {
            "_view_name": "LayoutView",
            "grid_template_rows": null,
            "right": null,
            "justify_content": null,
            "_view_module": "@jupyter-widgets/base",
            "overflow": null,
            "_model_module_version": "1.2.0",
            "_view_count": null,
            "flex_flow": null,
            "width": null,
            "min_width": null,
            "border": null,
            "align_items": null,
            "bottom": null,
            "_model_module": "@jupyter-widgets/base",
            "top": null,
            "grid_column": null,
            "overflow_y": null,
            "overflow_x": null,
            "grid_auto_flow": null,
            "grid_area": null,
            "grid_template_columns": null,
            "flex": null,
            "_model_name": "LayoutModel",
            "justify_items": null,
            "grid_row": null,
            "max_height": null,
            "align_content": null,
            "visibility": null,
            "align_self": null,
            "height": null,
            "min_height": null,
            "padding": null,
            "grid_auto_rows": null,
            "grid_gap": null,
            "max_width": null,
            "order": null,
            "_view_module_version": "1.2.0",
            "grid_template_areas": null,
            "object_position": null,
            "object_fit": null,
            "grid_auto_columns": null,
            "margin": null,
            "display": null,
            "left": null
          }
        },
        "0ce95a026ebb404bbd65973dba2d6dbf": {
          "model_module": "@jupyter-widgets/controls",
          "model_name": "FloatProgressModel",
          "state": {
            "_view_name": "ProgressView",
            "style": "IPY_MODEL_214433760f20434d8d987770fc66d82f",
            "_dom_classes": [],
            "description": "",
            "_model_name": "FloatProgressModel",
            "bar_style": "success",
            "max": 1,
            "_view_module": "@jupyter-widgets/controls",
            "_model_module_version": "1.5.0",
            "value": 1,
            "_view_count": null,
            "_view_module_version": "1.5.0",
            "orientation": "horizontal",
            "min": 0,
            "description_tooltip": null,
            "_model_module": "@jupyter-widgets/controls",
            "layout": "IPY_MODEL_5b87f978db794731974d63bbedba44a3"
          }
        },
        "2e78793f797b437782f731f78d8d01c8": {
          "model_module": "@jupyter-widgets/controls",
          "model_name": "HTMLModel",
          "state": {
            "_view_name": "HTMLView",
            "style": "IPY_MODEL_6a1fe287cccc4ef8958b98180adbb75b",
            "_dom_classes": [],
            "description": "",
            "_model_name": "HTMLModel",
            "placeholder": "​",
            "_view_module": "@jupyter-widgets/controls",
            "_model_module_version": "1.5.0",
            "value": " 170500096/? [00:09&lt;00:00, 17478064.89it/s]",
            "_view_count": null,
            "_view_module_version": "1.5.0",
            "description_tooltip": null,
            "_model_module": "@jupyter-widgets/controls",
            "layout": "IPY_MODEL_5c988803e5f240c29ab290b23c1b5953"
          }
        },
        "214433760f20434d8d987770fc66d82f": {
          "model_module": "@jupyter-widgets/controls",
          "model_name": "ProgressStyleModel",
          "state": {
            "_view_name": "StyleView",
            "_model_name": "ProgressStyleModel",
            "description_width": "initial",
            "_view_module": "@jupyter-widgets/base",
            "_model_module_version": "1.5.0",
            "_view_count": null,
            "_view_module_version": "1.2.0",
            "bar_color": null,
            "_model_module": "@jupyter-widgets/controls"
          }
        },
        "5b87f978db794731974d63bbedba44a3": {
          "model_module": "@jupyter-widgets/base",
          "model_name": "LayoutModel",
          "state": {
            "_view_name": "LayoutView",
            "grid_template_rows": null,
            "right": null,
            "justify_content": null,
            "_view_module": "@jupyter-widgets/base",
            "overflow": null,
            "_model_module_version": "1.2.0",
            "_view_count": null,
            "flex_flow": null,
            "width": null,
            "min_width": null,
            "border": null,
            "align_items": null,
            "bottom": null,
            "_model_module": "@jupyter-widgets/base",
            "top": null,
            "grid_column": null,
            "overflow_y": null,
            "overflow_x": null,
            "grid_auto_flow": null,
            "grid_area": null,
            "grid_template_columns": null,
            "flex": null,
            "_model_name": "LayoutModel",
            "justify_items": null,
            "grid_row": null,
            "max_height": null,
            "align_content": null,
            "visibility": null,
            "align_self": null,
            "height": null,
            "min_height": null,
            "padding": null,
            "grid_auto_rows": null,
            "grid_gap": null,
            "max_width": null,
            "order": null,
            "_view_module_version": "1.2.0",
            "grid_template_areas": null,
            "object_position": null,
            "object_fit": null,
            "grid_auto_columns": null,
            "margin": null,
            "display": null,
            "left": null
          }
        },
        "6a1fe287cccc4ef8958b98180adbb75b": {
          "model_module": "@jupyter-widgets/controls",
          "model_name": "DescriptionStyleModel",
          "state": {
            "_view_name": "StyleView",
            "_model_name": "DescriptionStyleModel",
            "description_width": "",
            "_view_module": "@jupyter-widgets/base",
            "_model_module_version": "1.5.0",
            "_view_count": null,
            "_view_module_version": "1.2.0",
            "_model_module": "@jupyter-widgets/controls"
          }
        },
        "5c988803e5f240c29ab290b23c1b5953": {
          "model_module": "@jupyter-widgets/base",
          "model_name": "LayoutModel",
          "state": {
            "_view_name": "LayoutView",
            "grid_template_rows": null,
            "right": null,
            "justify_content": null,
            "_view_module": "@jupyter-widgets/base",
            "overflow": null,
            "_model_module_version": "1.2.0",
            "_view_count": null,
            "flex_flow": null,
            "width": null,
            "min_width": null,
            "border": null,
            "align_items": null,
            "bottom": null,
            "_model_module": "@jupyter-widgets/base",
            "top": null,
            "grid_column": null,
            "overflow_y": null,
            "overflow_x": null,
            "grid_auto_flow": null,
            "grid_area": null,
            "grid_template_columns": null,
            "flex": null,
            "_model_name": "LayoutModel",
            "justify_items": null,
            "grid_row": null,
            "max_height": null,
            "align_content": null,
            "visibility": null,
            "align_self": null,
            "height": null,
            "min_height": null,
            "padding": null,
            "grid_auto_rows": null,
            "grid_gap": null,
            "max_width": null,
            "order": null,
            "_view_module_version": "1.2.0",
            "grid_template_areas": null,
            "object_position": null,
            "object_fit": null,
            "grid_auto_columns": null,
            "margin": null,
            "display": null,
            "left": null
          }
        }
      }
    }
  },
  "cells": [
    {
      "cell_type": "code",
      "metadata": {
        "id": "M3jIz027n_Q1"
      },
      "source": [
        "%matplotlib inline"
      ],
      "execution_count": 1,
      "outputs": []
    },
    {
      "cell_type": "markdown",
      "metadata": {
        "id": "hDvv_SDwn_Q5"
      },
      "source": [
        "\n",
        "Training a Classifier\n",
        "=====================\n",
        "\n",
        "This is it. You have seen how to define neural networks, compute loss and make\n",
        "updates to the weights of the network.\n",
        "\n",
        "Now you might be thinking,\n",
        "\n",
        "What about data?\n",
        "----------------\n",
        "\n",
        "Generally, when you have to deal with image, text, audio or video data,\n",
        "you can use standard python packages that load data into a numpy array.\n",
        "Then you can convert this array into a ``torch.*Tensor``.\n",
        "\n",
        "-  For images, packages such as Pillow, OpenCV are useful\n",
        "-  For audio, packages such as scipy and librosa\n",
        "-  For text, either raw Python or Cython based loading, or NLTK and\n",
        "   SpaCy are useful\n",
        "\n",
        "Specifically for vision, we have created a package called\n",
        "``torchvision``, that has data loaders for common datasets such as\n",
        "Imagenet, CIFAR10, MNIST, etc. and data transformers for images, viz.,\n",
        "``torchvision.datasets`` and ``torch.utils.data.DataLoader``.\n",
        "\n",
        "This provides a huge convenience and avoids writing boilerplate code.\n",
        "\n",
        "For this tutorial, we will use the CIFAR10 dataset.\n",
        "It has the classes: ‘airplane’, ‘automobile’, ‘bird’, ‘cat’, ‘deer’,\n",
        "‘dog’, ‘frog’, ‘horse’, ‘ship’, ‘truck’. The images in CIFAR-10 are of\n",
        "size 3x32x32, i.e. 3-channel color images of 32x32 pixels in size.\n",
        "\n",
        ".. figure:: /_static/img/cifar10.png\n",
        "   :alt: cifar10\n",
        "\n",
        "   cifar10\n",
        "\n",
        "\n",
        "Training an image classifier\n",
        "----------------------------\n",
        "\n",
        "We will do the following steps in order:\n",
        "\n",
        "1. Load and normalizing the CIFAR10 training and test datasets using\n",
        "   ``torchvision``\n",
        "2. Define a Convolutional Neural Network\n",
        "3. Define a loss function\n",
        "4. Train the network on the training data\n",
        "5. Test the network on the test data\n",
        "\n",
        "1. Loading and normalizing CIFAR10\n",
        "^^^^^^^^^^^^^^^^^^^^^^^^^^^^^^^^^^\n",
        "\n",
        "Using ``torchvision``, it’s extremely easy to load CIFAR10.\n",
        "\n"
      ]
    },
    {
      "cell_type": "code",
      "metadata": {
        "id": "sjTDW53nn_Q5"
      },
      "source": [
        "import torch\n",
        "import torchvision\n",
        "import torchvision.transforms as transforms"
      ],
      "execution_count": 2,
      "outputs": []
    },
    {
      "cell_type": "markdown",
      "metadata": {
        "id": "VQL9kzJmn_Q8"
      },
      "source": [
        "The output of torchvision datasets are PILImage images of range [0, 1].\n",
        "We transform them to Tensors of normalized range [-1, 1].\n",
        "<div class=\"alert alert-info\"><h4>Note</h4><p>If running on Windows and you get a BrokenPipeError, try setting\n",
        "    the num_worker of torch.utils.data.DataLoader() to 0.</p></div>\n",
        "\n"
      ]
    },
    {
      "cell_type": "code",
      "metadata": {
        "id": "XXj_vygZn_Q8",
        "outputId": "b2b63ea9-8a2a-4b6f-9225-ebf0699d0003",
        "colab": {
          "base_uri": "https://localhost:8080/",
          "height": 100,
          "referenced_widgets": [
            "c6c8c04e85794ef090f43b5e7a037400",
            "74ba90b685a4431a9fe0b4cbb7cc0ca8",
            "0ce95a026ebb404bbd65973dba2d6dbf",
            "2e78793f797b437782f731f78d8d01c8",
            "214433760f20434d8d987770fc66d82f",
            "5b87f978db794731974d63bbedba44a3",
            "6a1fe287cccc4ef8958b98180adbb75b",
            "5c988803e5f240c29ab290b23c1b5953"
          ]
        }
      },
      "source": [
        "transform = transforms.Compose(\n",
        "    [transforms.ToTensor(),\n",
        "     transforms.Normalize((0.5, 0.5, 0.5), (0.5, 0.5, 0.5))])\n",
        "\n",
        "trainset = torchvision.datasets.CIFAR10(root='./data', train=True,\n",
        "                                        download=True, transform=transform)\n",
        "trainloader = torch.utils.data.DataLoader(trainset, batch_size=4,\n",
        "                                          shuffle=True, num_workers=2)\n",
        "\n",
        "testset = torchvision.datasets.CIFAR10(root='./data', train=False,\n",
        "                                       download=True, transform=transform)\n",
        "testloader = torch.utils.data.DataLoader(testset, batch_size=4,\n",
        "                                         shuffle=False, num_workers=2)\n",
        "\n",
        "classes = ('plane', 'car', 'bird', 'cat',\n",
        "           'deer', 'dog', 'frog', 'horse', 'ship', 'truck')"
      ],
      "execution_count": 3,
      "outputs": [
        {
          "output_type": "stream",
          "text": [
            "Downloading https://www.cs.toronto.edu/~kriz/cifar-10-python.tar.gz to ./data/cifar-10-python.tar.gz\n"
          ],
          "name": "stdout"
        },
        {
          "output_type": "display_data",
          "data": {
            "application/vnd.jupyter.widget-view+json": {
              "model_id": "c6c8c04e85794ef090f43b5e7a037400",
              "version_minor": 0,
              "version_major": 2
            },
            "text/plain": [
              "HBox(children=(FloatProgress(value=1.0, bar_style='info', max=1.0), HTML(value='')))"
            ]
          },
          "metadata": {
            "tags": []
          }
        },
        {
          "output_type": "stream",
          "text": [
            "Extracting ./data/cifar-10-python.tar.gz to ./data\n",
            "Files already downloaded and verified\n"
          ],
          "name": "stdout"
        }
      ]
    },
    {
      "cell_type": "markdown",
      "metadata": {
        "id": "4tlpuwh2n_Q-"
      },
      "source": [
        "Let us show some of the training images, for fun.\n",
        "\n"
      ]
    },
    {
      "cell_type": "code",
      "metadata": {
        "id": "CmjEYTiGn_Q_",
        "outputId": "7afc5c04-ecde-4239-f6ee-2c93aba68a79",
        "colab": {
          "base_uri": "https://localhost:8080/",
          "height": 172
        }
      },
      "source": [
        "import matplotlib.pyplot as plt\n",
        "import numpy as np\n",
        "\n",
        "# functions to show an image\n",
        "\n",
        "\n",
        "def imshow(img):\n",
        "    img = img / 2 + 0.5     # unnormalize\n",
        "    npimg = img.numpy()\n",
        "    plt.imshow(np.transpose(npimg, (1, 2, 0)))\n",
        "    plt.show()\n",
        "\n",
        "\n",
        "# get some random training images\n",
        "dataiter = iter(trainloader)\n",
        "images, labels = dataiter.next()\n",
        "\n",
        "# show images\n",
        "imshow(torchvision.utils.make_grid(images))\n",
        "# print labels\n",
        "print(' '.join('%5s' % classes[labels[j]] for j in range(4)))"
      ],
      "execution_count": 4,
      "outputs": [
        {
          "output_type": "stream",
          "text": [
            "\n"
          ],
          "name": "stdout"
        },
        {
          "output_type": "display_data",
          "data": {
            "image/png": "[encoded data removed]",
            "text/plain": [
              "<Figure size 432x288 with 1 Axes>"
            ]
          },
          "metadata": {
            "tags": [],
            "needs_background": "light"
          }
        },
        {
          "output_type": "stream",
          "text": [
            "  cat truck horse horse\n"
          ],
          "name": "stdout"
        }
      ]
    },
    {
      "cell_type": "markdown",
      "metadata": {
        "id": "RAvyuuJ5n_RB"
      },
      "source": [
        "2. Define a Convolutional Neural Network\n",
        "^^^^^^^^^^^^^^^^^^^^^^^^^^^^^^^^^^^^^^\n",
        "Copy the neural network from the Neural Networks section before and modify it to\n",
        "take 3-channel images (instead of 1-channel images as it was defined).\n",
        "\n"
      ]
    },
    {
      "cell_type": "code",
      "metadata": {
        "id": "Ikly5YcSn_RC"
      },
      "source": [
        "import torch.nn as nn\n",
        "import torch.nn.functional as F\n",
        "\n",
        "\n",
        "class Net(nn.Module):\n",
        "    def __init__(self):\n",
        "        super(Net, self).__init__()\n",
        "        self.conv1 = nn.Conv2d(3, 6, 5)\n",
        "        self.pool = nn.MaxPool2d(2, 2)\n",
        "        self.conv2 = nn.Conv2d(6, 16, 5)\n",
        "        self.fc1 = nn.Linear(16 * 5 * 5, 120)\n",
        "        self.fc2 = nn.Linear(120, 84)\n",
        "        self.fc3 = nn.Linear(84, 10)\n",
        "\n",
        "    def forward(self, x):\n",
        "        x = self.pool(F.relu(self.conv1(x)))\n",
        "        x = self.pool(F.relu(self.conv2(x)))\n",
        "        x = x.view(-1, 16 * 5 * 5)\n",
        "        x = F.relu(self.fc1(x))\n",
        "        x = F.relu(self.fc2(x))\n",
        "        x = self.fc3(x)\n",
        "        return x\n",
        "\n",
        "\n",
        "net = Net()"
      ],
      "execution_count": 5,
      "outputs": []
    },
    {
      "cell_type": "markdown",
      "metadata": {
        "id": "58Wu7Ivqn_RE"
      },
      "source": [
        "3. Define a Loss function and optimizer\n",
        "^^^^^^^^^^^^^^^^^^^^^^^^^^^^^^^^^^^^^^^\n",
        "Let's use a Classification Cross-Entropy loss and SGD with momentum.\n",
        "\n"
      ]
    },
    {
      "cell_type": "code",
      "metadata": {
        "id": "A2wSR23un_RF"
      },
      "source": [
        "import torch.optim as optim\n",
        "\n",
        "criterion = nn.CrossEntropyLoss()\n",
        "optimizer = optim.SGD(net.parameters(), lr=0.001, momentum=0.9)"
      ],
      "execution_count": 6,
      "outputs": []
    },
    {
      "cell_type": "markdown",
      "metadata": {
        "id": "H1iZWHGCn_RH"
      },
      "source": [
        "4. Train the network\n",
        "^^^^^^^^^^^^^^^^^^^^\n",
        "\n",
        "This is when things start to get interesting.\n",
        "We simply have to loop over our data iterator, and feed the inputs to the\n",
        "network and optimize.\n",
        "\n"
      ]
    },
    {
      "cell_type": "code",
      "metadata": {
        "id": "y86O_SRbn_RI",
        "outputId": "5efd7026-fc22-4e4c-a4bc-1aa60bdd31e5",
        "colab": {
          "base_uri": "https://localhost:8080/",
          "height": 238
        }
      },
      "source": [
        "for epoch in range(2):  # loop over the dataset multiple times\n",
        "\n",
        "    running_loss = 0.0\n",
        "    for i, data in enumerate(trainloader, 0):\n",
        "        # get the inputs; data is a list of [inputs, labels]\n",
        "        inputs, labels = data\n",
        "\n",
        "        # zero the parameter gradients\n",
        "        optimizer.zero_grad()\n",
        "\n",
        "        # forward + backward + optimize\n",
        "        outputs = net(inputs)\n",
        "        loss = criterion(outputs, labels)\n",
        "        loss.backward()\n",
        "        optimizer.step()\n",
        "\n",
        "        # print statistics\n",
        "        running_loss += loss.item()\n",
        "        if i % 2000 == 1999:    # print every 2000 mini-batches\n",
        "            print('[%d, %5d] loss: %.3f' %\n",
        "                  (epoch + 1, i + 1, running_loss / 2000))\n",
        "            running_loss = 0.0\n",
        "\n",
        "print('Finished Training')"
      ],
      "execution_count": 7,
      "outputs": [
        {
          "output_type": "stream",
          "text": [
            "[1,  2000] loss: 2.160\n",
            "[1,  4000] loss: 1.836\n",
            "[1,  6000] loss: 1.655\n",
            "[1,  8000] loss: 1.567\n",
            "[1, 10000] loss: 1.518\n",
            "[1, 12000] loss: 1.457\n",
            "[2,  2000] loss: 1.403\n",
            "[2,  4000] loss: 1.365\n",
            "[2,  6000] loss: 1.328\n",
            "[2,  8000] loss: 1.315\n",
            "[2, 10000] loss: 1.281\n",
            "[2, 12000] loss: 1.260\n",
            "Finished Training\n"
          ],
          "name": "stdout"
        }
      ]
    },
    {
      "cell_type": "markdown",
      "metadata": {
        "id": "cPp3UNJPn_RK"
      },
      "source": [
        "Let's quickly save our trained model:\n",
        "\n"
      ]
    },
    {
      "cell_type": "code",
      "metadata": {
        "id": "dXUMDjFZn_RL"
      },
      "source": [
        "PATH = './cifar_net.pth'\n",
        "torch.save(net.state_dict(), PATH)"
      ],
      "execution_count": 8,
      "outputs": []
    },
    {
      "cell_type": "code",
      "metadata": {
        "id": "tMcTDq7apuZR",
        "outputId": "5a6cd2af-5fea-4719-dc92-eb73ae7ed279",
        "colab": {
          "base_uri": "https://localhost:8080/",
          "height": 1000
        }
      },
      "source": [
        "print(net.state_dict())"
      ],
      "execution_count": 9,
      "outputs": [
        {
          "output_type": "stream",
          "text": [
            "OrderedDict([('conv1.weight', tensor([[[[ 1.5849e-02,  7.2643e-02, -2.4265e-02,  3.5067e-02, -4.6577e-02],\n",
            "          [ 1.6585e-01,  2.5987e-01, -5.1164e-01, -2.1513e-01,  2.4669e-01],\n",
            "          [ 8.0662e-02,  1.0045e-01, -8.6075e-01, -2.0210e-01,  5.1149e-01],\n",
            "          [-8.0416e-02, -2.3454e-01, -2.8546e-01,  1.1695e-01,  3.3215e-01],\n",
            "          [-2.4147e-01, -1.1743e-01,  2.0058e-01,  8.2887e-02, -1.8834e-01]],\n",
            "\n",
            "         [[-6.2262e-02,  1.3208e-02, -1.1591e-01,  9.6220e-02, -1.0337e-01],\n",
            "          [ 1.9251e-01,  1.2709e-01, -3.5104e-01, -1.0666e-01,  3.8148e-01],\n",
            "          [ 2.6574e-01,  2.3907e-01, -7.9219e-01, -2.9683e-02,  7.0623e-01],\n",
            "          [ 9.0509e-02, -1.4032e-01, -2.1699e-01,  5.1700e-02,  3.3196e-01],\n",
            "          [ 4.8923e-02, -5.2896e-02,  2.0455e-01,  1.9851e-01,  8.9746e-02]],\n",
            "\n",
            "         [[-1.5581e-01,  1.4377e-01, -1.1412e-01,  1.1104e-01, -1.5056e-01],\n",
            "          [ 6.9983e-02,  2.1768e-01, -4.8151e-01, -1.4831e-01,  2.9062e-01],\n",
            "          [ 2.2422e-01,  8.0253e-02, -7.5242e-01, -2.1007e-01,  5.8431e-01],\n",
            "          [ 1.8018e-02, -4.6932e-02, -3.9731e-01,  1.2870e-01,  2.8407e-01],\n",
            "          [-1.7817e-01, -9.4311e-02,  1.8684e-01,  6.8790e-03, -1.7330e-01]]],\n",
            "\n",
            "\n",
            "        [[[ 2.5985e-01,  2.5160e-01,  3.1073e-01,  5.2160e-01,  2.4464e-01],\n",
            "          [ 3.5365e-01,  4.6810e-01,  6.5679e-01,  5.8460e-01,  1.7375e-01],\n",
            "          [-1.4094e-01,  2.0727e-02, -8.9655e-02, -1.5696e-01,  1.0235e-01],\n",
            "          [-3.8241e-01, -3.9919e-01, -5.4671e-01, -2.6702e-01, -1.4871e-01],\n",
            "          [-7.9423e-02, -1.8778e-01, -2.0331e-01, -1.2268e-01, -1.8798e-01]],\n",
            "\n",
            "         [[-7.8802e-02,  9.0353e-02, -2.6576e-03,  3.5516e-02, -3.4203e-01],\n",
            "          [ 1.9371e-01,  2.9196e-01,  2.6149e-01, -6.0341e-02, -2.3990e-01],\n",
            "          [-3.0829e-01, -2.6562e-01, -3.4939e-01, -4.0754e-01, -3.3094e-01],\n",
            "          [-3.9224e-01, -4.8851e-01, -6.0984e-01, -2.2314e-01, -1.2374e-01],\n",
            "          [ 3.5298e-02,  1.2184e-01,  3.1913e-01,  1.0161e-01,  5.5209e-02]],\n",
            "\n",
            "         [[-9.4377e-02,  9.2771e-02,  5.8916e-02, -1.4002e-01, -2.2123e-01],\n",
            "          [ 9.0925e-02,  3.5982e-01,  1.5247e-01, -2.6749e-02, -1.6024e-01],\n",
            "          [-8.5745e-02, -2.2427e-01, -3.3936e-01, -1.0587e-01,  1.0731e-01],\n",
            "          [-1.7182e-01, -1.2249e-01, -2.6408e-01, -1.2689e-01,  1.6013e-01],\n",
            "          [ 3.2069e-01,  5.0607e-01,  5.4618e-01,  2.8024e-01,  2.6792e-01]]],\n",
            "\n",
            "\n",
            "        [[[-2.0756e-01, -2.3109e-01, -3.0795e-01, -2.6523e-01, -3.0100e-01],\n",
            "          [-1.5248e-01, -3.4757e-01, -1.3711e-01, -1.5382e-01, -1.8388e-01],\n",
            "          [-8.7706e-02, -2.2879e-03, -9.0211e-02, -6.3693e-02, -1.2131e-01],\n",
            "          [-1.8121e-01, -1.5793e-01, -2.8942e-01, -2.3578e-01, -2.2977e-01],\n",
            "          [-7.2549e-02, -1.5745e-01, -2.1024e-01, -1.3253e-01, -1.6339e-01]],\n",
            "\n",
            "         [[-9.5047e-02,  3.8829e-02, -6.6462e-02, -6.6402e-02,  6.2754e-02],\n",
            "          [ 8.9553e-02, -4.2492e-03,  6.8918e-02,  2.8795e-02,  5.0530e-02],\n",
            "          [ 8.7946e-02,  2.6352e-01,  2.8691e-01,  1.3220e-01,  2.9365e-01],\n",
            "          [ 3.9422e-02, -1.3049e-01,  6.4200e-02,  6.1714e-02,  7.5961e-02],\n",
            "          [-1.0794e-01, -1.4528e-01, -1.5303e-01, -7.1553e-02, -1.8905e-01]],\n",
            "\n",
            "         [[ 2.7359e-01,  1.5792e-01,  1.0923e-01,  2.9128e-02,  1.4732e-01],\n",
            "          [ 1.8429e-01,  2.2247e-01,  1.1459e-01,  2.4816e-01,  1.3275e-01],\n",
            "          [ 2.6493e-01,  4.1291e-01,  3.8219e-01,  4.2029e-01,  2.0332e-01],\n",
            "          [ 4.2301e-02,  2.2298e-01,  1.3229e-01,  2.0957e-01,  1.7018e-01],\n",
            "          [-8.1261e-02,  1.0038e-01, -3.1732e-02,  2.0471e-01,  5.8265e-02]]],\n",
            "\n",
            "\n",
            "        [[[-2.7389e-01, -3.3476e-01, -2.7565e-01, -1.7584e-01, -1.2123e-01],\n",
            "          [-2.4822e-01, -2.7254e-01, -3.3559e-01, -1.6815e-01, -7.7673e-02],\n",
            "          [-5.1887e-02, -4.6681e-02,  1.0190e-01,  4.8915e-02,  9.5405e-02],\n",
            "          [ 1.9319e-01,  2.1094e-01,  2.9895e-01,  1.2169e-01,  1.2469e-01],\n",
            "          [ 3.2271e-01,  2.6636e-01,  2.5695e-01,  3.0349e-01,  2.3376e-01]],\n",
            "\n",
            "         [[-9.1572e-02, -2.0661e-01, -1.8333e-01, -1.9753e-01, -8.6096e-02],\n",
            "          [-2.1405e-01, -2.2959e-01, -1.4112e-01, -1.4670e-02, -5.0406e-02],\n",
            "          [-8.3541e-02,  8.7812e-02,  5.8684e-02, -2.2979e-02, -1.6999e-01],\n",
            "          [ 4.9659e-05,  1.7618e-01,  1.6875e-01,  9.6907e-02, -1.1662e-01],\n",
            "          [-2.1819e-02, -4.1859e-02, -8.2647e-02, -1.2363e-01, -1.0958e-01]],\n",
            "\n",
            "         [[ 1.3266e-01,  5.9313e-02, -1.3279e-01, -7.7945e-02,  1.2913e-01],\n",
            "          [ 1.3652e-01,  4.7586e-03, -1.1295e-01,  4.0495e-02,  1.2203e-01],\n",
            "          [ 6.5859e-02,  3.8244e-02,  1.0055e-01,  8.6825e-02,  1.3117e-01],\n",
            "          [ 6.5222e-02,  1.7812e-02,  2.6597e-02,  1.5394e-01,  6.9675e-02],\n",
            "          [ 4.5068e-02,  1.3857e-01,  1.0522e-01,  3.3531e-02, -1.8287e-02]]],\n",
            "\n",
            "\n",
            "        [[[-3.9793e-02,  1.6732e-01,  1.2262e-01,  1.7114e-02,  1.3855e-01],\n",
            "          [-1.4083e-01,  2.1582e-01,  2.5704e-01,  3.9329e-02, -9.8490e-02],\n",
            "          [-1.4207e-01,  1.6983e-01,  2.2220e-01, -8.7852e-02, -2.9033e-01],\n",
            "          [-1.3513e-01,  1.1840e-01,  2.6681e-01,  2.1164e-02, -8.1219e-02],\n",
            "          [-6.4122e-02, -7.1306e-02,  7.6320e-03, -2.7461e-02, -1.0325e-01]],\n",
            "\n",
            "         [[-7.2536e-02,  2.2875e-02, -2.6234e-02, -3.4814e-01, -1.9474e-01],\n",
            "          [-5.4723e-02,  1.0929e-01,  1.6869e-01, -3.4921e-01, -4.3516e-01],\n",
            "          [-3.5770e-02,  2.6459e-01,  2.4874e-01, -1.5234e-01, -5.8033e-01],\n",
            "          [ 8.2957e-02,  1.7721e-01,  1.3957e-01, -2.3098e-01, -3.8954e-01],\n",
            "          [-7.9108e-03,  1.6295e-01,  6.3569e-02, -9.3970e-02, -2.1256e-01]],\n",
            "\n",
            "         [[ 3.9867e-02,  1.5191e-01,  2.1087e-02, -1.2481e-01, -2.3697e-01],\n",
            "          [ 5.4648e-02,  2.8519e-01,  2.3102e-01, -1.1411e-01, -4.2740e-01],\n",
            "          [ 4.9199e-02,  2.8560e-01,  3.5022e-01, -1.7453e-01, -3.5557e-01],\n",
            "          [ 1.1149e-02,  3.7003e-01,  2.2184e-01, -1.0056e-01, -3.1073e-01],\n",
            "          [ 1.7241e-01,  2.9354e-01,  1.2762e-01,  8.9106e-02, -9.8269e-02]]],\n",
            "\n",
            "\n",
            "        [[[ 2.8044e-02,  1.3348e-01,  1.7594e-01, -4.9670e-02, -6.7774e-02],\n",
            "          [ 9.9088e-02,  9.4425e-02,  1.9078e-01, -3.0182e-02, -4.1471e-04],\n",
            "          [ 7.9091e-02, -4.8444e-02,  1.6148e-01,  1.3347e-02,  2.8141e-02],\n",
            "          [-1.0673e-01,  9.3796e-02,  6.6082e-02,  9.0076e-02, -8.8436e-04],\n",
            "          [-7.5622e-02, -3.6111e-02,  1.0854e-01,  2.1343e-02,  9.1147e-02]],\n",
            "\n",
            "         [[ 7.7700e-03,  1.2676e-01, -2.5388e-02, -1.3901e-01, -7.9968e-02],\n",
            "          [-1.0453e-01,  1.5307e-01,  1.7676e-01, -2.1957e-02, -1.4163e-01],\n",
            "          [-2.2293e-01, -9.0855e-02,  1.0624e-01,  1.0499e-01, -1.3434e-01],\n",
            "          [-8.7908e-02, -1.5907e-01, -3.5621e-02, -7.7691e-02,  2.7643e-02],\n",
            "          [-1.8817e-01, -5.1386e-02, -9.7194e-02,  8.5169e-02,  9.5385e-03]],\n",
            "\n",
            "         [[ 1.7398e-01,  2.5494e-01,  1.8533e-01,  1.3652e-01, -9.7046e-02],\n",
            "          [ 6.4210e-02,  1.2145e-01,  2.2484e-01,  2.0692e-01, -9.9913e-02],\n",
            "          [-1.1746e-01,  8.9484e-02,  2.3257e-02,  1.5924e-01,  3.4783e-02],\n",
            "          [ 6.8926e-02,  4.0101e-02,  5.3630e-02,  9.1087e-02,  7.1492e-03],\n",
            "          [ 3.6293e-02,  3.5495e-02,  4.0489e-02,  1.4396e-02,  2.4902e-02]]]])), ('conv1.bias', tensor([-0.1324, -0.4569,  0.2108, -0.2018, -0.2035,  0.2536])), ('conv2.weight', tensor([[[[ 7.9352e-02, -2.3023e-02, -8.4791e-02, -2.2591e-01, -2.6949e-01],\n",
            "          [ 1.6711e-01,  5.0596e-02, -1.7118e-01, -2.6373e-01,  9.8827e-02],\n",
            "          [ 1.2936e-01,  3.4966e-02, -1.5096e-01,  1.7272e-01,  2.8517e-01],\n",
            "          [-4.5567e-02, -1.2889e-01,  5.1551e-02,  3.0579e-01,  1.8005e-01],\n",
            "          [-2.2159e-01, -1.3181e-01, -4.5436e-02, -1.9835e-02, -9.6929e-02]],\n",
            "\n",
            "         [[-1.6844e-02, -3.7571e-02, -5.9710e-02, -1.4086e-01,  2.4229e-01],\n",
            "          [ 1.3120e-02, -7.9595e-02, -1.8094e-01,  1.3403e-01,  1.9132e-01],\n",
            "          [ 5.5722e-02, -2.0359e-01,  6.3480e-02,  1.7245e-01,  8.0282e-02],\n",
            "          [-1.8570e-01,  7.2550e-02,  3.0580e-01,  1.1642e-01, -6.9595e-02],\n",
            "          [ 5.5785e-02,  1.7057e-01,  7.1946e-02, -1.1200e-01, -1.2896e-01]],\n",
            "\n",
            "         [[ 1.1194e-02,  1.0416e-01,  1.0612e-01, -1.6586e-02, -1.0726e-01],\n",
            "          [-3.1942e-02,  1.0265e-01,  6.8205e-02,  8.4947e-02, -1.0707e-01],\n",
            "          [-1.1436e-01, -7.9243e-02, -9.7717e-03,  6.3353e-03, -6.3510e-02],\n",
            "          [ 3.6678e-02,  7.5129e-02, -5.9053e-02, -1.2522e-02, -1.0027e-01],\n",
            "          [-1.6115e-01, -1.5011e-02, -1.2527e-01, -6.6268e-02, -9.0095e-02]],\n",
            "\n",
            "         [[ 2.0849e-02, -3.7942e-02, -8.3743e-02, -7.1745e-02, -1.5197e-01],\n",
            "          [-2.2869e-01, -1.3608e-01, -1.7704e-01, -1.2221e-01, -1.6528e-01],\n",
            "          [-7.1123e-02, -1.2180e-01, -1.5605e-01, -2.1548e-01,  1.6803e-02],\n",
            "          [-2.2351e-02, -1.3192e-01, -1.0752e-01,  8.1072e-02,  1.3878e-01],\n",
            "          [-7.9122e-02,  1.0466e-01,  2.3642e-01,  2.5239e-01,  6.0262e-02]],\n",
            "\n",
            "         [[ 1.0839e-01,  3.1096e-02, -9.8469e-02,  2.9987e-02,  2.0072e-01],\n",
            "          [ 8.2790e-02,  9.6785e-03,  1.6163e-01,  1.9340e-01,  1.8516e-02],\n",
            "          [ 6.4201e-02,  1.7543e-01,  2.1036e-01, -2.9911e-02, -1.1825e-01],\n",
            "          [ 1.0679e-01,  1.2661e-01,  5.0255e-02, -1.6316e-01,  2.6949e-02],\n",
            "          [ 3.6941e-03, -7.0563e-02, -2.6622e-01, -2.0298e-01, -1.0517e-01]],\n",
            "\n",
            "         [[-1.4576e-01,  3.3874e-02, -8.9763e-02, -5.2167e-02, -8.5174e-02],\n",
            "          [-7.6673e-02,  5.9121e-02, -4.9952e-02, -6.7518e-02, -7.8927e-02],\n",
            "          [-8.8401e-02, -6.2653e-02,  3.1077e-02, -8.3530e-02, -1.5382e-01],\n",
            "          [-2.2866e-01, -1.7228e-01, -1.0568e-01, -1.2905e-01, -6.1153e-02],\n",
            "          [-1.3160e-01, -9.5747e-02, -1.2104e-01, -3.8638e-02, -7.3885e-02]]],\n",
            "\n",
            "\n",
            "        [[[-6.3152e-02, -5.5162e-04, -5.5812e-03,  6.4402e-02,  5.2591e-02],\n",
            "          [-4.1257e-02, -1.5770e-01,  1.1121e-02, -1.4407e-01,  5.2058e-02],\n",
            "          [ 7.4760e-02, -3.4204e-02,  1.6426e-02, -7.1101e-02, -1.1147e-02],\n",
            "          [ 5.3342e-02, -6.6346e-02,  6.7891e-02, -3.1756e-02,  8.9456e-02],\n",
            "          [-7.9618e-03, -4.2878e-02,  6.5766e-02, -1.2976e-01,  7.4048e-02]],\n",
            "\n",
            "         [[-8.1740e-02, -8.0127e-03, -1.6371e-04,  1.7730e-01,  1.3641e-01],\n",
            "          [ 1.0558e-01,  1.9557e-01,  7.4425e-02,  1.3385e-01,  1.8944e-01],\n",
            "          [ 1.3560e-01,  1.0794e-02, -4.0664e-02, -7.3590e-02,  9.1475e-02],\n",
            "          [ 5.0268e-02, -5.9560e-02, -1.7722e-02, -4.7132e-03, -1.1447e-01],\n",
            "          [ 5.3943e-02, -3.7619e-03, -7.2545e-02,  1.8027e-02, -1.1193e-01]],\n",
            "\n",
            "         [[ 6.3022e-02,  3.3583e-02,  1.9227e-01,  1.1314e-01,  1.1276e-01],\n",
            "          [ 5.1970e-02,  7.9271e-03, -9.0562e-02, -3.2009e-02,  1.7578e-02],\n",
            "          [ 3.7957e-04,  8.1955e-03, -1.4134e-01, -1.4530e-02, -1.7223e-01],\n",
            "          [-1.0157e-01, -4.2704e-02, -1.4946e-01, -8.9795e-02, -9.6084e-02],\n",
            "          [-6.6672e-03,  1.2134e-01,  4.4068e-02,  2.0014e-02,  9.2972e-02]],\n",
            "\n",
            "         [[-7.0297e-02,  7.0724e-02, -1.6586e-02, -3.3185e-02,  8.4114e-03],\n",
            "          [-4.4071e-02, -3.9958e-02, -1.4564e-01, -1.0211e-01, -7.0262e-02],\n",
            "          [-1.2331e-01, -1.7767e-02, -1.5423e-01, -4.1545e-02, -1.3599e-01],\n",
            "          [-4.6668e-02, -5.4384e-02,  5.9238e-03,  3.6953e-02,  2.9266e-02],\n",
            "          [-5.5710e-02,  5.8382e-02,  9.1090e-02,  1.6209e-03,  1.0918e-01]],\n",
            "\n",
            "         [[ 5.1692e-02,  6.0189e-02,  1.0446e-01, -5.8611e-02,  7.0776e-02],\n",
            "          [ 7.5875e-03, -1.0779e-01, -2.3154e-02, -4.5209e-02, -9.9151e-02],\n",
            "          [-2.0913e-03, -1.3990e-01, -1.6214e-01, -7.9543e-02, -9.4372e-02],\n",
            "          [-6.3287e-02,  4.5309e-03, -4.9840e-02,  2.0209e-02, -1.0436e-02],\n",
            "          [-1.2053e-01, -1.3940e-02, -5.1174e-02, -5.6841e-02,  3.9023e-02]],\n",
            "\n",
            "         [[ 1.7610e-01,  2.7427e-01,  2.4634e-01,  1.0802e-01,  1.3970e-01],\n",
            "          [ 2.3843e-01,  1.0369e-01,  9.4367e-03,  7.1951e-02,  3.9305e-02],\n",
            "          [ 5.0016e-03, -1.9168e-03, -8.6810e-02, -1.5472e-01, -1.7431e-01],\n",
            "          [ 2.7030e-02, -3.5154e-02, -1.3309e-01, -1.4926e-01, -2.1413e-01],\n",
            "          [-1.1658e-01, -6.0071e-02, -1.2923e-01, -1.3680e-01, -9.6769e-02]]],\n",
            "\n",
            "\n",
            "        [[[-1.8548e-01,  1.1301e-01, -6.9186e-02, -3.7546e-02, -1.5273e-01],\n",
            "          [ 1.6036e-01,  1.3575e-01,  8.3011e-02,  1.2657e-02, -3.4382e-02],\n",
            "          [ 2.3387e-01,  1.0351e-01,  6.5495e-02,  3.8001e-02, -2.0024e-02],\n",
            "          [ 2.5343e-01,  9.6401e-02,  8.2636e-02, -7.0881e-02, -4.6175e-02],\n",
            "          [ 1.6627e-01,  1.0029e-01,  2.2761e-01,  4.9816e-02,  4.3565e-02]],\n",
            "\n",
            "         [[ 1.8067e-01,  1.5855e-01, -6.0272e-02, -5.7723e-02, -7.8455e-02],\n",
            "          [ 1.0616e-01, -2.5189e-02,  2.7831e-02, -1.1676e-01, -9.5330e-03],\n",
            "          [ 1.2137e-01,  4.4533e-02, -1.2042e-01, -2.4921e-01, -3.4545e-02],\n",
            "          [ 9.7862e-02, -4.3953e-02, -6.2487e-02, -7.7599e-02, -8.2191e-02],\n",
            "          [-6.0115e-02, -3.6597e-02, -9.8419e-02, -1.1005e-01, -7.4824e-02]],\n",
            "\n",
            "         [[ 2.0027e-01,  6.1572e-02, -1.9697e-01, -7.3012e-02, -4.8073e-02],\n",
            "          [ 3.0851e-01, -1.3752e-02, -2.5657e-01, -2.6438e-01, -3.7604e-02],\n",
            "          [ 4.0724e-01, -1.7143e-02, -1.2855e-01, -2.4969e-01, -7.8069e-02],\n",
            "          [ 2.9750e-01,  4.0422e-02, -1.0420e-01, -1.7939e-01, -1.7658e-01],\n",
            "          [ 2.5891e-01,  6.7505e-02, -1.5346e-01, -1.9217e-01, -1.9843e-01]],\n",
            "\n",
            "         [[-9.9432e-02, -2.2400e-02, -1.8694e-02,  1.5246e-01,  1.6066e-01],\n",
            "          [ 2.8652e-03,  5.0268e-02,  8.6745e-02, -6.1572e-02,  6.8715e-02],\n",
            "          [ 1.6147e-01,  7.2803e-02, -1.1898e-01, -1.2532e-01, -1.3517e-01],\n",
            "          [ 1.8813e-01, -4.3479e-02, -1.2020e-01, -1.2828e-01, -1.5814e-01],\n",
            "          [ 1.4487e-01, -3.0250e-02, -5.3712e-02, -3.5128e-02, -1.3165e-01]],\n",
            "\n",
            "         [[ 5.2617e-02, -4.5773e-03, -2.4838e-02, -1.4029e-01, -1.6747e-01],\n",
            "          [ 3.8473e-02,  9.4688e-02, -6.1007e-03, -1.8986e-02, -1.1327e-01],\n",
            "          [ 9.6618e-03,  1.0945e-01, -4.5307e-02,  2.5584e-02, -2.0712e-01],\n",
            "          [-8.3651e-02, -3.7246e-03,  5.1522e-02, -4.0211e-02, -1.4004e-01],\n",
            "          [-8.6259e-02, -1.1985e-01, -1.4530e-02,  7.9077e-02, -1.3039e-01]],\n",
            "\n",
            "         [[ 5.5534e-02, -4.6630e-02, -6.3335e-02, -8.8836e-02, -2.1573e-02],\n",
            "          [-1.2792e-02,  1.0221e-02, -4.0055e-02, -5.3113e-02, -2.7065e-02],\n",
            "          [-7.9808e-02,  7.8423e-03,  2.5348e-04, -8.1299e-02, -2.9383e-02],\n",
            "          [-1.0494e-01, -6.1234e-02, -1.2298e-01,  2.2970e-02,  2.5959e-02],\n",
            "          [-1.3301e-02, -4.9189e-02, -3.4351e-02,  1.3625e-02,  1.2156e-01]]],\n",
            "\n",
            "\n",
            "        ...,\n",
            "\n",
            "\n",
            "        [[[-5.0286e-02, -6.9062e-02, -5.4565e-02, -7.5572e-02, -8.0096e-02],\n",
            "          [-7.4546e-02, -2.2941e-02,  4.6634e-03, -1.6213e-01, -1.9585e-01],\n",
            "          [-7.9148e-02,  6.2472e-03, -1.3797e-02, -2.8951e-01, -2.9015e-01],\n",
            "          [-9.1715e-02,  9.1229e-02, -4.8388e-02, -2.7821e-01, -1.7788e-01],\n",
            "          [ 2.8629e-02, -6.0531e-02, -1.1419e-01, -1.3360e-01, -6.8398e-02]],\n",
            "\n",
            "         [[ 4.4645e-02, -1.0160e-01, -9.8055e-02, -4.0724e-02,  1.8674e-02],\n",
            "          [-3.1067e-02, -6.0474e-02, -3.7932e-02, -5.3573e-02,  3.0411e-02],\n",
            "          [-8.5277e-02, -6.0168e-02, -1.8235e-01, -2.0090e-01, -1.7218e-04],\n",
            "          [-1.0754e-01, -1.6850e-01, -2.2350e-01, -1.3927e-01, -4.6107e-02],\n",
            "          [-1.5802e-01, -1.3107e-01, -9.8950e-02, -2.4905e-02,  2.6582e-02]],\n",
            "\n",
            "         [[ 1.0157e-01,  4.3185e-02,  5.7067e-02,  6.9655e-02,  1.2615e-01],\n",
            "          [ 2.0252e-02, -1.5137e-02, -1.0210e-01, -5.7019e-02,  2.0572e-02],\n",
            "          [-8.1816e-02, -1.8104e-01, -1.1321e-01, -6.9880e-02, -4.2946e-02],\n",
            "          [ 4.9626e-02, -1.4868e-01, -1.2004e-01, -1.7426e-01,  1.6431e-02],\n",
            "          [ 7.4776e-02, -1.5000e-02, -3.5266e-02, -1.9229e-02, -7.6648e-02]],\n",
            "\n",
            "         [[-2.5919e-02, -5.9261e-02,  5.9021e-02,  1.2041e-01,  1.9685e-01],\n",
            "          [-3.0694e-02, -7.8778e-02,  2.4430e-02,  1.8666e-01,  2.0571e-01],\n",
            "          [-1.3112e-02,  2.5531e-02,  4.6977e-02,  1.1893e-01,  4.9033e-02],\n",
            "          [-4.9180e-02,  1.1279e-01,  1.0727e-01, -1.1576e-01, -1.2500e-01],\n",
            "          [ 1.2254e-01,  7.0981e-02, -6.1925e-02, -2.3168e-01, -8.2226e-02]],\n",
            "\n",
            "         [[-1.5592e-01, -3.9893e-02,  1.2892e-01,  7.4236e-02,  3.8110e-02],\n",
            "          [-1.1119e-01, -8.0266e-02, -8.2501e-02,  2.3584e-02,  1.3578e-01],\n",
            "          [-6.9811e-02, -1.6371e-01, -2.5224e-02, -2.0114e-02,  1.9558e-01],\n",
            "          [-6.9696e-03, -1.5462e-01,  7.4923e-02,  1.1618e-01,  1.6083e-01],\n",
            "          [-5.9665e-02, -1.3962e-01,  1.3020e-01,  2.0305e-01,  2.2842e-01]],\n",
            "\n",
            "         [[-9.7402e-03,  1.4186e-02,  1.6478e-01,  1.1288e-01, -3.8515e-02],\n",
            "          [-1.0198e-01, -8.0134e-02,  1.3007e-01,  1.6373e-01, -3.0413e-02],\n",
            "          [-6.1044e-02, -5.5748e-02,  2.6012e-02,  1.7726e-01,  9.3567e-02],\n",
            "          [-1.0403e-01, -1.5149e-02, -1.7008e-02,  1.8421e-01,  1.1839e-01],\n",
            "          [-6.6008e-02,  4.4593e-02,  7.8738e-02,  1.4496e-01,  3.7363e-02]]],\n",
            "\n",
            "\n",
            "        [[[ 5.1740e-02,  1.6294e-01,  1.8253e-01, -1.1085e-01,  1.0935e-01],\n",
            "          [-8.5017e-02,  2.2208e-01,  1.3737e-02, -1.8869e-01,  1.8493e-01],\n",
            "          [-2.2848e-01,  1.9901e-01, -1.2631e-01, -3.8675e-01,  6.5925e-02],\n",
            "          [-1.4406e-01,  1.1708e-01, -1.6380e-01, -3.2004e-01, -5.4152e-02],\n",
            "          [ 3.7296e-02,  1.2894e-01, -6.9114e-02, -1.7845e-01, -1.7373e-01]],\n",
            "\n",
            "         [[ 9.8174e-02,  4.5244e-02, -1.3841e-02,  1.1891e-01,  1.1459e-01],\n",
            "          [ 1.2660e-02, -9.3572e-02, -6.6495e-02,  6.3464e-02, -1.6754e-02],\n",
            "          [-3.4179e-02, -1.3035e-01, -2.6713e-01,  8.8341e-03, -1.1130e-01],\n",
            "          [-5.2103e-02, -1.1426e-01, -1.2063e-01, -2.7845e-03, -6.1329e-02],\n",
            "          [ 9.8480e-02, -8.4013e-02,  2.2399e-02,  9.5436e-02,  1.7662e-02]],\n",
            "\n",
            "         [[ 5.0793e-02,  5.1292e-02,  1.1775e-01,  8.7556e-02,  5.5498e-02],\n",
            "          [ 1.3711e-01,  1.5356e-01,  2.0210e-01,  1.2751e-01,  4.1052e-02],\n",
            "          [ 1.0163e-01,  6.0012e-02, -3.4763e-02, -4.9917e-02, -1.4883e-01],\n",
            "          [-1.2347e-01, -1.1212e-01, -1.3559e-01, -1.3790e-01, -1.5268e-01],\n",
            "          [-1.2031e-01, -8.9412e-02, -1.0055e-01, -1.7706e-01, -2.5928e-01]],\n",
            "\n",
            "         [[ 1.2517e-01,  2.9991e-02,  7.1799e-02,  1.8749e-01,  7.9083e-02],\n",
            "          [ 1.6968e-01,  6.4893e-02,  8.9122e-02,  1.8243e-01,  2.3981e-01],\n",
            "          [-1.0067e-01, -9.9438e-02,  6.0518e-03,  3.8317e-02, -3.3749e-02],\n",
            "          [-1.3448e-01, -6.7346e-02, -1.1789e-01, -7.4876e-02, -2.9901e-02],\n",
            "          [-4.5170e-03, -5.5529e-04,  3.4119e-02,  9.2546e-02,  1.4781e-01]],\n",
            "\n",
            "         [[ 1.3295e-01, -4.3609e-02, -3.2331e-01,  2.7051e-01,  3.8668e-02],\n",
            "          [ 1.4569e-01, -1.6122e-02, -3.4052e-01,  3.2896e-01,  9.2718e-02],\n",
            "          [ 2.2106e-01, -1.0648e-01, -3.3589e-01,  1.8666e-01,  2.6540e-02],\n",
            "          [ 2.1139e-01, -5.6691e-02, -2.8800e-01, -8.5279e-02,  7.6540e-02],\n",
            "          [ 1.0009e-01, -1.5001e-01, -2.0966e-01, -1.0898e-01,  1.5132e-02]],\n",
            "\n",
            "         [[-9.1584e-02, -3.5080e-02, -7.6009e-02,  1.9040e-02,  1.3429e-01],\n",
            "          [-6.7477e-02, -1.1986e-01,  8.3259e-02,  1.1236e-01,  3.8944e-02],\n",
            "          [-1.0007e-02,  1.4826e-02,  6.6357e-02,  7.8172e-02, -1.8493e-02],\n",
            "          [-1.1951e-01, -1.1945e-01, -9.6607e-03,  2.8270e-02, -4.9020e-02],\n",
            "          [-2.5216e-01, -1.9299e-01, -1.6636e-01, -1.3536e-01, -1.3759e-01]]],\n",
            "\n",
            "\n",
            "        [[[ 4.0023e-01,  3.8827e-02,  3.1707e-01,  4.0006e-01,  2.4410e-01],\n",
            "          [-2.1363e-01,  2.5749e-01,  2.3409e-01, -1.5695e-01, -2.0702e-01],\n",
            "          [ 6.6725e-02,  6.3789e-02, -3.5596e-01, -2.8630e-02,  7.6822e-02],\n",
            "          [-2.5701e-02, -4.3542e-01, -1.0881e-01,  8.3703e-02,  5.2252e-02],\n",
            "          [-1.9240e-01, -2.7153e-01, -1.4670e-01, -1.2619e-01, -1.9571e-01]],\n",
            "\n",
            "         [[-6.7453e-02, -1.3940e-02,  1.8561e-01,  1.6658e-01, -2.0149e-02],\n",
            "          [ 2.5979e-02,  1.9465e-01,  1.2740e-01, -1.5193e-01, -1.9475e-02],\n",
            "          [ 1.5056e-01, -7.6319e-02, -8.2871e-02,  2.4372e-01,  2.8340e-01],\n",
            "          [-1.0039e-01, -9.5194e-03,  1.3270e-01,  1.3759e-01, -1.0116e-01],\n",
            "          [-6.7662e-02,  6.0175e-02,  1.8377e-02, -1.0148e-01, -3.3764e-02]],\n",
            "\n",
            "         [[-1.0264e-02,  1.1070e-01, -6.5284e-02, -1.1121e-01, -1.8019e-01],\n",
            "          [-8.0583e-02,  2.0295e-03, -5.0600e-02,  1.0789e-01,  9.9409e-02],\n",
            "          [-2.1697e-01, -2.3529e-03,  1.3492e-01,  1.2185e-02,  1.2047e-01],\n",
            "          [ 1.4014e-02, -7.7139e-02, -7.2677e-02,  2.1621e-02,  1.0243e-01],\n",
            "          [-1.1165e-01,  4.2774e-02,  2.9446e-02,  1.0691e-02, -7.0792e-02]],\n",
            "\n",
            "         [[ 2.2967e-02,  6.5812e-02, -3.9020e-02,  1.0635e-02,  1.4300e-01],\n",
            "          [-2.8453e-04, -2.1895e-02,  1.1386e-01,  9.3191e-02,  3.2910e-02],\n",
            "          [ 2.0332e-03,  2.0683e-01,  2.9343e-02, -1.1410e-01, -9.3699e-02],\n",
            "          [-5.7122e-03,  6.7608e-02, -9.9235e-02, -1.0980e-03,  1.5693e-01],\n",
            "          [-7.1070e-02, -1.0178e-01,  1.3951e-01,  1.5470e-01, -2.3356e-02]],\n",
            "\n",
            "         [[-8.0978e-02,  1.0588e-01,  8.8412e-02, -1.0295e-01, -7.1793e-03],\n",
            "          [ 4.7154e-02, -1.9618e-01, -2.2572e-01, -1.3338e-01,  2.9564e-04],\n",
            "          [ 5.4169e-02, -1.4121e-01, -8.0746e-02,  2.0391e-02, -1.3180e-01],\n",
            "          [-1.3800e-01,  1.8350e-03,  6.0916e-03, -1.1848e-01, -1.9393e-01],\n",
            "          [ 1.9928e-02,  3.0300e-02, -2.6403e-02, -9.0950e-02, -6.3885e-02]],\n",
            "\n",
            "         [[-6.5859e-02, -2.0777e-02, -1.0537e-01, -1.9162e-01, -1.8705e-01],\n",
            "          [ 5.4580e-02, -3.5170e-02,  2.4282e-02, -2.1065e-02, -2.0575e-02],\n",
            "          [-1.2683e-02, -8.1375e-02, -8.1938e-02,  3.7379e-02,  1.2895e-01],\n",
            "          [-5.5967e-02,  5.6941e-02,  1.1316e-03,  3.8219e-02,  9.2778e-02],\n",
            "          [ 1.5480e-01,  1.2791e-01,  8.3765e-02,  5.3783e-02,  4.2040e-02]]]])), ('conv2.bias', tensor([-0.3752, -0.1205,  0.3229, -0.2819, -0.6599,  0.2202,  0.8010,  0.2393,\n",
            "         0.1745,  0.0215, -0.1628, -0.4106,  0.8301,  0.1425, -0.5270,  0.1316])), ('fc1.weight', tensor([[ 0.0356,  0.0173,  0.0537,  ...,  0.0763,  0.0664,  0.0357],\n",
            "        [-0.0802, -0.0090,  0.0742,  ...,  0.0090,  0.0111,  0.0285],\n",
            "        [-0.0377, -0.0077, -0.0067,  ...,  0.0815,  0.1025,  0.0729],\n",
            "        ...,\n",
            "        [-0.0012, -0.0557, -0.1136,  ...,  0.0824,  0.0203,  0.0110],\n",
            "        [ 0.0261,  0.0727,  0.0047,  ..., -0.0580, -0.0580, -0.0476],\n",
            "        [-0.0047, -0.0506,  0.0450,  ...,  0.0476, -0.0156,  0.0182]])), ('fc1.bias', tensor([-0.0392, -0.0298, -0.0560,  0.0616,  0.0311, -0.0368, -0.0156,  0.0893,\n",
            "         0.1105,  0.0667,  0.0186,  0.0464,  0.0594,  0.0406,  0.1146,  0.0184,\n",
            "         0.0252,  0.1124,  0.0115, -0.0417, -0.0749,  0.0704,  0.0162, -0.1844,\n",
            "        -0.0037, -0.0271, -0.0089,  0.0139, -0.0288, -0.0323,  0.0437, -0.0525,\n",
            "         0.0857, -0.0590,  0.0488,  0.1859,  0.0915,  0.0306, -0.0317,  0.0678,\n",
            "        -0.0382,  0.0211,  0.1177, -0.0080, -0.1651,  0.0993,  0.0063,  0.0356,\n",
            "         0.0143, -0.0180,  0.0804,  0.1711, -0.0199,  0.0207,  0.0686, -0.0086,\n",
            "        -0.0176, -0.0375,  0.0202,  0.0380,  0.0738, -0.0083,  0.0159,  0.0695,\n",
            "        -0.0091, -0.0561,  0.1562,  0.0056,  0.1412, -0.0106, -0.0157,  0.0121,\n",
            "        -0.0281, -0.0011, -0.0355, -0.0346,  0.0589,  0.1473,  0.0362,  0.1774,\n",
            "         0.0235,  0.1625, -0.0943, -0.0156,  0.0885,  0.1418,  0.1122, -0.0538,\n",
            "        -0.0478, -0.0392, -0.0402, -0.1828, -0.0110,  0.0031, -0.0231, -0.0860,\n",
            "        -0.0482, -0.0442, -0.0511, -0.0303,  0.0303,  0.0265,  0.0348,  0.0773,\n",
            "         0.0079,  0.1177,  0.0612,  0.0594,  0.0774, -0.0256,  0.0675, -0.0477,\n",
            "        -0.0785,  0.0124, -0.0155,  0.0991,  0.0438,  0.1458,  0.1233, -0.0938])), ('fc2.weight', tensor([[-0.0711,  0.0109, -0.1436,  ...,  0.0327,  0.0509, -0.0362],\n",
            "        [-0.0050, -0.1085,  0.0730,  ..., -0.0744, -0.0392, -0.0784],\n",
            "        [ 0.0283, -0.1352,  0.1468,  ...,  0.0587,  0.0239, -0.1001],\n",
            "        ...,\n",
            "        [-0.0700,  0.0983, -0.0677,  ...,  0.0275, -0.0307,  0.0219],\n",
            "        [-0.0062, -0.0466,  0.0882,  ..., -0.0703, -0.0181,  0.0191],\n",
            "        [ 0.0585,  0.0637, -0.0267,  ...,  0.0193,  0.0395, -0.0664]])), ('fc2.bias', tensor([ 0.2463, -0.0411,  0.0076,  0.0488, -0.0651, -0.0710,  0.1863, -0.0655,\n",
            "         0.0222, -0.0720,  0.1555, -0.0043,  0.0250,  0.0101,  0.0150,  0.0518,\n",
            "        -0.0876,  0.0100,  0.1738, -0.0542,  0.1862,  0.1879, -0.0575,  0.4014,\n",
            "         0.2788,  0.0329,  0.3223,  0.2101,  0.1711,  0.0764, -0.0485,  0.0611,\n",
            "        -0.0775,  0.2593, -0.0646,  0.0991, -0.0533,  0.0644,  0.0451, -0.0848,\n",
            "         0.0729,  0.2045,  0.0104, -0.0571, -0.0829,  0.0383,  0.0029,  0.0255,\n",
            "         0.1947,  0.0544,  0.0382,  0.2707,  0.5156, -0.0534,  0.0498, -0.0178,\n",
            "         0.1605, -0.0074,  0.0807, -0.0105, -0.0551, -0.0499, -0.0527, -0.0269,\n",
            "         0.4080, -0.0759,  0.0213, -0.0068,  0.0740, -0.0656,  0.0137, -0.1981,\n",
            "         0.0443, -0.0045, -0.0705,  0.0860,  0.0749,  0.1894, -0.0448,  0.0357,\n",
            "        -0.0443, -0.0507, -0.0857,  0.1279])), ('fc3.weight', tensor([[-2.7252e-02,  2.1944e-02, -1.5163e-01,  1.3046e-01,  6.0045e-02,\n",
            "          5.3310e-02,  2.2719e-01, -1.5399e-02, -1.3548e-01, -7.7038e-02,\n",
            "          3.0522e-01, -1.5942e-01,  3.1605e-02, -1.0721e-01, -8.0943e-02,\n",
            "         -1.1819e-01,  8.3404e-03, -8.2207e-02,  2.9387e-02, -5.7834e-03,\n",
            "         -3.6474e-02,  1.8570e-01, -4.1844e-02, -1.9908e-01,  9.1464e-02,\n",
            "          1.8655e-01, -2.6733e-01, -4.4969e-02, -1.5979e-01,  2.9781e-02,\n",
            "         -3.7459e-02,  7.4250e-02,  2.5798e-02, -8.7602e-02, -1.0469e-01,\n",
            "          1.3073e-01,  2.0289e-01,  1.7521e-02,  3.0821e-02,  4.1886e-02,\n",
            "          1.9404e-01, -1.5703e-01,  5.2702e-03,  6.9929e-02,  2.3661e-01,\n",
            "         -9.6453e-02, -2.2335e-04, -3.7182e-02,  8.2592e-02, -2.7708e-01,\n",
            "          6.5000e-02, -1.8382e-01, -1.7300e-01, -1.2285e-02,  1.0597e-01,\n",
            "          7.1495e-02,  2.6446e-01,  2.4575e-01, -1.6266e-02, -1.5125e-01,\n",
            "         -8.4550e-02,  3.5024e-02, -1.4623e-02, -1.0594e-01,  7.2900e-02,\n",
            "          3.1216e-02, -5.4924e-02,  6.1570e-02, -7.1372e-02, -2.5948e-02,\n",
            "          1.5672e-01,  7.9939e-02, -1.2123e-01,  4.9725e-03,  3.0693e-02,\n",
            "          1.3874e-01,  2.3676e-01,  1.4938e-01, -2.5558e-01,  2.1375e-01,\n",
            "          1.3844e-01, -1.0727e-03,  4.9910e-02,  1.8735e-02],\n",
            "        [-2.4916e-01,  1.7713e-01,  1.7612e-01, -2.6676e-01, -9.6214e-02,\n",
            "          2.7798e-02,  5.9676e-02, -5.9014e-02,  2.4285e-01,  1.2226e-01,\n",
            "         -1.7992e-02,  1.9547e-01, -1.2417e-01, -1.3575e-02, -5.8570e-02,\n",
            "          7.2150e-02, -2.5353e-02, -6.4421e-02,  1.4852e-01,  8.7209e-02,\n",
            "          4.5944e-02, -9.2253e-02,  1.8440e-02, -1.9970e-01, -1.9887e-01,\n",
            "         -1.5203e-01, -1.8806e-01, -7.1552e-02, -3.2365e-01,  2.0420e-01,\n",
            "          1.0194e-01,  1.3219e-01, -1.1999e-02, -1.1518e-01,  6.9681e-02,\n",
            "         -4.5765e-02,  2.5169e-01,  8.8782e-02, -1.6857e-01, -5.2425e-02,\n",
            "         -5.1601e-02,  4.2835e-02, -2.6739e-02, -2.5356e-02,  2.0506e-01,\n",
            "          8.5012e-02,  4.2495e-02, -1.0815e-01,  5.0239e-03, -2.5777e-01,\n",
            "         -4.6428e-03, -9.3094e-02, -2.6049e-01,  1.4863e-02,  1.9655e-01,\n",
            "          2.4767e-02,  6.8042e-02, -7.9482e-02, -9.8040e-02,  1.5146e-01,\n",
            "         -2.6386e-02,  3.0577e-01,  8.3954e-02, -5.9024e-02, -3.6107e-01,\n",
            "          2.9117e-02,  7.8337e-02,  4.8919e-02,  1.8677e-02,  5.4970e-02,\n",
            "          4.7381e-02, -9.0484e-02,  1.1251e-01,  2.7205e-01, -2.6840e-02,\n",
            "         -4.5549e-02,  1.5057e-01,  1.5210e-01,  1.5504e-01, -1.1662e-01,\n",
            "         -1.6811e-01,  6.3190e-02,  3.1638e-01,  2.8017e-03],\n",
            "        [ 1.4549e-01, -1.9804e-02, -8.3715e-03,  2.5557e-01,  4.3959e-02,\n",
            "         -5.3036e-02,  2.0908e-01, -5.8546e-02,  5.0180e-02,  1.3739e-01,\n",
            "          1.8204e-01, -7.5372e-02, -3.9343e-02, -4.4500e-02, -8.0541e-02,\n",
            "          4.6467e-02,  7.0473e-02,  1.1718e-01, -7.0723e-02, -4.9013e-02,\n",
            "         -6.4117e-02,  2.0676e-02,  1.1525e-01, -6.9601e-02,  1.6487e-01,\n",
            "          1.8783e-01,  1.7916e-01,  4.0510e-02, -9.1338e-03, -1.7045e-01,\n",
            "         -3.8716e-02, -2.6284e-02, -4.0863e-02,  3.4287e-02, -8.0024e-02,\n",
            "         -1.7169e-02, -1.7370e-01,  1.0470e-01,  2.4805e-01, -6.6017e-02,\n",
            "         -1.2704e-01,  3.2747e-02,  3.5162e-02, -5.6410e-02, -9.3934e-02,\n",
            "          8.8732e-02, -9.3170e-02, -2.9580e-02, -1.8137e-01, -8.0453e-02,\n",
            "         -1.8559e-02,  1.4663e-01,  2.0595e-01, -7.8195e-02, -2.9553e-01,\n",
            "         -5.4643e-02, -1.4830e-01,  3.2167e-03, -6.0699e-03,  1.0146e-01,\n",
            "         -6.2217e-02, -2.2562e-01, -6.5150e-02, -1.3568e-01,  3.7127e-01,\n",
            "          9.3530e-02,  2.0017e-01,  5.4812e-02,  1.1262e-01, -5.9251e-02,\n",
            "         -2.7465e-02, -1.4805e-01, -8.6642e-02, -2.8793e-02, -2.6194e-02,\n",
            "         -4.3950e-02,  1.7579e-02,  8.1891e-02, -8.3196e-02,  1.4249e-01,\n",
            "          7.4583e-02, -2.6623e-02,  2.8551e-02,  9.4143e-02],\n",
            "        [ 2.0660e-02, -5.5625e-03,  4.1230e-02,  4.4332e-03, -4.9402e-02,\n",
            "         -2.5394e-02,  2.3847e-03,  1.0617e-01, -1.5842e-02,  6.2303e-02,\n",
            "         -1.2391e-01, -1.4741e-01, -1.5502e-02, -2.1019e-02, -3.1650e-02,\n",
            "          2.4273e-01,  8.4209e-02, -1.2466e-01, -2.1477e-02,  9.2239e-02,\n",
            "          2.2866e-01, -1.7421e-01, -1.3664e-02,  1.7937e-02, -1.4765e-02,\n",
            "         -1.4035e-01,  2.4262e-01,  1.8094e-01,  1.9723e-01, -1.3366e-01,\n",
            "          7.5098e-02, -1.9050e-01,  1.4380e-01,  2.7395e-01, -5.0156e-02,\n",
            "          2.8419e-02, -9.7190e-02, -4.3476e-02,  4.0964e-02,  9.8036e-02,\n",
            "          1.2523e-01,  3.1366e-02, -2.6123e-02, -5.5592e-02, -1.1594e-01,\n",
            "         -7.5656e-02,  1.9140e-01, -4.6584e-02, -1.1758e-01,  9.3958e-02,\n",
            "         -2.9291e-02,  1.9062e-01,  1.0265e-01,  3.7905e-02, -2.1835e-01,\n",
            "         -9.6047e-02,  9.7137e-03,  3.6457e-02,  2.1209e-02, -1.9201e-02,\n",
            "          5.6959e-02, -1.9196e-02, -2.1531e-01, -5.8428e-02,  4.5844e-02,\n",
            "         -1.9957e-02, -1.2344e-01,  1.6682e-02, -8.5007e-02,  1.9594e-02,\n",
            "         -7.1996e-02,  1.3054e-01,  1.7739e-01, -1.3729e-01, -5.6323e-03,\n",
            "          4.5092e-03, -2.3327e-01, -6.9824e-02, -4.2153e-03,  8.7984e-02,\n",
            "          9.1517e-02,  3.2547e-02,  6.9661e-03,  1.1376e-01],\n",
            "        [ 1.8499e-01, -2.1183e-01, -1.5817e-01, -7.4020e-02, -1.1560e-01,\n",
            "         -8.2965e-02,  1.6589e-01,  2.0065e-02,  9.5141e-02, -1.3587e-01,\n",
            "         -9.7461e-02, -2.1636e-02,  2.8104e-01,  3.2951e-02,  2.1875e-02,\n",
            "         -1.9962e-01, -8.7328e-02, -3.5044e-02,  7.9759e-02,  1.0284e-01,\n",
            "         -1.0862e-01,  1.3732e-02, -1.6722e-01,  3.7542e-01, -6.9703e-02,\n",
            "          1.0086e-01,  2.5871e-01,  1.9519e-01, -1.3450e-01, -5.3057e-02,\n",
            "          7.3453e-02, -1.8218e-02,  1.1114e-01,  1.3271e-01,  1.0103e-01,\n",
            "         -1.3782e-01, -3.1590e-01, -3.8464e-05, -2.9101e-01, -1.1207e-01,\n",
            "          8.2825e-02,  2.2304e-01,  1.1110e-03,  8.0374e-02,  1.0752e-01,\n",
            "         -8.0777e-02,  6.9367e-03,  1.9878e-02,  1.4065e-01,  9.2756e-02,\n",
            "          5.5358e-02,  2.4837e-01,  2.2072e-01, -7.6721e-02, -9.5163e-02,\n",
            "         -5.9588e-02, -1.5384e-01,  2.0722e-02,  1.3897e-02, -6.8490e-02,\n",
            "         -1.3864e-02, -2.4997e-01,  7.4892e-02, -9.1926e-02,  2.5481e-01,\n",
            "         -1.0330e-01,  3.2715e-02, -1.7937e-01,  4.3971e-02, -1.4543e-02,\n",
            "          7.0363e-02, -1.4646e-01, -1.4883e-01, -1.2086e-01, -1.6584e-02,\n",
            "          2.5488e-02,  3.3089e-02,  1.5639e-01, -1.4161e-01, -2.3603e-01,\n",
            "          2.2603e-02, -1.2810e-01, -1.9526e-01,  9.7581e-03],\n",
            "        [-7.3600e-02, -1.7977e-02,  6.7222e-02,  3.1187e-01, -6.7253e-02,\n",
            "         -7.9111e-02, -5.5447e-03,  9.7460e-02,  5.3637e-02, -8.5868e-02,\n",
            "         -1.5300e-01, -8.2231e-02, -7.5415e-02, -7.4860e-02,  5.1795e-02,\n",
            "          3.1953e-02,  3.1392e-02,  1.0467e-01, -4.5691e-02, -2.6500e-05,\n",
            "          1.7643e-01, -1.8977e-01, -2.7472e-02,  1.4083e-01, -3.4346e-02,\n",
            "          1.0738e-01,  2.7220e-01, -5.7779e-02,  3.2554e-01, -1.1799e-01,\n",
            "          5.0354e-02, -2.1888e-01,  5.5258e-02,  3.4468e-01,  2.6897e-02,\n",
            "         -8.4968e-02,  4.8818e-02,  7.2414e-02,  4.4909e-02, -3.3301e-02,\n",
            "          1.2368e-02,  6.4729e-02,  6.6448e-02,  8.3382e-02, -7.2489e-02,\n",
            "          5.2186e-02,  6.1060e-02, -1.1098e-01, -1.5562e-01,  2.1073e-01,\n",
            "          3.7569e-02,  1.8994e-01,  8.1987e-03, -6.5779e-02, -1.3531e-01,\n",
            "         -7.7871e-02, -2.1048e-01, -6.0622e-02, -7.9512e-02, -5.0542e-02,\n",
            "         -2.3052e-02, -2.0275e-01, -1.1474e-01,  1.2279e-01,  1.5527e-02,\n",
            "          1.2221e-01, -1.1338e-01,  1.1230e-01, -6.4220e-02,  2.5969e-02,\n",
            "         -1.2477e-01,  1.0123e-01, -9.9912e-04, -1.3954e-01, -2.2158e-02,\n",
            "         -9.9091e-02, -2.7687e-01, -6.3511e-02,  3.1007e-02,  5.2570e-02,\n",
            "          1.4221e-01, -2.4368e-02,  7.6408e-04, -1.0401e-01],\n",
            "        [ 8.8512e-02,  1.0590e-01,  9.4061e-02, -1.5595e-01, -4.6005e-02,\n",
            "          5.9021e-03, -2.8935e-01, -8.8162e-02, -2.3703e-02, -5.0322e-02,\n",
            "          3.6178e-02,  7.1492e-02, -3.0293e-01,  7.1047e-02,  1.0005e-01,\n",
            "          2.5463e-01, -6.9832e-03,  1.9883e-02, -8.7405e-03, -3.0442e-02,\n",
            "         -1.9096e-01, -1.2288e-01,  2.8741e-02,  1.6951e-01,  5.8881e-02,\n",
            "          3.1274e-03, -9.7199e-02,  2.9921e-02,  1.0504e-01, -2.8351e-03,\n",
            "         -8.6973e-02, -2.3573e-01, -1.3867e-01,  1.2592e-01,  8.3657e-02,\n",
            "         -2.0744e-01, -3.8446e-01, -4.8275e-02, -3.0551e-02,  7.3845e-02,\n",
            "          2.1805e-01, -3.1120e-02, -1.0944e-01,  5.4173e-02, -2.0101e-02,\n",
            "         -6.6912e-02,  3.4270e-02, -2.5261e-01, -2.1662e-01, -2.1243e-02,\n",
            "         -9.6018e-02,  3.3153e-01,  5.4167e-01, -7.6751e-02,  9.2493e-02,\n",
            "         -2.8318e-02, -4.1508e-02, -2.3205e-02,  6.5247e-02,  1.0470e-01,\n",
            "          9.4565e-02, -5.1653e-02,  7.3846e-02,  1.5452e-01,  7.4103e-02,\n",
            "          8.6695e-02,  1.2073e-01,  1.7194e-02,  2.5854e-01, -1.0516e-01,\n",
            "         -6.6610e-02, -4.1346e-03, -1.8392e-02,  1.2933e-01,  3.5115e-03,\n",
            "         -3.0022e-02, -2.7042e-01,  3.0219e-01,  3.7517e-02,  1.0183e-01,\n",
            "         -2.0554e-01, -5.9993e-03, -2.8617e-02,  3.8376e-02],\n",
            "        [ 1.0517e-01, -9.4348e-02,  7.2595e-02,  7.7699e-02,  9.3093e-02,\n",
            "          1.5699e-02, -1.3767e-01, -8.0139e-02,  1.1298e-01,  3.1467e-05,\n",
            "         -2.9609e-01, -4.7091e-02,  2.9541e-01, -9.7675e-02, -1.8045e-02,\n",
            "         -1.3143e-01,  7.7210e-02, -9.3015e-03, -1.1520e-01,  5.2056e-02,\n",
            "         -1.8221e-01, -1.1172e-01,  9.1550e-02, -1.0844e-01, -7.7650e-02,\n",
            "          1.9107e-01,  2.3787e-01,  4.5305e-02,  1.1118e-01, -9.1634e-02,\n",
            "          9.6145e-02, -2.4996e-02,  5.3962e-02,  6.4216e-03,  1.0586e-01,\n",
            "         -1.4389e-01,  3.3544e-02,  2.5945e-02,  8.0237e-02,  8.2999e-02,\n",
            "         -1.2537e-01,  1.4211e-01, -8.0460e-03, -2.6321e-02, -1.8783e-01,\n",
            "         -5.9325e-02, -6.4686e-02,  2.9958e-01, -9.7494e-02,  2.7244e-01,\n",
            "         -9.4379e-02,  1.3358e-01, -1.2312e-01,  1.2188e-01,  1.0651e-01,\n",
            "          8.5478e-02, -2.3348e-01, -1.4229e-01, -8.6969e-02, -1.5737e-01,\n",
            "          8.0133e-03, -2.9337e-01,  3.1277e-01,  1.2478e-01, -9.1666e-02,\n",
            "          6.2607e-02, -2.1934e-02, -3.7827e-02, -1.5375e-01,  9.8548e-02,\n",
            "         -1.2839e-01,  2.9388e-01,  5.1406e-04, -1.1267e-01,  1.5500e-02,\n",
            "         -9.9318e-02,  8.8498e-02, -7.3974e-02, -4.5442e-02, -4.0087e-02,\n",
            "          2.5496e-01,  1.3938e-03,  3.3687e-02,  1.4918e-02],\n",
            "        [-2.2736e-03, -1.3116e-01, -1.6149e-01, -1.2755e-01,  4.0152e-02,\n",
            "          8.3906e-02, -8.9136e-02, -2.3446e-02, -1.5069e-01, -8.1465e-02,\n",
            "          2.4887e-01, -4.7820e-02, -1.7569e-01,  6.2880e-02, -7.8154e-02,\n",
            "          1.0768e-01,  8.8495e-02, -1.6948e-01,  2.4298e-01, -1.0518e-01,\n",
            "          2.6420e-01,  2.5198e-01, -9.7920e-02, -1.0527e-01,  3.4769e-01,\n",
            "         -2.1414e-01, -2.5279e-01,  4.8361e-02, -7.1750e-02,  1.8089e-01,\n",
            "          1.9377e-01,  1.8715e-01, -1.0100e-01, -2.1313e-01,  9.4450e-02,\n",
            "          1.5437e-01,  2.7410e-01, -2.1120e-02, -1.2837e-01,  2.7816e-02,\n",
            "         -2.5550e-01, -4.0375e-01, -7.2535e-02, -7.1104e-02, -3.8602e-02,\n",
            "         -9.0718e-02,  2.0657e-02,  6.1416e-02,  1.7068e-01,  9.3511e-02,\n",
            "         -6.3480e-02, -3.0320e-01, -3.1651e-01, -8.3525e-02, -4.5871e-02,\n",
            "         -5.8915e-02,  3.5870e-01, -9.6709e-02,  1.0767e-01, -6.1603e-02,\n",
            "          2.0195e-02,  8.5493e-02, -1.0363e-02,  6.6395e-02,  8.0576e-02,\n",
            "         -1.3109e-02, -2.1743e-02,  8.9993e-02, -1.8986e-01,  1.0583e-01,\n",
            "          5.7874e-02, -2.0123e-01,  1.5893e-01,  5.2246e-02, -5.3223e-02,\n",
            "          8.1255e-02,  9.3770e-02, -8.9704e-03, -2.6869e-01, -3.7844e-02,\n",
            "         -1.1979e-01, -8.0034e-02, -1.7245e-01, -5.6157e-02],\n",
            "        [-3.1328e-01,  2.1808e-01,  2.8990e-01, -2.8798e-01,  8.2183e-03,\n",
            "         -1.5704e-02, -1.6995e-01, -9.8794e-02, -4.8980e-02,  1.1028e-01,\n",
            "          7.7241e-02, -2.7772e-02,  9.7394e-03, -3.2242e-02, -3.1504e-02,\n",
            "          8.9884e-02,  7.9030e-02, -1.5144e-01, -1.7606e-02, -7.4986e-02,\n",
            "         -1.5353e-01,  9.0167e-02,  3.5999e-02, -2.4273e-01,  9.9510e-03,\n",
            "          6.9667e-02, -2.5352e-01, -7.0573e-02,  1.5000e-02,  8.4571e-02,\n",
            "         -3.8153e-02,  1.8801e-01,  1.3392e-01, -1.8563e-01,  3.0676e-02,\n",
            "          8.8729e-02,  1.6289e-01, -1.1132e-01,  2.0139e-01, -8.0702e-02,\n",
            "         -1.2586e-01,  7.9033e-03,  3.3702e-02,  6.3939e-02,  9.5948e-02,\n",
            "         -4.4719e-02, -1.1806e-01,  2.0026e-01,  2.1647e-01, -7.0810e-02,\n",
            "          1.1015e-02, -1.6422e-01, -2.2939e-01, -1.0158e-02,  1.3306e-01,\n",
            "          6.1715e-02,  5.9110e-02, -1.1831e-02,  6.2790e-02,  3.2962e-02,\n",
            "         -9.0497e-02,  2.9156e-01, -1.6214e-01,  4.8598e-02, -4.0217e-01,\n",
            "          8.6653e-02, -1.2166e-01, -6.7327e-02,  4.0125e-02, -6.3032e-02,\n",
            "          9.0979e-03,  9.7309e-02,  3.3812e-02,  9.2703e-02,  7.1351e-02,\n",
            "         -2.2454e-02,  2.5719e-03, -2.2071e-01,  1.0516e-01, -4.2500e-02,\n",
            "         -2.2587e-01, -5.0350e-02,  2.5477e-01, -5.9395e-02]])), ('fc3.bias', tensor([-0.2653, -0.4423,  0.2241,  0.3928,  0.6041, -0.0044,  0.0205, -0.2855,\n",
            "         0.3473, -0.2460]))])\n"
          ],
          "name": "stdout"
        }
      ]
    },
    {
      "cell_type": "markdown",
      "metadata": {
        "id": "fF5erlrtn_RN"
      },
      "source": [
        "See `here <https://pytorch.org/docs/stable/notes/serialization.html>`_\n",
        "for more details on saving PyTorch models.\n",
        "\n",
        "5. Test the network on the test data\n",
        "^^^^^^^^^^^^^^^^^^^^^^^^^^^^^^^^^^^^\n",
        "\n",
        "We have trained the network for 2 passes over the training dataset.\n",
        "But we need to check if the network has learnt anything at all.\n",
        "\n",
        "We will check this by predicting the class label that the neural network\n",
        "outputs, and checking it against the ground-truth. If the prediction is\n",
        "correct, we add the sample to the list of correct predictions.\n",
        "\n",
        "Okay, first step. Let us display an image from the test set to get familiar.\n",
        "\n"
      ]
    },
    {
      "cell_type": "code",
      "metadata": {
        "id": "CzDyu0tun_RN",
        "outputId": "2393642b-7082-4986-b41c-790d760a52aa",
        "colab": {
          "base_uri": "https://localhost:8080/",
          "height": 155
        }
      },
      "source": [
        "dataiter = iter(testloader)\n",
        "images, labels = dataiter.next()\n",
        "\n",
        "# print images\n",
        "imshow(torchvision.utils.make_grid(images))\n",
        "print('GroundTruth: ', ' '.join('%5s' % classes[labels[j]] for j in range(4)))"
      ],
      "execution_count": 10,
      "outputs": [
        {
          "output_type": "display_data",
          "data": {
            "image/png": "[encoded data removed]",
            "text/plain": [
              "<Figure size 432x288 with 1 Axes>"
            ]
          },
          "metadata": {
            "tags": [],
            "needs_background": "light"
          }
        },
        {
          "output_type": "stream",
          "text": [
            "GroundTruth:    cat  ship  ship plane\n"
          ],
          "name": "stdout"
        }
      ]
    },
    {
      "cell_type": "markdown",
      "metadata": {
        "id": "g5LmN23Xn_RP"
      },
      "source": [
        "Next, let's load back in our saved model (note: saving and re-loading the model\n",
        "wasn't necessary here, we only did it to illustrate how to do so):\n",
        "\n"
      ]
    },
    {
      "cell_type": "code",
      "metadata": {
        "id": "dd60G1pLn_RQ",
        "outputId": "47545bc6-f314-4416-de63-658396b29200",
        "colab": {
          "base_uri": "https://localhost:8080/",
          "height": 34
        }
      },
      "source": [
        "net = Net()\n",
        "net.load_state_dict(torch.load(PATH))"
      ],
      "execution_count": 11,
      "outputs": [
        {
          "output_type": "execute_result",
          "data": {
            "text/plain": [
              "<All keys matched successfully>"
            ]
          },
          "metadata": {
            "tags": []
          },
          "execution_count": 11
        }
      ]
    },
    {
      "cell_type": "markdown",
      "metadata": {
        "id": "mSTXZL7tn_RS"
      },
      "source": [
        "Okay, now let us see what the neural network thinks these examples above are:\n",
        "\n"
      ]
    },
    {
      "cell_type": "code",
      "metadata": {
        "id": "ku0yR04mn_RS"
      },
      "source": [
        "outputs = net(images)"
      ],
      "execution_count": 12,
      "outputs": []
    },
    {
      "cell_type": "markdown",
      "metadata": {
        "id": "rObJIb-vn_RV"
      },
      "source": [
        "The outputs are energies for the 10 classes.\n",
        "The higher the energy for a class, the more the network\n",
        "thinks that the image is of the particular class.\n",
        "So, let's get the index of the highest energy:\n",
        "\n"
      ]
    },
    {
      "cell_type": "code",
      "metadata": {
        "id": "ex61BMzBn_RV",
        "outputId": "a9643629-3fde-4ae4-828a-5bea0299a08d",
        "colab": {
          "base_uri": "https://localhost:8080/",
          "height": 34
        }
      },
      "source": [
        "_, predicted = torch.max(outputs, 1)\n",
        "\n",
        "print('Predicted: ', ' '.join('%5s' % classes[predicted[j]]\n",
        "                              for j in range(4)))"
      ],
      "execution_count": 13,
      "outputs": [
        {
          "output_type": "stream",
          "text": [
            "Predicted:    cat  ship  ship plane\n"
          ],
          "name": "stdout"
        }
      ]
    },
    {
      "cell_type": "markdown",
      "metadata": {
        "id": "CTJ2FMU7n_RX"
      },
      "source": [
        "The results seem pretty good.\n",
        "\n",
        "Let us look at how the network performs on the whole dataset.\n",
        "\n"
      ]
    },
    {
      "cell_type": "code",
      "metadata": {
        "id": "zWwFowuqn_RY",
        "outputId": "c1b3d566-e7e8-48cb-f889-021805778ae0",
        "colab": {
          "base_uri": "https://localhost:8080/",
          "height": 34
        }
      },
      "source": [
        "correct = 0\n",
        "total = 0\n",
        "with torch.no_grad():\n",
        "    for data in testloader:\n",
        "        images, labels = data\n",
        "        outputs = net(images)\n",
        "        _, predicted = torch.max(outputs.data, 1)\n",
        "        total += labels.size(0)\n",
        "        correct += (predicted == labels).sum().item()\n",
        "\n",
        "print('Accuracy of the network on the 10000 test images: %d %%' % (\n",
        "    100 * correct / total))"
      ],
      "execution_count": 14,
      "outputs": [
        {
          "output_type": "stream",
          "text": [
            "Accuracy of the network on the 10000 test images: 55 %\n"
          ],
          "name": "stdout"
        }
      ]
    },
    {
      "cell_type": "markdown",
      "metadata": {
        "id": "i0rW1z5vn_Rb"
      },
      "source": [
        "That looks way better than chance, which is 10% accuracy (randomly picking\n",
        "a class out of 10 classes).\n",
        "Seems like the network learnt something.\n",
        "\n",
        "Hmmm, what are the classes that performed well, and the classes that did\n",
        "not perform well:\n",
        "\n"
      ]
    },
    {
      "cell_type": "code",
      "metadata": {
        "id": "ic4lDnypn_Rb",
        "outputId": "d9aa3b26-d36d-498d-d957-defdb7bcbafb",
        "colab": {
          "base_uri": "https://localhost:8080/",
          "height": 187
        }
      },
      "source": [
        "class_correct = list(0. for i in range(10))\n",
        "class_total = list(0. for i in range(10))\n",
        "with torch.no_grad():\n",
        "    for data in testloader:\n",
        "        images, labels = data\n",
        "        outputs = net(images)\n",
        "        _, predicted = torch.max(outputs, 1)\n",
        "        c = (predicted == labels).squeeze()\n",
        "        for i in range(4):\n",
        "            label = labels[i]\n",
        "            class_correct[label] += c[i].item()\n",
        "            class_total[label] += 1\n",
        "\n",
        "\n",
        "for i in range(10):\n",
        "    print('Accuracy of %5s : %2d %%' % (\n",
        "        classes[i], 100 * class_correct[i] / class_total[i]))"
      ],
      "execution_count": 15,
      "outputs": [
        {
          "output_type": "stream",
          "text": [
            "Accuracy of plane : 61 %\n",
            "Accuracy of   car : 84 %\n",
            "Accuracy of  bird : 22 %\n",
            "Accuracy of   cat : 32 %\n",
            "Accuracy of  deer : 57 %\n",
            "Accuracy of   dog : 42 %\n",
            "Accuracy of  frog : 77 %\n",
            "Accuracy of horse : 61 %\n",
            "Accuracy of  ship : 72 %\n",
            "Accuracy of truck : 46 %\n"
          ],
          "name": "stdout"
        }
      ]
    },
    {
      "cell_type": "markdown",
      "metadata": {
        "id": "nns0xCecn_Rd"
      },
      "source": [
        "Okay, so what next?\n",
        "\n",
        "How do we run these neural networks on the GPU?\n",
        "\n",
        "Training on GPU\n",
        "----------------\n",
        "Just like how you transfer a Tensor onto the GPU, you transfer the neural\n",
        "net onto the GPU.\n",
        "\n",
        "Let's first define our device as the first visible cuda device if we have\n",
        "CUDA available:\n",
        "\n"
      ]
    },
    {
      "cell_type": "code",
      "metadata": {
        "id": "IIGAiPOHn_Re",
        "outputId": "ab16ac7f-de63-4748-b9a4-d7cbb23452b9",
        "colab": {
          "base_uri": "https://localhost:8080/",
          "height": 34
        }
      },
      "source": [
        "device = torch.device(\"cuda:0\" if torch.cuda.is_available() else \"cpu\")\n",
        "\n",
        "# Assuming that we are on a CUDA machine, this should print a CUDA device:\n",
        "\n",
        "print(device)"
      ],
      "execution_count": 16,
      "outputs": [
        {
          "output_type": "stream",
          "text": [
            "cuda:0\n"
          ],
          "name": "stdout"
        }
      ]
    },
    {
      "cell_type": "markdown",
      "metadata": {
        "id": "GmgcvdgVn_Rg"
      },
      "source": [
        "The rest of this section assumes that ``device`` is a CUDA device.\n",
        "\n",
        "Then these methods will recursively go over all modules and convert their\n",
        "parameters and buffers to CUDA tensors:\n",
        "\n",
        ".. code:: python\n",
        "\n",
        "    net.to(device)\n",
        "\n",
        "\n",
        "Remember that you will have to send the inputs and targets at every step\n",
        "to the GPU too:\n",
        "\n",
        ".. code:: python\n",
        "\n",
        "        inputs, labels = data[0].to(device), data[1].to(device)\n",
        "\n",
        "Why dont I notice MASSIVE speedup compared to CPU? Because your network\n",
        "is really small.\n",
        "\n",
        "**Exercise:** Try increasing the width of your network (argument 2 of\n",
        "the first ``nn.Conv2d``, and argument 1 of the second ``nn.Conv2d`` –\n",
        "they need to be the same number), see what kind of speedup you get.\n",
        "\n",
        "**Goals achieved**:\n",
        "\n",
        "- Understanding PyTorch's Tensor library and neural networks at a high level.\n",
        "- Train a small neural network to classify images\n",
        "\n",
        "Training on multiple GPUs\n",
        "-------------------------\n",
        "If you want to see even more MASSIVE speedup using all of your GPUs,\n",
        "please check out :doc:`data_parallel_tutorial`.\n",
        "\n",
        "Where do I go next?\n",
        "-------------------\n",
        "\n",
        "-  :doc:`Train neural nets to play video games </intermediate/reinforcement_q_learning>`\n",
        "-  `Train a state-of-the-art ResNet network on imagenet`_\n",
        "-  `Train a face generator using Generative Adversarial Networks`_\n",
        "-  `Train a word-level language model using Recurrent LSTM networks`_\n",
        "-  `More examples`_\n",
        "-  `More tutorials`_\n",
        "-  `Discuss PyTorch on the Forums`_\n",
        "-  `Chat with other users on Slack`_\n",
        "\n",
        "\n"
      ]
    },
    {
      "cell_type": "code",
      "metadata": {
        "id": "yTHw78kln_Rg"
      },
      "source": [
        ""
      ],
      "execution_count": null,
      "outputs": []
    }
  ]
}