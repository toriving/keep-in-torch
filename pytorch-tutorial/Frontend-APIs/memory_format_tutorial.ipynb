{
  "nbformat": 4,
  "nbformat_minor": 0,
  "metadata": {
    "kernelspec": {
      "display_name": "Python 3",
      "language": "python",
      "name": "python3"
    },
    "language_info": {
      "codemirror_mode": {
        "name": "ipython",
        "version": 3
      },
      "file_extension": ".py",
      "mimetype": "text/x-python",
      "name": "python",
      "nbconvert_exporter": "python",
      "pygments_lexer": "ipython3",
      "version": "3.6.8"
    },
    "colab": {
      "name": "memory_format_tutorial.ipynb",
      "provenance": []
    },
    "accelerator": "GPU"
  },
  "cells": [
    {
      "cell_type": "code",
      "metadata": {
        "id": "W1YjKZC6NYLT"
      },
      "source": [
        "%matplotlib inline"
      ],
      "execution_count": 1,
      "outputs": []
    },
    {
      "cell_type": "markdown",
      "metadata": {
        "id": "Ba53R4GrNYLV"
      },
      "source": [
        "\n",
        "(beta) Channels Last Memory Format in PyTorch\n",
        "*******************************************************\n",
        "**Author**: `Vitaly Fedyunin <https://github.com/VitalyFedyunin>`_\n",
        "\n",
        "What is Channels Last\n",
        "---------------------\n",
        "\n",
        "Channels Last memory format is an alternative way of ordering NCHW tensors in memory preserving dimensions ordering. Channels Last tensors ordered in such a way that channels become the densest dimension (aka storing images pixel-per-pixel).\n",
        "\n",
        "For example, classic (contiguous) storage of NCHW tensor (in our case it is two 2x2 images with 3 color channels) look like this:\n",
        "\n",
        ".. figure:: /_static/img/classic_memory_format.png\n",
        "   :alt: classic_memory_format\n",
        "\n",
        "Channels Last memory format orders data differently:\n",
        "\n",
        ".. figure:: /_static/img/channels_last_memory_format.png\n",
        "   :alt: channels_last_memory_format\n",
        "\n",
        "Pytorch supports memory formats (and provides back compatibility with existing models including eager, JIT, and TorchScript) by utilizing  existing strides structure.\n",
        "For example, 10x3x16x16 batch in Channels Last format will have strides equal to (768, 1, 48, 3).\n",
        "\n"
      ]
    },
    {
      "cell_type": "markdown",
      "metadata": {
        "id": "i_feclOINYLW"
      },
      "source": [
        "Channels Last memory format is implemented for 4D NCWH Tensors only.\n",
        "\n",
        "\n"
      ]
    },
    {
      "cell_type": "code",
      "metadata": {
        "id": "drInx7yzNYLX"
      },
      "source": [
        "import torch\n",
        "N, C, H, W = 10, 3, 32, 32"
      ],
      "execution_count": 2,
      "outputs": []
    },
    {
      "cell_type": "markdown",
      "metadata": {
        "id": "P4aLquqMNYLZ"
      },
      "source": [
        "Memory Format API\n",
        "-----------------------\n",
        "\n",
        "Here is how to convert tensors between contiguous and channels\n",
        "last memory formats.\n",
        "\n"
      ]
    },
    {
      "cell_type": "markdown",
      "metadata": {
        "id": "AdZswlekNYLZ"
      },
      "source": [
        "Classic PyTorch contiguous tensor\n",
        "\n"
      ]
    },
    {
      "cell_type": "code",
      "metadata": {
        "id": "_wOVXWOnNYLa",
        "outputId": "d29c749f-48d9-43cc-c332-c52b53d98d1a",
        "colab": {
          "base_uri": "https://localhost:8080/",
          "height": 35
        }
      },
      "source": [
        "x = torch.empty(N, C, H, W)\n",
        "print(x.stride()) # Ouputs: (3072, 1024, 32, 1)"
      ],
      "execution_count": 3,
      "outputs": [
        {
          "output_type": "stream",
          "text": [
            "(3072, 1024, 32, 1)\n"
          ],
          "name": "stdout"
        }
      ]
    },
    {
      "cell_type": "code",
      "metadata": {
        "id": "6XnW4Q1hNz7h",
        "outputId": "fa76c0e0-ad55-46cc-d8e5-ebcde48342fe",
        "colab": {
          "base_uri": "https://localhost:8080/",
          "height": 35
        }
      },
      "source": [
        "x.shape"
      ],
      "execution_count": 4,
      "outputs": [
        {
          "output_type": "execute_result",
          "data": {
            "text/plain": [
              "torch.Size([10, 3, 32, 32])"
            ]
          },
          "metadata": {
            "tags": []
          },
          "execution_count": 4
        }
      ]
    },
    {
      "cell_type": "markdown",
      "metadata": {
        "id": "lTdHhaz6NYLc"
      },
      "source": [
        "Conversion operator\n",
        "\n"
      ]
    },
    {
      "cell_type": "code",
      "metadata": {
        "id": "mQH-JvPsNYLc",
        "outputId": "15a6c64f-c255-4f8c-8222-c9d771935ff6",
        "colab": {
          "base_uri": "https://localhost:8080/",
          "height": 53
        }
      },
      "source": [
        "x = x.contiguous(memory_format=torch.channels_last)\n",
        "print(x.shape) # Outputs: (10, 3, 32, 32) as dimensions order preserved\n",
        "print(x.stride()) # Outputs: (3072, 1, 96, 3)"
      ],
      "execution_count": 5,
      "outputs": [
        {
          "output_type": "stream",
          "text": [
            "torch.Size([10, 3, 32, 32])\n",
            "(3072, 1, 96, 3)\n"
          ],
          "name": "stdout"
        }
      ]
    },
    {
      "cell_type": "markdown",
      "metadata": {
        "id": "knC8mL4HNYLe"
      },
      "source": [
        "Back to contiguous\n",
        "\n"
      ]
    },
    {
      "cell_type": "code",
      "metadata": {
        "id": "DBMhhzmmNYLf",
        "outputId": "48e63b6b-fe77-48a8-cbf9-80fa6cb1ae46",
        "colab": {
          "base_uri": "https://localhost:8080/",
          "height": 35
        }
      },
      "source": [
        "x = x.contiguous(memory_format=torch.contiguous_format)\n",
        "print(x.stride()) # Outputs: (3072, 1024, 32, 1)"
      ],
      "execution_count": 6,
      "outputs": [
        {
          "output_type": "stream",
          "text": [
            "(3072, 1024, 32, 1)\n"
          ],
          "name": "stdout"
        }
      ]
    },
    {
      "cell_type": "markdown",
      "metadata": {
        "id": "RcNNTL1qNYLg"
      },
      "source": [
        "Alternative option\n",
        "\n"
      ]
    },
    {
      "cell_type": "code",
      "metadata": {
        "id": "--GzioCYNYLh",
        "outputId": "e5b8c7d3-5699-41a4-acd9-2a6a2758c196",
        "colab": {
          "base_uri": "https://localhost:8080/",
          "height": 35
        }
      },
      "source": [
        "x = x.to(memory_format=torch.channels_last)\n",
        "print(x.stride()) # Ouputs: (3072, 1, 96, 3)"
      ],
      "execution_count": 7,
      "outputs": [
        {
          "output_type": "stream",
          "text": [
            "(3072, 1, 96, 3)\n"
          ],
          "name": "stdout"
        }
      ]
    },
    {
      "cell_type": "markdown",
      "metadata": {
        "id": "FQ8sopb9NYLj"
      },
      "source": [
        "Format checks\n",
        "\n"
      ]
    },
    {
      "cell_type": "code",
      "metadata": {
        "id": "Wa0HVRX_NYLk",
        "outputId": "02f2e253-16b2-47f1-81b9-daf02947bf03",
        "colab": {
          "base_uri": "https://localhost:8080/",
          "height": 35
        }
      },
      "source": [
        "print(x.is_contiguous(memory_format=torch.channels_last)) # Ouputs: True"
      ],
      "execution_count": 8,
      "outputs": [
        {
          "output_type": "stream",
          "text": [
            "True\n"
          ],
          "name": "stdout"
        }
      ]
    },
    {
      "cell_type": "markdown",
      "metadata": {
        "id": "dp0zNhOLNYLm"
      },
      "source": [
        "Create as Channels Last\n",
        "\n"
      ]
    },
    {
      "cell_type": "code",
      "metadata": {
        "id": "rdhjjI_rNYLm",
        "outputId": "8aaacfd3-1400-48e4-f564-66407d42bab4",
        "colab": {
          "base_uri": "https://localhost:8080/",
          "height": 35
        }
      },
      "source": [
        "x = torch.empty(N, C, H, W, memory_format=torch.channels_last)\n",
        "print(x.stride()) # Ouputs: (3072, 1, 96, 3)"
      ],
      "execution_count": 9,
      "outputs": [
        {
          "output_type": "stream",
          "text": [
            "(3072, 1, 96, 3)\n"
          ],
          "name": "stdout"
        }
      ]
    },
    {
      "cell_type": "markdown",
      "metadata": {
        "id": "-PsZhVnINYLo"
      },
      "source": [
        "``clone`` preserves memory format\n",
        "\n"
      ]
    },
    {
      "cell_type": "code",
      "metadata": {
        "id": "wxeNFqFxNYLp",
        "outputId": "8a46f864-531a-40d6-fdd1-27f7043ad29f",
        "colab": {
          "base_uri": "https://localhost:8080/",
          "height": 35
        }
      },
      "source": [
        "y = x.clone()\n",
        "print(y.stride()) # Ouputs: (3072, 1, 96, 3)"
      ],
      "execution_count": 10,
      "outputs": [
        {
          "output_type": "stream",
          "text": [
            "(3072, 1, 96, 3)\n"
          ],
          "name": "stdout"
        }
      ]
    },
    {
      "cell_type": "markdown",
      "metadata": {
        "id": "SXQzj53sNYLq"
      },
      "source": [
        "``to``, ``cuda``, ``float`` ... preserves memory format\n",
        "\n"
      ]
    },
    {
      "cell_type": "code",
      "metadata": {
        "id": "HloC99bXNYLr",
        "outputId": "d64c6063-5b89-4745-b2e2-e8e69ea6bd28",
        "colab": {
          "base_uri": "https://localhost:8080/",
          "height": 35
        }
      },
      "source": [
        "if torch.cuda.is_available():\n",
        "    y = x.cuda()\n",
        "    print(y.stride()) # Ouputs: (3072, 1, 96, 3)"
      ],
      "execution_count": 11,
      "outputs": [
        {
          "output_type": "stream",
          "text": [
            "(3072, 1, 96, 3)\n"
          ],
          "name": "stdout"
        }
      ]
    },
    {
      "cell_type": "markdown",
      "metadata": {
        "id": "zXK0ltoqNYLu"
      },
      "source": [
        "``empty_like``, ``*_like`` operators preserves memory format\n",
        "\n"
      ]
    },
    {
      "cell_type": "code",
      "metadata": {
        "id": "kKwZorMvNYLu",
        "outputId": "975a95c5-2e16-4342-f5b6-904112e7aee6",
        "colab": {
          "base_uri": "https://localhost:8080/",
          "height": 35
        }
      },
      "source": [
        "y = torch.empty_like(x)\n",
        "print(y.stride()) # Ouputs: (3072, 1, 96, 3)"
      ],
      "execution_count": 12,
      "outputs": [
        {
          "output_type": "stream",
          "text": [
            "(3072, 1, 96, 3)\n"
          ],
          "name": "stdout"
        }
      ]
    },
    {
      "cell_type": "markdown",
      "metadata": {
        "id": "pTMSvXQZNYLw"
      },
      "source": [
        "Pointwise operators preserves memory format\n",
        "\n"
      ]
    },
    {
      "cell_type": "code",
      "metadata": {
        "id": "dx2-xtQzNYLx",
        "outputId": "f2ca005e-d2b6-480c-f94c-99ae3d9e6101",
        "colab": {
          "base_uri": "https://localhost:8080/",
          "height": 35
        }
      },
      "source": [
        "z = x + y\n",
        "print(z.stride()) # Ouputs: (3072, 1, 96, 3)"
      ],
      "execution_count": 13,
      "outputs": [
        {
          "output_type": "stream",
          "text": [
            "(3072, 1, 96, 3)\n"
          ],
          "name": "stdout"
        }
      ]
    },
    {
      "cell_type": "markdown",
      "metadata": {
        "id": "WNknMpVgNYLy"
      },
      "source": [
        "Conv, Batchnorm modules support Channels Last\n",
        "(only works for CudNN >= 7.6)\n",
        "\n"
      ]
    },
    {
      "cell_type": "code",
      "metadata": {
        "id": "WHx1_f9GNYLz",
        "outputId": "f3aeb11a-79d5-42eb-dcb6-deb2839a5f88",
        "colab": {
          "base_uri": "https://localhost:8080/",
          "height": 35
        }
      },
      "source": [
        "if torch.backends.cudnn.version() >= 7603:\n",
        "    input = torch.randint(1, 10, (2, 8, 4, 4), dtype=torch.float32, device=\"cuda\", requires_grad=True)\n",
        "    model = torch.nn.Conv2d(8, 4, 3).cuda().float()\n",
        "\n",
        "    input = input.contiguous(memory_format=torch.channels_last)\n",
        "    model = model.to(memory_format=torch.channels_last) # Module parameters need to be Channels Last\n",
        "\n",
        "    out = model(input)\n",
        "    print(out.is_contiguous(memory_format=torch.channels_last)) # Ouputs: True"
      ],
      "execution_count": 14,
      "outputs": [
        {
          "output_type": "stream",
          "text": [
            "True\n"
          ],
          "name": "stdout"
        }
      ]
    },
    {
      "cell_type": "markdown",
      "metadata": {
        "id": "CBP6O5ewNYL1"
      },
      "source": [
        "Performance Gains\n",
        "-------------------------------------------------------------------------------------------\n",
        "The most significant performance gains are observed on Nvidia's hardware with\n",
        "Tensor Cores support. We were able to archive over 22%  perf gains while running '\n",
        "AMP (Automated Mixed Precision) training scripts supplied by Nvidia https://github.com/NVIDIA/apex.\n",
        "\n",
        "``python main_amp.py -a resnet50 --b 200 --workers 16 --opt-level O2  ./data``\n",
        "\n"
      ]
    },
    {
      "cell_type": "code",
      "metadata": {
        "id": "V7NeiQSKNYL1"
      },
      "source": [
        "# opt_level = O2\n",
        "# keep_batchnorm_fp32 = None <class 'NoneType'>\n",
        "# loss_scale = None <class 'NoneType'>\n",
        "# CUDNN VERSION: 7603\n",
        "# => creating model 'resnet50'\n",
        "# Selected optimization level O2:  FP16 training with FP32 batchnorm and FP32 master weights.\n",
        "# Defaults for this optimization level are:\n",
        "# enabled                : True\n",
        "# opt_level              : O2\n",
        "# cast_model_type        : torch.float16\n",
        "# patch_torch_functions  : False\n",
        "# keep_batchnorm_fp32    : True\n",
        "# master_weights         : True\n",
        "# loss_scale             : dynamic\n",
        "# Processing user overrides (additional kwargs that are not None)...\n",
        "# After processing overrides, optimization options are:\n",
        "# enabled                : True\n",
        "# opt_level              : O2\n",
        "# cast_model_type        : torch.float16\n",
        "# patch_torch_functions  : False\n",
        "# keep_batchnorm_fp32    : True\n",
        "# master_weights         : True\n",
        "# loss_scale             : dynamic\n",
        "# Epoch: [0][10/125] Time 0.866 (0.866) Speed 230.949 (230.949) Loss 0.6735125184 (0.6735) Prec@1 61.000 (61.000) Prec@5 100.000 (100.000)\n",
        "# Epoch: [0][20/125] Time 0.259 (0.562) Speed 773.481 (355.693) Loss 0.6968704462 (0.6852) Prec@1 55.000 (58.000) Prec@5 100.000 (100.000)\n",
        "# Epoch: [0][30/125] Time 0.258 (0.461) Speed 775.089 (433.965) Loss 0.7877287269 (0.7194) Prec@1 51.500 (55.833) Prec@5 100.000 (100.000)\n",
        "# Epoch: [0][40/125] Time 0.259 (0.410) Speed 771.710 (487.281) Loss 0.8285319805 (0.7467) Prec@1 48.500 (54.000) Prec@5 100.000 (100.000)\n",
        "# Epoch: [0][50/125] Time 0.260 (0.380) Speed 770.090 (525.908) Loss 0.7370464802 (0.7447) Prec@1 56.500 (54.500) Prec@5 100.000 (100.000)\n",
        "# Epoch: [0][60/125] Time 0.258 (0.360) Speed 775.623 (555.728) Loss 0.7592862844 (0.7472) Prec@1 51.000 (53.917) Prec@5 100.000 (100.000)\n",
        "# Epoch: [0][70/125] Time 0.258 (0.345) Speed 774.746 (579.115) Loss 1.9698858261 (0.9218) Prec@1 49.500 (53.286) Prec@5 100.000 (100.000)\n",
        "# Epoch: [0][80/125] Time 0.260 (0.335) Speed 770.324 (597.659) Loss 2.2505953312 (1.0879) Prec@1 50.500 (52.938) Prec@5 100.000 (100.000)"
      ],
      "execution_count": null,
      "outputs": []
    },
    {
      "cell_type": "markdown",
      "metadata": {
        "id": "1T_oP5yHNYL2"
      },
      "source": [
        "Passing ``--channels-last true`` allows running a model in Channels Last format with observed 22% perf gain.\n",
        "\n",
        "``python main_amp.py -a resnet50 --b 200 --workers 16 --opt-level O2 --channels-last true ./data``\n",
        "\n"
      ]
    },
    {
      "cell_type": "code",
      "metadata": {
        "id": "_ftS0fMGNYL3"
      },
      "source": [
        "# opt_level = O2\n",
        "# keep_batchnorm_fp32 = None <class 'NoneType'>\n",
        "# loss_scale = None <class 'NoneType'>\n",
        "#\n",
        "# CUDNN VERSION: 7603\n",
        "#\n",
        "# => creating model 'resnet50'\n",
        "# Selected optimization level O2:  FP16 training with FP32 batchnorm and FP32 master weights.\n",
        "#\n",
        "# Defaults for this optimization level are:\n",
        "# enabled                : True\n",
        "# opt_level              : O2\n",
        "# cast_model_type        : torch.float16\n",
        "# patch_torch_functions  : False\n",
        "# keep_batchnorm_fp32    : True\n",
        "# master_weights         : True\n",
        "# loss_scale             : dynamic\n",
        "# Processing user overrides (additional kwargs that are not None)...\n",
        "# After processing overrides, optimization options are:\n",
        "# enabled                : True\n",
        "# opt_level              : O2\n",
        "# cast_model_type        : torch.float16\n",
        "# patch_torch_functions  : False\n",
        "# keep_batchnorm_fp32    : True\n",
        "# master_weights         : True\n",
        "# loss_scale             : dynamic\n",
        "#\n",
        "# Epoch: [0][10/125] Time 0.767 (0.767) Speed 260.785 (260.785) Loss 0.7579724789 (0.7580) Prec@1 53.500 (53.500) Prec@5 100.000 (100.000)\n",
        "# Epoch: [0][20/125] Time 0.198 (0.482) Speed 1012.135 (414.716) Loss 0.7007197738 (0.7293) Prec@1 49.000 (51.250) Prec@5 100.000 (100.000)\n",
        "# Epoch: [0][30/125] Time 0.198 (0.387) Speed 1010.977 (516.198) Loss 0.7113101482 (0.7233) Prec@1 55.500 (52.667) Prec@5 100.000 (100.000)\n",
        "# Epoch: [0][40/125] Time 0.197 (0.340) Speed 1013.023 (588.333) Loss 0.8943189979 (0.7661) Prec@1 54.000 (53.000) Prec@5 100.000 (100.000)\n",
        "# Epoch: [0][50/125] Time 0.198 (0.312) Speed 1010.541 (641.977) Loss 1.7113249302 (0.9551) Prec@1 51.000 (52.600) Prec@5 100.000 (100.000)\n",
        "# Epoch: [0][60/125] Time 0.198 (0.293) Speed 1011.163 (683.574) Loss 5.8537774086 (1.7716) Prec@1 50.500 (52.250) Prec@5 100.000 (100.000)\n",
        "# Epoch: [0][70/125] Time 0.198 (0.279) Speed 1011.453 (716.767) Loss 5.7595844269 (2.3413) Prec@1 46.500 (51.429) Prec@5 100.000 (100.000)\n",
        "# Epoch: [0][80/125] Time 0.198 (0.269) Speed 1011.827 (743.883) Loss 2.8196096420 (2.4011) Prec@1 47.500 (50.938) Prec@5 100.000 (100.000)"
      ],
      "execution_count": null,
      "outputs": []
    },
    {
      "cell_type": "markdown",
      "metadata": {
        "id": "glBkZkLnNYL5"
      },
      "source": [
        "The following list of models has the full support of Channels Last and showing 8%-35% perf gains on Volta devices:\n",
        "``alexnet``, ``mnasnet0_5``, ``mnasnet0_75``, ``mnasnet1_0``, ``mnasnet1_3``, ``mobilenet_v2``, ``resnet101``, ``resnet152``, ``resnet18``, ``resnet34``, ``resnet50``, ``resnext50_32x4d``, ``shufflenet_v2_x0_5``, ``shufflenet_v2_x1_0``, ``shufflenet_v2_x1_5``, ``shufflenet_v2_x2_0``, ``squeezenet1_0``, ``squeezenet1_1``, ``vgg11``, ``vgg11_bn``, ``vgg13``, ``vgg13_bn``, ``vgg16``, ``vgg16_bn``, ``vgg19``, ``vgg19_bn``, ``wide_resnet101_2``, ``wide_resnet50_2``\n",
        "\n",
        "\n"
      ]
    },
    {
      "cell_type": "markdown",
      "metadata": {
        "id": "JMo8M-pPNYL5"
      },
      "source": [
        "Converting existing models\n",
        "--------------------------\n",
        "\n",
        "Channels Last support not limited by existing models, as any model can be converted to Channels Last and propagate format through the graph as soon as input formatted correctly.\n",
        "\n",
        "\n"
      ]
    },
    {
      "cell_type": "code",
      "metadata": {
        "id": "EiSEa0EqNYL5"
      },
      "source": [
        "# Need to be done once, after model initialization (or load)\n",
        "model = model.to(memory_format=torch.channels_last) # Replace with your model\n",
        "\n",
        "# Need to be done for every input\n",
        "input = input.to(memory_format=torch.channels_last) # Replace with your input\n",
        "output = model(input)"
      ],
      "execution_count": 15,
      "outputs": []
    },
    {
      "cell_type": "markdown",
      "metadata": {
        "id": "WTrPMiaTNYL7"
      },
      "source": [
        "However, not all operators fully converted to support Channels Last (usually returning\n",
        "contiguous output instead). That means you need to verify the list of used operators\n",
        "against supported operators list https://github.com/pytorch/pytorch/wiki/Operators-with-Channels-Last-support,\n",
        "or introduce memory format checks into eager execution mode and run your model.\n",
        "\n",
        "After running the code below, operators will raise an exception if the output of the\n",
        "operator doesn't match the memory format of the input.\n",
        "\n",
        "\n",
        "\n"
      ]
    },
    {
      "cell_type": "code",
      "metadata": {
        "id": "dp3nGnSDNYL7",
        "outputId": "808f8a3b-c6d9-472e-ad44-6cfe5fb527de",
        "colab": {
          "base_uri": "https://localhost:8080/",
          "height": 53
        }
      },
      "source": [
        "def contains_cl(args):\n",
        "    for t in args:\n",
        "        if isinstance(t, torch.Tensor):\n",
        "            if t.is_contiguous(memory_format=torch.channels_last) and not t.is_contiguous():\n",
        "                return True\n",
        "        elif isinstance(t, list) or isinstance(t, tuple):\n",
        "            if contains_cl(list(t)):\n",
        "                return True\n",
        "    return False\n",
        "\n",
        "\n",
        "def print_inputs(args, indent=''):\n",
        "    for t in args:\n",
        "        if isinstance(t, torch.Tensor):\n",
        "            print(indent, t.stride(), t.shape, t.device, t.dtype)\n",
        "        elif isinstance(t, list) or isinstance(t, tuple):\n",
        "            print(indent, type(t))\n",
        "            print_inputs(list(t), indent=indent + '    ')\n",
        "        else:\n",
        "            print(indent, t)\n",
        "\n",
        "\n",
        "def check_wrapper(fn):\n",
        "    name = fn.__name__\n",
        "\n",
        "    def check_cl(*args, **kwargs):\n",
        "        was_cl = contains_cl(args)\n",
        "        try:\n",
        "            result = fn(*args, **kwargs)\n",
        "        except Exception as e:\n",
        "            print(\"`{}` inputs are:\".format(name))\n",
        "            print_inputs(args)\n",
        "            print('-------------------')\n",
        "            raise e\n",
        "        failed = False\n",
        "        if was_cl:\n",
        "            if isinstance(result, torch.Tensor):\n",
        "                if result.dim() == 4 and not result.is_contiguous(memory_format=torch.channels_last):\n",
        "                    print(\"`{}` got channels_last input, but output is not channels_last:\".format(name),\n",
        "                          result.shape, result.stride(), result.device, result.dtype)\n",
        "                    failed = True\n",
        "        if failed and True:\n",
        "            print(\"`{}` inputs are:\".format(name))\n",
        "            print_inputs(args)\n",
        "            raise Exception(\n",
        "                'Operator `{}` lost channels_last property'.format(name))\n",
        "        return result\n",
        "    return check_cl\n",
        "\n",
        "old_attrs = dict()\n",
        "\n",
        "def attribute(m):\n",
        "    old_attrs[m] = dict()\n",
        "    for i in dir(m):\n",
        "        e = getattr(m, i)\n",
        "        exclude_functions = ['is_cuda', 'has_names', 'numel',\n",
        "                             'stride', 'Tensor', 'is_contiguous', '__class__']\n",
        "        if i not in exclude_functions and not i.startswith('_') and '__call__' in dir(e):\n",
        "            try:\n",
        "                old_attrs[m][i] = e\n",
        "                setattr(m, i, check_wrapper(e))\n",
        "            except Exception as e:\n",
        "                print(i)\n",
        "                print(e)\n",
        "\n",
        "\n",
        "attribute(torch.Tensor)\n",
        "attribute(torch.nn.functional)\n",
        "attribute(torch)"
      ],
      "execution_count": 16,
      "outputs": [
        {
          "output_type": "stream",
          "text": [
            "Optional\n",
            "'_Optional' object has no attribute '__name__'\n"
          ],
          "name": "stdout"
        }
      ]
    },
    {
      "cell_type": "markdown",
      "metadata": {
        "id": "MClHGPUMNYL9"
      },
      "source": [
        "If you found an operator that doesn't support Channels Last tensors\n",
        "and you want to contribute, feel free to use following developers\n",
        "guide https://github.com/pytorch/pytorch/wiki/Writing-memory-format-aware-operators.\n",
        "\n",
        "\n"
      ]
    },
    {
      "cell_type": "markdown",
      "metadata": {
        "id": "Pcd9oDZqNYL9"
      },
      "source": [
        "Code below is to recover the attributes of torch.\n",
        "\n"
      ]
    },
    {
      "cell_type": "code",
      "metadata": {
        "id": "iMpGhr-lNYL-"
      },
      "source": [
        "for (m, attrs) in old_attrs.items():\n",
        "  for (k,v) in attrs.items():\n",
        "    setattr(m, k, v)"
      ],
      "execution_count": 17,
      "outputs": []
    },
    {
      "cell_type": "markdown",
      "metadata": {
        "id": "tS7v7v7xNYL_"
      },
      "source": [
        "Work to do\n",
        "----------\n",
        "There are still many things to do, such as:\n",
        "\n",
        "- Resolving ambiguity of N1HW and NC11 Tensors;\n",
        "- Testing of Distributed Training support;\n",
        "- Improving operators coverage.\n",
        "\n",
        "If you have feedback and/or suggestions for improvement, please let us\n",
        "know by creating `an issue <https://github.com/pytorch/pytorch/issues>`_.\n",
        "\n"
      ]
    }
  ]
}