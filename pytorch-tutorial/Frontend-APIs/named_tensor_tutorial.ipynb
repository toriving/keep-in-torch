{
  "nbformat": 4,
  "nbformat_minor": 0,
  "metadata": {
    "kernelspec": {
      "display_name": "Python 3",
      "language": "python",
      "name": "python3"
    },
    "language_info": {
      "codemirror_mode": {
        "name": "ipython",
        "version": 3
      },
      "file_extension": ".py",
      "mimetype": "text/x-python",
      "name": "python",
      "nbconvert_exporter": "python",
      "pygments_lexer": "ipython3",
      "version": "3.6.8"
    },
    "colab": {
      "name": "named_tensor_tutorial.ipynb",
      "provenance": []
    },
    "accelerator": "GPU"
  },
  "cells": [
    {
      "cell_type": "code",
      "metadata": {
        "id": "agKggDjFK-5t"
      },
      "source": [
        "%matplotlib inline"
      ],
      "execution_count": 1,
      "outputs": []
    },
    {
      "cell_type": "markdown",
      "metadata": {
        "id": "PxmdUXJGK-5v"
      },
      "source": [
        "\n",
        "(prototype) Introduction to Named Tensors in PyTorch\n",
        "*******************************************************\n",
        "**Author**: `Richard Zou <https://github.com/zou3519>`_\n",
        "\n",
        "Named Tensors aim to make tensors easier to use by allowing users to associate\n",
        "explicit names with tensor dimensions. In most cases, operations that take\n",
        "dimension parameters will accept dimension names, avoiding the need to track\n",
        "dimensions by position. In addition, named tensors use names to automatically\n",
        "check that APIs are being used correctly at runtime, providing extra safety.\n",
        "Names can also be used to rearrange dimensions, for example, to support\n",
        "\"broadcasting by name\" rather than \"broadcasting by position\".\n",
        "\n",
        "This tutorial is intended as a guide to the functionality that will\n",
        "be included with the 1.3 launch. By the end of it, you will be able to:\n",
        "\n",
        "- Create Tensors with named dimensions, as well as remove or rename those\n",
        "  dimensions\n",
        "- Understand the basics of how operations propagate dimension names\n",
        "- See how naming dimensions enables clearer code in two key areas:\n",
        "    - Broadcasting operations\n",
        "    - Flattening and unflattening dimensions\n",
        "\n",
        "Finally, we'll put this into practice by writing a multi-head attention module\n",
        "using named tensors.\n",
        "\n",
        "Named tensors in PyTorch are inspired by and done in collaboration with\n",
        "`Sasha Rush <https://tech.cornell.edu/people/alexander-rush/>`_.\n",
        "Sasha proposed the original idea and proof of concept in his\n",
        "`January 2019 blog post <http://nlp.seas.harvard.edu/NamedTensor>`_.\n",
        "\n",
        "Basics: named dimensions\n",
        "========================\n",
        "\n",
        "PyTorch now allows Tensors to have named dimensions; factory functions\n",
        "take a new `names` argument that associates a name with each dimension.\n",
        "This works with most factory functions, such as\n",
        "\n",
        "- `tensor`\n",
        "- `empty`\n",
        "- `ones`\n",
        "- `zeros`\n",
        "- `randn`\n",
        "- `rand`\n",
        "\n",
        "Here we construct a tensor with names:\n",
        "\n"
      ]
    },
    {
      "cell_type": "code",
      "metadata": {
        "id": "kOZJ302zK-5w",
        "outputId": "cdc807b2-c51d-4284-e3c9-671de79fdf1c",
        "colab": {
          "base_uri": "https://localhost:8080/",
          "height": 91
        }
      },
      "source": [
        "import torch\n",
        "imgs = torch.randn(1, 2, 2, 3, names=('N', 'C', 'H', 'W'))\n",
        "print(imgs.names)"
      ],
      "execution_count": 2,
      "outputs": [
        {
          "output_type": "stream",
          "text": [
            "('N', 'C', 'H', 'W')\n"
          ],
          "name": "stdout"
        },
        {
          "output_type": "stream",
          "text": [
            "/usr/local/lib/python3.6/dist-packages/ipykernel_launcher.py:2: UserWarning: Named tensors and all their associated APIs are an experimental feature and subject to change. Please do not use them for anything important until they are released as stable. (Triggered internally at  /pytorch/c10/core/TensorImpl.h:840.)\n",
            "  \n"
          ],
          "name": "stderr"
        }
      ]
    },
    {
      "cell_type": "code",
      "metadata": {
        "id": "YAvmMO8ILP0q",
        "outputId": "90df8115-95d7-480d-aff8-6f560d41ad47",
        "colab": {
          "base_uri": "https://localhost:8080/",
          "height": 107
        }
      },
      "source": [
        "print(imgs)"
      ],
      "execution_count": 3,
      "outputs": [
        {
          "output_type": "stream",
          "text": [
            "tensor([[[[ 1.1554, -1.0174, -0.0181],\n",
            "          [-0.0303, -0.6435, -0.5816]],\n",
            "\n",
            "         [[ 0.5035,  0.3269, -1.5394],\n",
            "          [-0.3405,  1.4988, -1.2622]]]], names=('N', 'C', 'H', 'W'))\n"
          ],
          "name": "stdout"
        }
      ]
    },
    {
      "cell_type": "markdown",
      "metadata": {
        "id": "xvGCpMcOK-5y"
      },
      "source": [
        "Unlike in\n",
        "`the original named tensors blogpost <http://nlp.seas.harvard.edu/NamedTensor>`_,\n",
        "named dimensions are ordered: ``tensor.names[i]`` is the name of the ``i`` th\n",
        "dimension of ``tensor``.\n",
        "\n",
        "There are two ways to rename a ``Tensor``'s dimensions:\n",
        "\n"
      ]
    },
    {
      "cell_type": "code",
      "metadata": {
        "id": "uASpDIiGK-5y",
        "outputId": "959cd5dc-2641-4355-8b91-8115f2965453",
        "colab": {
          "base_uri": "https://localhost:8080/",
          "height": 53
        }
      },
      "source": [
        "# Method #1: set the .names attribute (this changes name in-place)\n",
        "imgs.names = ['batch', 'channel', 'width', 'height']\n",
        "print(imgs.names)\n",
        "\n",
        "# Method #2: specify new names (this changes names out-of-place)\n",
        "imgs = imgs.rename(channel='C', width='W', height='H')\n",
        "print(imgs.names)"
      ],
      "execution_count": 4,
      "outputs": [
        {
          "output_type": "stream",
          "text": [
            "('batch', 'channel', 'width', 'height')\n",
            "('batch', 'C', 'W', 'H')\n"
          ],
          "name": "stdout"
        }
      ]
    },
    {
      "cell_type": "markdown",
      "metadata": {
        "id": "gA6dN8qZK-50"
      },
      "source": [
        "The preferred way to remove names is to call ``tensor.rename(None)``:\n",
        "\n"
      ]
    },
    {
      "cell_type": "code",
      "metadata": {
        "id": "rVfYouUGK-50",
        "outputId": "4245ac66-621b-4e71-aeea-4602ee56d1ec",
        "colab": {
          "base_uri": "https://localhost:8080/",
          "height": 35
        }
      },
      "source": [
        "imgs = imgs.rename(None)\n",
        "print(imgs.names)"
      ],
      "execution_count": 5,
      "outputs": [
        {
          "output_type": "stream",
          "text": [
            "(None, None, None, None)\n"
          ],
          "name": "stdout"
        }
      ]
    },
    {
      "cell_type": "markdown",
      "metadata": {
        "id": "9axyJZ_wK-52"
      },
      "source": [
        "Unnamed tensors (tensors with no named dimensions) still work as\n",
        "normal and do not have names in their ``repr``.\n",
        "\n"
      ]
    },
    {
      "cell_type": "code",
      "metadata": {
        "id": "5ORo8RBYK-53",
        "outputId": "c957d5c7-81d4-4f20-e713-91dcf9d136f0",
        "colab": {
          "base_uri": "https://localhost:8080/",
          "height": 89
        }
      },
      "source": [
        "unnamed = torch.randn(2, 1, 3)\n",
        "print(unnamed)\n",
        "print(unnamed.names)"
      ],
      "execution_count": 6,
      "outputs": [
        {
          "output_type": "stream",
          "text": [
            "tensor([[[ 0.0723, -0.2830,  0.7372]],\n",
            "\n",
            "        [[-0.0939, -1.1855,  0.7634]]])\n",
            "(None, None, None)\n"
          ],
          "name": "stdout"
        }
      ]
    },
    {
      "cell_type": "markdown",
      "metadata": {
        "id": "3IS3jgVwK-54"
      },
      "source": [
        "Named tensors do not require that all dimensions be named.\n",
        "\n"
      ]
    },
    {
      "cell_type": "code",
      "metadata": {
        "id": "fIi1ktaAK-55",
        "outputId": "d47a8d41-59d2-4493-de5b-271c95a35f68",
        "colab": {
          "base_uri": "https://localhost:8080/",
          "height": 35
        }
      },
      "source": [
        "imgs = torch.randn(3, 1, 1, 2, names=('N', None, None, None))\n",
        "print(imgs.names)"
      ],
      "execution_count": 7,
      "outputs": [
        {
          "output_type": "stream",
          "text": [
            "('N', None, None, None)\n"
          ],
          "name": "stdout"
        }
      ]
    },
    {
      "cell_type": "markdown",
      "metadata": {
        "id": "JjUAQQoZK-57"
      },
      "source": [
        "Because named tensors can coexist with unnamed tensors, we need a nice way to\n",
        "write named tensor-aware code that works with both named and unnamed tensors.\n",
        "Use ``tensor.refine_names(*names)`` to refine dimensions and lift unnamed\n",
        "dims to named dims. Refining a dimension is defined as a \"rename\" with the\n",
        "following constraints:\n",
        "\n",
        "- A ``None`` dim can be refined to have any name\n",
        "- A named dim can only be refined to have the same name.\n",
        "\n"
      ]
    },
    {
      "cell_type": "code",
      "metadata": {
        "id": "wZd5-3hsK-57",
        "outputId": "4fdcb45f-36e3-4b43-8293-129de2abaae8",
        "colab": {
          "base_uri": "https://localhost:8080/",
          "height": 71
        }
      },
      "source": [
        "imgs = torch.randn(3, 1, 1, 2)\n",
        "named_imgs = imgs.refine_names('N', 'C', 'H', 'W')\n",
        "print(named_imgs.names)\n",
        "\n",
        "# Refine the last two dims to 'H' and 'W'. In Python 2, use the string '...'\n",
        "# instead of ...\n",
        "named_imgs = imgs.refine_names(..., 'H', 'W')\n",
        "print(named_imgs.names)\n",
        "\n",
        "\n",
        "def catch_error(fn):\n",
        "    try:\n",
        "        fn()\n",
        "        assert False\n",
        "    except RuntimeError as err:\n",
        "        err = str(err)\n",
        "        if len(err) > 180:\n",
        "            err = err[:180] + \"...\"\n",
        "        print(err)\n",
        "\n",
        "\n",
        "named_imgs = imgs.refine_names('N', 'C', 'H', 'W')\n",
        "\n",
        "# Tried to refine an existing name to a different name\n",
        "catch_error(lambda: named_imgs.refine_names('N', 'C', 'H', 'width'))"
      ],
      "execution_count": 8,
      "outputs": [
        {
          "output_type": "stream",
          "text": [
            "('N', 'C', 'H', 'W')\n",
            "(None, None, 'H', 'W')\n",
            "refine_names: cannot coerce Tensor['N', 'C', 'H', 'W'] to Tensor['N', 'C', 'H', 'width'] because 'W' is different from 'width' at index 3\n"
          ],
          "name": "stdout"
        }
      ]
    },
    {
      "cell_type": "markdown",
      "metadata": {
        "id": "XF0kY4vVK-59"
      },
      "source": [
        "Most simple operations propagate names. The ultimate goal for named tensors\n",
        "is for all operations to propagate names in a reasonable, intuitive manner.\n",
        "Support for many common operations has been added at the time of the 1.3\n",
        "release; here, for example, is ``.abs()``:\n",
        "\n"
      ]
    },
    {
      "cell_type": "code",
      "metadata": {
        "id": "tUrafSFwK-5-",
        "outputId": "6c92712f-af8d-4f95-e647-c0b13d7fa6ce",
        "colab": {
          "base_uri": "https://localhost:8080/",
          "height": 35
        }
      },
      "source": [
        "print(named_imgs.abs().names)"
      ],
      "execution_count": 9,
      "outputs": [
        {
          "output_type": "stream",
          "text": [
            "('N', 'C', 'H', 'W')\n"
          ],
          "name": "stdout"
        }
      ]
    },
    {
      "cell_type": "markdown",
      "metadata": {
        "id": "96a3c5hyK-5_"
      },
      "source": [
        "Accessors and Reduction\n",
        "-----------------------\n",
        "\n",
        "One can use dimension names to refer to dimensions instead of the positional\n",
        "dimension. These operations also propagate names. Indexing (basic and\n",
        "advanced) has not been implemented yet but is on the roadmap. Using the\n",
        "``named_imgs`` tensor from above, we can do:\n",
        "\n"
      ]
    },
    {
      "cell_type": "code",
      "metadata": {
        "id": "qW6g_Sf3K-6A",
        "outputId": "401bc748-c2b4-4add-b717-ae9e0423b661",
        "colab": {
          "base_uri": "https://localhost:8080/",
          "height": 53
        }
      },
      "source": [
        "output = named_imgs.sum('C')  # Perform a sum over the channel dimension\n",
        "print(output.names)\n",
        "\n",
        "img0 = named_imgs.select('N', 0)  # get one image\n",
        "print(img0.names)"
      ],
      "execution_count": 10,
      "outputs": [
        {
          "output_type": "stream",
          "text": [
            "('N', 'H', 'W')\n",
            "('C', 'H', 'W')\n"
          ],
          "name": "stdout"
        }
      ]
    },
    {
      "cell_type": "code",
      "metadata": {
        "id": "sfOLthDLMT7K",
        "outputId": "0f86bff6-af33-4ac6-838e-7e33a84bb2a0",
        "colab": {
          "base_uri": "https://localhost:8080/",
          "height": 107
        }
      },
      "source": [
        "output"
      ],
      "execution_count": 11,
      "outputs": [
        {
          "output_type": "execute_result",
          "data": {
            "text/plain": [
              "tensor([[[ 0.6539, -0.0094]],\n",
              "\n",
              "        [[ 1.9884, -0.0184]],\n",
              "\n",
              "        [[ 1.2105, -2.0450]]], names=('N', 'H', 'W'))"
            ]
          },
          "metadata": {
            "tags": []
          },
          "execution_count": 11
        }
      ]
    },
    {
      "cell_type": "markdown",
      "metadata": {
        "id": "IM0u6nYDK-6B"
      },
      "source": [
        "Name inference\n",
        "--------------\n",
        "\n",
        "Names are propagated on operations in a two step process called\n",
        "**name inference**:\n",
        "\n",
        "1. **Check names**: an operator may perform automatic checks at runtime that\n",
        "   check that certain dimension names must match.\n",
        "2. **Propagate names**: name inference propagates output names to output\n",
        "   tensors.\n",
        "\n",
        "Let's go through the very small example of adding 2 one-dim tensors with no\n",
        "broadcasting.\n",
        "\n"
      ]
    },
    {
      "cell_type": "code",
      "metadata": {
        "id": "L6dMYDdfK-6C"
      },
      "source": [
        "x = torch.randn(3, names=('X',))\n",
        "y = torch.randn(3)\n",
        "z = torch.randn(3, names=('Z',))"
      ],
      "execution_count": 12,
      "outputs": []
    },
    {
      "cell_type": "code",
      "metadata": {
        "id": "qYVEuwFIMXf9",
        "outputId": "9b1d841a-c875-47ba-8a93-6f8e86fa3847",
        "colab": {
          "base_uri": "https://localhost:8080/",
          "height": 35
        }
      },
      "source": [
        "x"
      ],
      "execution_count": 13,
      "outputs": [
        {
          "output_type": "execute_result",
          "data": {
            "text/plain": [
              "tensor([-1.5284, -1.2657,  0.7382], names=('X',))"
            ]
          },
          "metadata": {
            "tags": []
          },
          "execution_count": 13
        }
      ]
    },
    {
      "cell_type": "markdown",
      "metadata": {
        "id": "_Fphb6VNK-6D"
      },
      "source": [
        "**Check names**: first, we will check whether the names of these two tensors\n",
        "*match*. Two names match if and only if they are equal (string equality) or\n",
        "at least one is ``None`` (``None`` is essentially a special wildcard name).\n",
        "The only one of these three that will error, therefore, is ``x + z``:\n",
        "\n"
      ]
    },
    {
      "cell_type": "code",
      "metadata": {
        "id": "mSJ9GxvLK-6E",
        "outputId": "cd13efaa-7927-4ebe-f8ad-d9cc825834b9",
        "colab": {
          "base_uri": "https://localhost:8080/",
          "height": 35
        }
      },
      "source": [
        "catch_error(lambda: x + z)"
      ],
      "execution_count": 14,
      "outputs": [
        {
          "output_type": "stream",
          "text": [
            "Error when attempting to broadcast dims ['X'] and dims ['Z']: dim 'X' and dim 'Z' are at the same position from the right but do not match.\n"
          ],
          "name": "stdout"
        }
      ]
    },
    {
      "cell_type": "markdown",
      "metadata": {
        "id": "e2gWpJkwK-6G"
      },
      "source": [
        "**Propagate names**: *unify* the two names by returning the most refined name\n",
        "of the two. With ``x + y``,  ``X`` is more refined than ``None``.\n",
        "\n"
      ]
    },
    {
      "cell_type": "code",
      "metadata": {
        "id": "gpIEfHjIK-6H",
        "outputId": "a5fbcffd-e2d6-4f83-bd07-4191cf7d900e",
        "colab": {
          "base_uri": "https://localhost:8080/",
          "height": 35
        }
      },
      "source": [
        "print((x + y).names)"
      ],
      "execution_count": 15,
      "outputs": [
        {
          "output_type": "stream",
          "text": [
            "('X',)\n"
          ],
          "name": "stdout"
        }
      ]
    },
    {
      "cell_type": "markdown",
      "metadata": {
        "id": "uSPNArGfK-6N"
      },
      "source": [
        "Most name inference rules are straightforward but some of them can have\n",
        "unexpected semantics. Let's go through a couple you're likely to encounter:\n",
        "broadcasting and matrix multiply.\n",
        "\n",
        "Broadcasting\n",
        "^^^^^^^^^^^^\n",
        "\n",
        "Named tensors do not change broadcasting behavior; they still broadcast by\n",
        "position. However, when checking two dimensions for if they can be\n",
        "broadcasted, PyTorch also checks that the names of those dimensions match.\n",
        "\n",
        "This results in named tensors preventing unintended alignment during\n",
        "operations that broadcast. In the below example, we apply a\n",
        "``per_batch_scale`` to ``imgs``.\n",
        "\n"
      ]
    },
    {
      "cell_type": "code",
      "metadata": {
        "id": "AueH3SgYK-6O",
        "outputId": "0676359e-0ed6-4df6-b6a5-68cd1d73dc4e",
        "colab": {
          "base_uri": "https://localhost:8080/",
          "height": 35
        }
      },
      "source": [
        "imgs = torch.randn(2, 2, 2, 2, names=('N', 'C', 'H', 'W'))\n",
        "per_batch_scale = torch.rand(2, names=('N',))\n",
        "catch_error(lambda: imgs * per_batch_scale)"
      ],
      "execution_count": 16,
      "outputs": [
        {
          "output_type": "stream",
          "text": [
            "Error when attempting to broadcast dims ['N', 'C', 'H', 'W'] and dims ['N']: dim 'W' and dim 'N' are at the same position from the right but do not match.\n"
          ],
          "name": "stdout"
        }
      ]
    },
    {
      "cell_type": "markdown",
      "metadata": {
        "id": "iL4hcdfpK-6S"
      },
      "source": [
        "Without ``names``, the ``per_batch_scale`` tensor is aligned with the last\n",
        "dimension of ``imgs``, which is not what we intended. We really wanted to\n",
        "perform the operation by aligning ``per_batch_scale`` with the batch\n",
        "dimension of ``imgs``.\n",
        "See the new \"explicit broadcasting by names\" functionality for how to\n",
        "align tensors by name, covered below.\n",
        "\n",
        "Matrix multiply\n",
        "^^^^^^^^^^^^^^^\n",
        "\n",
        "``torch.mm(A, B)`` performs a dot product between the second dim of ``A``\n",
        "and the first dim of ``B``, returning a tensor with the first dim of ``A``\n",
        "and the second dim of ``B``. (other matmul functions, such as\n",
        "``torch.matmul``, ``torch.mv``, and ``torch.dot``, behave similarly).\n",
        "\n"
      ]
    },
    {
      "cell_type": "code",
      "metadata": {
        "id": "BF5HsRT2K-6T",
        "outputId": "608b2130-0ca8-44e0-b2b0-f72614be846a",
        "colab": {
          "base_uri": "https://localhost:8080/",
          "height": 35
        }
      },
      "source": [
        "markov_states = torch.randn(128, 5, names=('batch', 'D'))\n",
        "transition_matrix = torch.randn(5, 5, names=('in', 'out'))\n",
        "\n",
        "# Apply one transition\n",
        "new_state = markov_states @ transition_matrix\n",
        "print(new_state.names)"
      ],
      "execution_count": 17,
      "outputs": [
        {
          "output_type": "stream",
          "text": [
            "('batch', 'out')\n"
          ],
          "name": "stdout"
        }
      ]
    },
    {
      "cell_type": "markdown",
      "metadata": {
        "id": "zytQoyLTK-6V"
      },
      "source": [
        "As you can see, matrix multiply does not check if the contracted dimensions\n",
        "have the same name.\n",
        "\n",
        "Next, we'll cover two new behaviors that named tensors enable: explicit\n",
        "broadcasting by names and flattening and unflattening dimensions by names\n",
        "\n",
        "New behavior: Explicit broadcasting by names\n",
        "--------------------------------------------\n",
        "\n",
        "One of the main complaints about working with multiple dimensions is the need\n",
        "to ``unsqueeze`` \"dummy\" dimensions so that operations can occur.\n",
        "For example, in our per-batch-scale example before, with unnamed tensors\n",
        "we'd do the following:\n",
        "\n"
      ]
    },
    {
      "cell_type": "code",
      "metadata": {
        "id": "KI0jYygdK-6W"
      },
      "source": [
        "imgs = torch.randn(2, 2, 2, 2)  # N, C, H, W\n",
        "per_batch_scale = torch.rand(2)  # N\n",
        "\n",
        "correct_result = imgs * per_batch_scale.view(2, 1, 1, 1)  # N, C, H, W\n",
        "incorrect_result = imgs * per_batch_scale.expand_as(imgs)\n",
        "assert not torch.allclose(correct_result, incorrect_result)"
      ],
      "execution_count": 18,
      "outputs": []
    },
    {
      "cell_type": "markdown",
      "metadata": {
        "id": "Ho3PXyZEK-6Y"
      },
      "source": [
        "We can make these operations safer (and easily agnostic to the number of\n",
        "dimensions) by using names. We provide a new ``tensor.align_as(other)``\n",
        "operation that permutes the dimensions of tensor to match the order specified\n",
        "in ``other.names``, adding one-sized dimensions where appropriate\n",
        "(``tensor.align_to(*names)`` works as well):\n",
        "\n"
      ]
    },
    {
      "cell_type": "code",
      "metadata": {
        "id": "rJ2ImrjuK-6Z"
      },
      "source": [
        "imgs = imgs.refine_names('N', 'C', 'H', 'W')\n",
        "per_batch_scale = per_batch_scale.refine_names('N')\n",
        "\n",
        "named_result = imgs * per_batch_scale.align_as(imgs)\n",
        "# note: named tensors do not yet work with allclose\n",
        "assert torch.allclose(named_result.rename(None), correct_result)"
      ],
      "execution_count": 19,
      "outputs": []
    },
    {
      "cell_type": "markdown",
      "metadata": {
        "id": "AYBzqQ1eK-6b"
      },
      "source": [
        "New behavior: Flattening and unflattening dimensions by names\n",
        "-------------------------------------------------------------\n",
        "\n",
        "One common operation is flattening and unflattening dimensions. Right now,\n",
        "users perform this using either ``view``, ``reshape``, or ``flatten``; use\n",
        "cases include flattening batch dimensions to send tensors into operators that\n",
        "must take inputs with a certain number of dimensions (i.e., conv2d takes 4D\n",
        "input).\n",
        "\n",
        "To make these operation more semantically meaningful than view or reshape, we\n",
        "introduce a new ``tensor.unflatten(dim, namedshape)`` method and update\n",
        "``flatten`` to work with names: ``tensor.flatten(dims, new_dim)``.\n",
        "\n",
        "``flatten`` can only flatten adjacent dimensions but also works on\n",
        "non-contiguous dims. One must pass into ``unflatten`` a **named shape**,\n",
        "which is a list of ``(dim, size)`` tuples, to specify how to unflatten the\n",
        "dim. It is possible to save the sizes during a ``flatten`` for ``unflatten``\n",
        "but we do not yet do that.\n",
        "\n"
      ]
    },
    {
      "cell_type": "code",
      "metadata": {
        "id": "G1lehhl0K-6b",
        "outputId": "4fb9ad91-9cc0-4f74-945a-7fa8e8cf2729",
        "colab": {
          "base_uri": "https://localhost:8080/",
          "height": 53
        }
      },
      "source": [
        "imgs = imgs.flatten(['C', 'H', 'W'], 'features')\n",
        "print(imgs.names)\n",
        "\n",
        "imgs = imgs.unflatten('features', (('C', 2), ('H', 2), ('W', 2)))\n",
        "print(imgs.names)"
      ],
      "execution_count": 20,
      "outputs": [
        {
          "output_type": "stream",
          "text": [
            "('N', 'features')\n",
            "('N', 'C', 'H', 'W')\n"
          ],
          "name": "stdout"
        }
      ]
    },
    {
      "cell_type": "markdown",
      "metadata": {
        "id": "IiU28f-cK-6d"
      },
      "source": [
        "Autograd support\n",
        "----------------\n",
        "\n",
        "Autograd currently ignores names on all tensors and just treats them like\n",
        "regular tensors. Gradient computation is correct but we lose the safety that\n",
        "names give us. It is on the roadmap to introduce handling of names to\n",
        "autograd.\n",
        "\n"
      ]
    },
    {
      "cell_type": "code",
      "metadata": {
        "id": "NdwL_IGFK-6d",
        "outputId": "2c6acd1b-38ab-47b4-c967-b2e1e72d51e3",
        "colab": {
          "base_uri": "https://localhost:8080/",
          "height": 109
        }
      },
      "source": [
        "x = torch.randn(3, names=('D',))\n",
        "weight = torch.randn(3, names=('D',), requires_grad=True)\n",
        "loss = (x - weight).abs()\n",
        "grad_loss = torch.randn(3)\n",
        "loss.backward(grad_loss)\n",
        "\n",
        "correct_grad = weight.grad.clone()\n",
        "print(correct_grad)  # Unnamed for now. Will be named in the future\n",
        "\n",
        "weight.grad.zero_()\n",
        "grad_loss = grad_loss.refine_names('C')\n",
        "loss = (x - weight).abs()\n",
        "# Ideally we'd check that the names of loss and grad_loss match, but we don't\n",
        "# yet\n",
        "loss.backward(grad_loss)\n",
        "\n",
        "print(weight.grad)  # still unnamed\n",
        "assert torch.allclose(weight.grad, correct_grad)"
      ],
      "execution_count": 21,
      "outputs": [
        {
          "output_type": "stream",
          "text": [
            "tensor([ 1.5406, -2.6951,  0.4543])\n",
            "tensor([ 1.5406, -2.6951,  0.4543])\n"
          ],
          "name": "stdout"
        },
        {
          "output_type": "stream",
          "text": [
            "/usr/local/lib/python3.6/dist-packages/torch/autograd/__init__.py:127: UserWarning: Autograd was passed a named grad tensor with dims ['C']. Autograd does not yet support named tensor semantics, so all names will be ignored. In practice all computed gradients will still be correct according to regular tensor semantics. (Triggered internally at  /pytorch/torch/csrc/autograd/python_engine.cpp:172.)\n",
            "  allow_unreachable=True)  # allow_unreachable flag\n"
          ],
          "name": "stderr"
        }
      ]
    },
    {
      "cell_type": "markdown",
      "metadata": {
        "id": "U-Ice_5OK-6f"
      },
      "source": [
        "Other supported (and unsupported) features\n",
        "------------------------------------------\n",
        "\n",
        "`See here <https://pytorch.org/docs/stable/named_tensor.html>`_ for a\n",
        "detailed breakdown of what is supported with the 1.3 release.\n",
        "\n",
        "In particular, we want to call out three important features that are not\n",
        "currently supported:\n",
        "\n",
        "- Saving or loading named tensors via ``torch.save`` or ``torch.load``\n",
        "- Multi-processing via ``torch.multiprocessing``\n",
        "- JIT support; for example, the following will error\n",
        "\n"
      ]
    },
    {
      "cell_type": "code",
      "metadata": {
        "id": "S9BmrmEJK-6f",
        "outputId": "eeedce9b-2a4c-42df-e8d1-7a13b99f0a64",
        "colab": {
          "base_uri": "https://localhost:8080/",
          "height": 35
        }
      },
      "source": [
        "imgs_named = torch.randn(1, 2, 2, 3, names=('N', 'C', 'H', 'W'))\n",
        "\n",
        "\n",
        "@torch.jit.script\n",
        "def fn(x):\n",
        "    return x\n",
        "\n",
        "\n",
        "catch_error(lambda: fn(imgs_named))"
      ],
      "execution_count": 22,
      "outputs": [
        {
          "output_type": "stream",
          "text": [
            "NYI: Named tensors are currently unsupported in TorchScript. As a  workaround please drop names via `tensor = tensor.rename(None)`.\n"
          ],
          "name": "stdout"
        }
      ]
    },
    {
      "cell_type": "markdown",
      "metadata": {
        "id": "y0bN7WqrK-6h"
      },
      "source": [
        "As a workaround, please drop names via ``tensor = tensor.rename(None)``\n",
        "before using anything that does not yet support named tensors.\n",
        "\n",
        "Longer example: Multi-head attention\n",
        "--------------------------------------\n",
        "\n",
        "Now we'll go through a complete example of implementing a common\n",
        "PyTorch ``nn.Module``: multi-head attention. We assume the reader is already\n",
        "familiar with multi-head attention; for a refresher, check out\n",
        "`this explanation <https://nlp.seas.harvard.edu/2018/04/03/attention.html>`_\n",
        "or\n",
        "`this explanation <http://jalammar.github.io/illustrated-transformer/>`_.\n",
        "\n",
        "We adapt the implementation of multi-head attention from\n",
        "`ParlAI <https://github.com/facebookresearch/ParlAI>`_; specifically\n",
        "`here <https://github.com/facebookresearch/ParlAI/blob/f7db35cba3f3faf6097b3e6b208442cd564783d9/parlai/agents/transformer/modules.py#L907>`_.\n",
        "Read through the code at that example; then, compare with the code below,\n",
        "noting that there are four places labeled (I), (II), (III), and (IV), where\n",
        "using named tensors enables more readable code; we will dive into each of\n",
        "these after the code block.\n",
        "\n"
      ]
    },
    {
      "cell_type": "code",
      "metadata": {
        "id": "M4pJIbGPK-6i"
      },
      "source": [
        "import torch.nn as nn\n",
        "import torch.nn.functional as F\n",
        "import math\n",
        "\n",
        "\n",
        "class MultiHeadAttention(nn.Module):\n",
        "    def __init__(self, n_heads, dim, dropout=0):\n",
        "        super(MultiHeadAttention, self).__init__()\n",
        "        self.n_heads = n_heads\n",
        "        self.dim = dim\n",
        "\n",
        "        self.attn_dropout = nn.Dropout(p=dropout)\n",
        "        self.q_lin = nn.Linear(dim, dim)\n",
        "        self.k_lin = nn.Linear(dim, dim)\n",
        "        self.v_lin = nn.Linear(dim, dim)\n",
        "        nn.init.xavier_normal_(self.q_lin.weight)\n",
        "        nn.init.xavier_normal_(self.k_lin.weight)\n",
        "        nn.init.xavier_normal_(self.v_lin.weight)\n",
        "        self.out_lin = nn.Linear(dim, dim)\n",
        "        nn.init.xavier_normal_(self.out_lin.weight)\n",
        "\n",
        "    def forward(self, query, key=None, value=None, mask=None):\n",
        "        # (I)\n",
        "        query = query.refine_names(..., 'T', 'D')\n",
        "        self_attn = key is None and value is None\n",
        "        if self_attn:\n",
        "            mask = mask.refine_names(..., 'T')\n",
        "        else:\n",
        "            mask = mask.refine_names(..., 'T', 'T_key')  # enc attn\n",
        "\n",
        "        dim = query.size('D')\n",
        "        assert dim == self.dim, \\\n",
        "            f'Dimensions do not match: {dim} query vs {self.dim} configured'\n",
        "        assert mask is not None, 'Mask is None, please specify a mask'\n",
        "        n_heads = self.n_heads\n",
        "        dim_per_head = dim // n_heads\n",
        "        scale = math.sqrt(dim_per_head)\n",
        "\n",
        "        # (II)\n",
        "        def prepare_head(tensor):\n",
        "            tensor = tensor.refine_names(..., 'T', 'D')\n",
        "            return (tensor.unflatten('D', [('H', n_heads), ('D_head', dim_per_head)])\n",
        "                          .align_to(..., 'H', 'T', 'D_head'))\n",
        "\n",
        "        assert value is None\n",
        "        if self_attn:\n",
        "            key = value = query\n",
        "        elif value is None:\n",
        "            # key and value are the same, but query differs\n",
        "            key = key.refine_names(..., 'T', 'D')\n",
        "            value = key\n",
        "        dim = key.size('D')\n",
        "\n",
        "        # Distinguish between query_len (T) and key_len (T_key) dims.\n",
        "        k = prepare_head(self.k_lin(key)).rename(T='T_key')\n",
        "        v = prepare_head(self.v_lin(value)).rename(T='T_key')\n",
        "        q = prepare_head(self.q_lin(query))\n",
        "\n",
        "        dot_prod = q.div_(scale).matmul(k.align_to(..., 'D_head', 'T_key'))\n",
        "        dot_prod.refine_names(..., 'H', 'T', 'T_key')  # just a check\n",
        "\n",
        "        # (III)\n",
        "        attn_mask = (mask == 0).align_as(dot_prod)\n",
        "        dot_prod.masked_fill_(attn_mask, -float(1e20))\n",
        "\n",
        "        attn_weights = self.attn_dropout(F.softmax(dot_prod / scale,\n",
        "                                                   dim='T_key'))\n",
        "\n",
        "        # (IV)\n",
        "        attentioned = (\n",
        "            attn_weights.matmul(v).refine_names(..., 'H', 'T', 'D_head')\n",
        "            .align_to(..., 'T', 'H', 'D_head')\n",
        "            .flatten(['H', 'D_head'], 'D')\n",
        "        )\n",
        "\n",
        "        return self.out_lin(attentioned).refine_names(..., 'T', 'D')"
      ],
      "execution_count": 23,
      "outputs": []
    },
    {
      "cell_type": "markdown",
      "metadata": {
        "id": "9oOCn9OZK-6j"
      },
      "source": [
        "**(I) Refining the input tensor dims**\n",
        "\n"
      ]
    },
    {
      "cell_type": "code",
      "metadata": {
        "id": "QENhXx0BK-6k"
      },
      "source": [
        "def forward(self, query, key=None, value=None, mask=None):\n",
        "    # (I)\n",
        "    query = query.refine_names(..., 'T', 'D')"
      ],
      "execution_count": 24,
      "outputs": []
    },
    {
      "cell_type": "markdown",
      "metadata": {
        "id": "MqfNsHNVK-6m"
      },
      "source": [
        "The ``query = query.refine_names(..., 'T', 'D')`` serves as enforcable documentation\n",
        "and lifts input dimensions to being named. It checks that the last two dimensions\n",
        "can be refined to ``['T', 'D']``, preventing potentially silent or confusing size\n",
        "mismatch errors later down the line.\n",
        "\n",
        "**(II)  Manipulating dimensions in prepare_head**\n",
        "\n"
      ]
    },
    {
      "cell_type": "code",
      "metadata": {
        "id": "IOAK3gThK-6m"
      },
      "source": [
        "# (II)\n",
        "def prepare_head(tensor):\n",
        "    tensor = tensor.refine_names(..., 'T', 'D')\n",
        "    return (tensor.unflatten('D', [('H', n_heads), ('D_head', dim_per_head)])\n",
        "                  .align_to(..., 'H', 'T', 'D_head'))"
      ],
      "execution_count": 25,
      "outputs": []
    },
    {
      "cell_type": "markdown",
      "metadata": {
        "id": "EcR98HndK-6o"
      },
      "source": [
        "The first thing to note is how the code clearly states the input and\n",
        "output dimensions: the input tensor must end with the ``T`` and ``D`` dims\n",
        "and the output tensor ends in ``H``, ``T``, and ``D_head`` dims.\n",
        "\n",
        "The second thing to note is how clearly the code describes what is going on.\n",
        "prepare_head takes the key, query, and value and splits the embedding dim into\n",
        "multiple heads, finally rearranging the dim order to be ``[..., 'H', 'T', 'D_head']``.\n",
        "ParlAI implements ``prepare_head`` as the following, using ``view`` and ``transpose``\n",
        "operations:\n",
        "\n"
      ]
    },
    {
      "cell_type": "code",
      "metadata": {
        "id": "HRebJ0HKK-6p"
      },
      "source": [
        "def prepare_head(tensor):\n",
        "    # input is [batch_size, seq_len, n_heads * dim_per_head]\n",
        "    # output is [batch_size * n_heads, seq_len, dim_per_head]\n",
        "    batch_size, seq_len, _ = tensor.size()\n",
        "    tensor = tensor.view(batch_size, tensor.size(1), n_heads, dim_per_head)\n",
        "    tensor = (\n",
        "        tensor.transpose(1, 2)\n",
        "        .contiguous()\n",
        "        .view(batch_size * n_heads, seq_len, dim_per_head)\n",
        "    )\n",
        "    return tensor"
      ],
      "execution_count": 26,
      "outputs": []
    },
    {
      "cell_type": "markdown",
      "metadata": {
        "id": "0TQI4MQpK-6r"
      },
      "source": [
        "Our named tensor variant uses ops that, though more verbose, have more\n",
        "semantic meaning than ``view`` and ``transpose`` and includes enforcable\n",
        "documentation in the form of names.\n",
        "\n",
        "**(III) Explicit broadcasting by names**\n",
        "\n"
      ]
    },
    {
      "cell_type": "code",
      "metadata": {
        "id": "6sJuY1U4K-6s"
      },
      "source": [
        "def ignore():\n",
        "    # (III)\n",
        "    attn_mask = (mask == 0).align_as(dot_prod)\n",
        "    dot_prod.masked_fill_(attn_mask, -float(1e20))"
      ],
      "execution_count": 27,
      "outputs": []
    },
    {
      "cell_type": "markdown",
      "metadata": {
        "id": "jTdGHTCCK-6t"
      },
      "source": [
        "``mask`` usually has dims ``[N, T]`` (in the case of self attention) or\n",
        "``[N, T, T_key]`` (in the case of encoder attention) while ``dot_prod``\n",
        "has dims ``[N, H, T, T_key]``. To make ``mask`` broadcast correctly with\n",
        "``dot_prod``, we would usually `unsqueeze` dims ``1`` and ``-1`` in the case\n",
        "of self attention or ``unsqueeze`` dim ``1`` in the case of encoder\n",
        "attention. Using named tensors, we simply align ``attn_mask`` to ``dot_prod``\n",
        "using ``align_as`` and stop worrying about where to ``unsqueeze`` dims.\n",
        "\n",
        "**(IV) More dimension manipulation using align_to and flatten**\n",
        "\n"
      ]
    },
    {
      "cell_type": "code",
      "metadata": {
        "id": "ycOdb-TcK-6u"
      },
      "source": [
        "def ignore():\n",
        "    # (IV)\n",
        "    attentioned = (\n",
        "        attn_weights.matmul(v).refine_names(..., 'H', 'T', 'D_head')\n",
        "        .align_to(..., 'T', 'H', 'D_head')\n",
        "        .flatten(['H', 'D_head'], 'D')\n",
        "    )"
      ],
      "execution_count": 28,
      "outputs": []
    },
    {
      "cell_type": "markdown",
      "metadata": {
        "id": "aXLm-u-AK-6v"
      },
      "source": [
        "Here, as in (II), ``align_to`` and ``flatten`` are more semantically\n",
        "meaningful than ``view`` and ``transpose`` (despite being more verbose).\n",
        "\n",
        "Running the example\n",
        "-------------------\n",
        "\n"
      ]
    },
    {
      "cell_type": "code",
      "metadata": {
        "id": "FU3FbZn3K-6w",
        "outputId": "dc806f09-34af-4fb9-a6ae-4187763a2f19",
        "colab": {
          "base_uri": "https://localhost:8080/",
          "height": 35
        }
      },
      "source": [
        "n, t, d, h = 7, 5, 2 * 3, 3\n",
        "query = torch.randn(n, t, d, names=('N', 'T', 'D'))\n",
        "mask = torch.ones(n, t, names=('N', 'T'))\n",
        "attn = MultiHeadAttention(h, d)\n",
        "output = attn(query, mask=mask)\n",
        "# works as expected!\n",
        "print(output.names)"
      ],
      "execution_count": 29,
      "outputs": [
        {
          "output_type": "stream",
          "text": [
            "('N', 'T', 'D')\n"
          ],
          "name": "stdout"
        }
      ]
    },
    {
      "cell_type": "markdown",
      "metadata": {
        "id": "dQqtDsnuK-6y"
      },
      "source": [
        "The above works as expected. Furthermore, note that in the code we\n",
        "did not mention the name of the batch dimension at all. In fact,\n",
        "our ``MultiHeadAttention`` module is agnostic to the existence of batch\n",
        "dimensions.\n",
        "\n"
      ]
    },
    {
      "cell_type": "code",
      "metadata": {
        "id": "Zhcp3mt1K-6y",
        "outputId": "076a8d50-ad3e-4cbc-d1cd-a12fc5772b75",
        "colab": {
          "base_uri": "https://localhost:8080/",
          "height": 35
        }
      },
      "source": [
        "query = torch.randn(t, d, names=('T', 'D'))\n",
        "mask = torch.ones(t, names=('T',))\n",
        "output = attn(query, mask=mask)\n",
        "print(output.names)"
      ],
      "execution_count": 30,
      "outputs": [
        {
          "output_type": "stream",
          "text": [
            "('T', 'D')\n"
          ],
          "name": "stdout"
        }
      ]
    },
    {
      "cell_type": "markdown",
      "metadata": {
        "id": "nuL53nN5K-60"
      },
      "source": [
        "Conclusion\n",
        "----------\n",
        "\n",
        "Thank you for reading! Named tensors are still very much in development;\n",
        "if you have feedback and/or suggestions for improvement, please let us\n",
        "know by creating `an issue <https://github.com/pytorch/pytorch/issues>`_.\n",
        "\n"
      ]
    }
  ]
}